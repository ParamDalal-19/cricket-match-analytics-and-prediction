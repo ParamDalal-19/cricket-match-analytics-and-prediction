{
 "cells": [
  {
   "cell_type": "code",
   "execution_count": 1,
   "id": "initial_id",
   "metadata": {
    "collapsed": true,
    "ExecuteTime": {
     "end_time": "2023-10-17T03:49:21.088628400Z",
     "start_time": "2023-10-17T03:48:06.880862300Z"
    }
   },
   "outputs": [],
   "source": [
    "import pandas as pd\n",
    "df1 = pd.read_excel('cric_data.xlsx')\n",
    "df2 = pd.read_excel('main_dataset_with_strike_rate.xlsx')\n",
    "df3 = pd.read_excel('../PHASE - 1 - DATA EXTRACTION/unique_player_data.xlsx')"
   ]
  },
  {
   "cell_type": "code",
   "execution_count": 2,
   "outputs": [],
   "source": [
    "# Merge df1 and df2 using multiple columns in sequence\n",
    "merged_df = df1.merge(df2, on=['Match', 'Over', 'Delivery'])\n",
    "\n",
    "# Find respective rows in df3 based on 'Player Name' column\n",
    "consistency_df = merged_df.merge(df3, left_on='Batter_full_name', right_on='Player Name', how='left')\n",
    "\n",
    "# Save the result to a new Excel file named 'consistency'\n",
    "consistency_df.to_excel('consistency.xlsx', index=False)"
   ],
   "metadata": {
    "collapsed": false,
    "ExecuteTime": {
     "end_time": "2023-10-17T04:12:53.520585300Z",
     "start_time": "2023-10-17T03:49:21.090623Z"
    }
   },
   "id": "282980208dd022ba"
  },
  {
   "cell_type": "code",
   "execution_count": 2,
   "outputs": [],
   "source": [],
   "metadata": {
    "collapsed": false,
    "ExecuteTime": {
     "end_time": "2023-10-17T04:12:53.843825100Z",
     "start_time": "2023-10-17T04:12:53.493314500Z"
    }
   },
   "id": "35640d4378478938"
  }
 ],
 "metadata": {
  "kernelspec": {
   "display_name": "Python 3",
   "language": "python",
   "name": "python3"
  },
  "language_info": {
   "codemirror_mode": {
    "name": "ipython",
    "version": 2
   },
   "file_extension": ".py",
   "mimetype": "text/x-python",
   "name": "python",
   "nbconvert_exporter": "python",
   "pygments_lexer": "ipython2",
   "version": "2.7.6"
  }
 },
 "nbformat": 4,
 "nbformat_minor": 5
}
