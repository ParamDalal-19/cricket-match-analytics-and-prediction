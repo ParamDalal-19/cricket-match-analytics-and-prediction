{
 "cells": [
  {
   "cell_type": "code",
   "execution_count": 1,
   "id": "initial_id",
   "metadata": {
    "collapsed": true,
    "ExecuteTime": {
     "end_time": "2023-10-16T14:47:27.268726100Z",
     "start_time": "2023-10-16T14:46:58.453708900Z"
    }
   },
   "outputs": [
    {
     "data": {
      "text/plain": "     Match               Inning  Over  Delivery     Batter    Bowler  \\\n0  1082591  Sunrisers Hyderabad     0         1  DA Warner  TS Mills   \n1  1082591  Sunrisers Hyderabad     0         2  DA Warner  TS Mills   \n2  1082591  Sunrisers Hyderabad     0         3  DA Warner  TS Mills   \n3  1082591  Sunrisers Hyderabad     0         4  DA Warner  TS Mills   \n4  1082591  Sunrisers Hyderabad     0         5  DA Warner  TS Mills   \n\n  Non-Striker  Runs  Extras  Total Runs  Total Player Out Wicket Kind Fielder  \n0    S Dhawan     0       0           0      0        NaN         NaN     NaN  \n1    S Dhawan     0       0           0      0        NaN         NaN     NaN  \n2    S Dhawan     4       0           4      4        NaN         NaN     NaN  \n3    S Dhawan     0       0           0      4        NaN         NaN     NaN  \n4    S Dhawan     0       2           2      6        NaN         NaN     NaN  ",
      "text/html": "<div>\n<style scoped>\n    .dataframe tbody tr th:only-of-type {\n        vertical-align: middle;\n    }\n\n    .dataframe tbody tr th {\n        vertical-align: top;\n    }\n\n    .dataframe thead th {\n        text-align: right;\n    }\n</style>\n<table border=\"1\" class=\"dataframe\">\n  <thead>\n    <tr style=\"text-align: right;\">\n      <th></th>\n      <th>Match</th>\n      <th>Inning</th>\n      <th>Over</th>\n      <th>Delivery</th>\n      <th>Batter</th>\n      <th>Bowler</th>\n      <th>Non-Striker</th>\n      <th>Runs</th>\n      <th>Extras</th>\n      <th>Total Runs</th>\n      <th>Total</th>\n      <th>Player Out</th>\n      <th>Wicket Kind</th>\n      <th>Fielder</th>\n    </tr>\n  </thead>\n  <tbody>\n    <tr>\n      <th>0</th>\n      <td>1082591</td>\n      <td>Sunrisers Hyderabad</td>\n      <td>0</td>\n      <td>1</td>\n      <td>DA Warner</td>\n      <td>TS Mills</td>\n      <td>S Dhawan</td>\n      <td>0</td>\n      <td>0</td>\n      <td>0</td>\n      <td>0</td>\n      <td>NaN</td>\n      <td>NaN</td>\n      <td>NaN</td>\n    </tr>\n    <tr>\n      <th>1</th>\n      <td>1082591</td>\n      <td>Sunrisers Hyderabad</td>\n      <td>0</td>\n      <td>2</td>\n      <td>DA Warner</td>\n      <td>TS Mills</td>\n      <td>S Dhawan</td>\n      <td>0</td>\n      <td>0</td>\n      <td>0</td>\n      <td>0</td>\n      <td>NaN</td>\n      <td>NaN</td>\n      <td>NaN</td>\n    </tr>\n    <tr>\n      <th>2</th>\n      <td>1082591</td>\n      <td>Sunrisers Hyderabad</td>\n      <td>0</td>\n      <td>3</td>\n      <td>DA Warner</td>\n      <td>TS Mills</td>\n      <td>S Dhawan</td>\n      <td>4</td>\n      <td>0</td>\n      <td>4</td>\n      <td>4</td>\n      <td>NaN</td>\n      <td>NaN</td>\n      <td>NaN</td>\n    </tr>\n    <tr>\n      <th>3</th>\n      <td>1082591</td>\n      <td>Sunrisers Hyderabad</td>\n      <td>0</td>\n      <td>4</td>\n      <td>DA Warner</td>\n      <td>TS Mills</td>\n      <td>S Dhawan</td>\n      <td>0</td>\n      <td>0</td>\n      <td>0</td>\n      <td>4</td>\n      <td>NaN</td>\n      <td>NaN</td>\n      <td>NaN</td>\n    </tr>\n    <tr>\n      <th>4</th>\n      <td>1082591</td>\n      <td>Sunrisers Hyderabad</td>\n      <td>0</td>\n      <td>5</td>\n      <td>DA Warner</td>\n      <td>TS Mills</td>\n      <td>S Dhawan</td>\n      <td>0</td>\n      <td>2</td>\n      <td>2</td>\n      <td>6</td>\n      <td>NaN</td>\n      <td>NaN</td>\n      <td>NaN</td>\n    </tr>\n  </tbody>\n</table>\n</div>"
     },
     "execution_count": 1,
     "metadata": {},
     "output_type": "execute_result"
    }
   ],
   "source": [
    "import pandas as pd\n",
    "\n",
    "# Load your Excel data into a pandas DataFrame\n",
    "df = pd.read_excel(\"../PHASE - 1 - DATA EXTRACTION/cric_data.xlsx\")\n",
    "df.head()"
   ]
  },
  {
   "cell_type": "code",
   "execution_count": 4,
   "outputs": [
    {
     "name": "stdout",
     "output_type": "stream",
     "text": [
      "          Match                 Inning  Over  Delivery           Batter  \\\n",
      "107252   335982  Kolkata Knight Riders     5         2       SC Ganguly   \n",
      "107293   335982  Kolkata Knight Riders    12         1       RT Ponting   \n",
      "107325   335982  Kolkata Knight Riders    17         1        DJ Hussey   \n",
      "107336   335982  Kolkata Knight Riders    18         6  Mohammad Hafeez   \n",
      "107342   335982  Kolkata Knight Riders    19         6      BB McCullum   \n",
      "...         ...                    ...   ...       ...              ...   \n",
      "107044  1370353         Gujarat Titans     6         6     Shubman Gill   \n",
      "107088  1370353         Gujarat Titans    13         6          WP Saha   \n",
      "107121  1370353         Gujarat Titans    19         3  B Sai Sudharsan   \n",
      "107123  1370353         Gujarat Titans    19         5        HH Pandya   \n",
      "107124  1370353         Gujarat Titans    19         6      Rashid Khan   \n",
      "\n",
      "             Bowler      Non-Striker  Runs  Extras  Total Runs  Total  \\\n",
      "107252       Z Khan      BB McCullum     0       0           0     61   \n",
      "107293    JH Kallis      BB McCullum     0       0           0    112   \n",
      "107325    AA Noffke      BB McCullum     0       0           0    172   \n",
      "107336    JH Kallis      BB McCullum     4       0           4    200   \n",
      "107342      P Kumar  Mohammad Hafeez     6       0           6    222   \n",
      "...             ...              ...   ...     ...         ...    ...   \n",
      "107044    RA Jadeja          WP Saha     0       0           0     67   \n",
      "107088    DL Chahar  B Sai Sudharsan     0       0           0    131   \n",
      "107121  M Pathirana        HH Pandya     0       0           0    212   \n",
      "107123  M Pathirana      Rashid Khan     0       1           1    214   \n",
      "107124  M Pathirana        HH Pandya     0       0           0    214   \n",
      "\n",
      "             Player Out Wicket Kind     Fielder  CumulativeRuns  \\\n",
      "107252       SC Ganguly      caught   JH Kallis              10   \n",
      "107293       RT Ponting      caught     P Kumar              20   \n",
      "107325        DJ Hussey      caught    CL White              12   \n",
      "107336              NaN         NaN         NaN               5   \n",
      "107342              NaN         NaN         NaN             158   \n",
      "...                 ...         ...         ...             ...   \n",
      "107044     Shubman Gill     stumped    MS Dhoni              39   \n",
      "107088          WP Saha      caught    MS Dhoni              54   \n",
      "107121  B Sai Sudharsan         lbw         NaN              96   \n",
      "107123              NaN         NaN         NaN              21   \n",
      "107124      Rashid Khan      caught  RD Gaikwad               0   \n",
      "\n",
      "        CumulativeDeliveries  StrikeRate  \n",
      "107252                    12   83.333333  \n",
      "107293                    20  100.000000  \n",
      "107325                    12  100.000000  \n",
      "107336                     3  166.666667  \n",
      "107342                    77  205.194805  \n",
      "...                      ...         ...  \n",
      "107044                    20  195.000000  \n",
      "107088                    40  135.000000  \n",
      "107121                    48  200.000000  \n",
      "107123                    12  175.000000  \n",
      "107124                     2    0.000000  \n",
      "\n",
      "[15400 rows x 17 columns]\n"
     ]
    }
   ],
   "source": [
    "\n",
    "# Sort the DataFrame by \"Match\" and \"Inning\" (assuming these columns exist)\n",
    "df = df.sort_values(by=[\"Match\", \"Inning\"])\n",
    "\n",
    "# Calculate the cumulative runs and deliveries for each batsman\n",
    "df['CumulativeRuns'] = df.groupby(['Match', 'Inning', 'Batter'])['Runs'].cumsum()\n",
    "df['CumulativeDeliveries'] = df.groupby(['Match', 'Inning', 'Batter'])['Delivery'].cumcount() + 1\n",
    "\n",
    "# Calculate the strike rate for each delivery (assuming there are no divisions by zero)\n",
    "df['StrikeRate'] = (df['CumulativeRuns'] / df['CumulativeDeliveries']) * 100\n",
    "\n",
    "# Create a new DataFrame with only the latest strike rate for each batter\n",
    "latest_strike_rate_df = df.drop_duplicates(['Match', 'Batter'], keep='last')\n",
    "\n",
    "# Print or export the DataFrame as needed\n",
    "print(latest_strike_rate_df)"
   ],
   "metadata": {
    "collapsed": false,
    "ExecuteTime": {
     "end_time": "2023-10-16T14:52:09.986986600Z",
     "start_time": "2023-10-16T14:52:09.744844900Z"
    }
   },
   "id": "a4cbdf6af9d35cf5"
  },
  {
   "cell_type": "code",
   "execution_count": 5,
   "outputs": [],
   "source": [
    "# Merge the latest strike rate back into the main dataset\n",
    "main_df = df.merge(latest_strike_rate_df[[\"Match\", \"Batter\", \"StrikeRate\"]], on=[\"Match\", \"Batter\"], how=\"left\")\n",
    "\n",
    "# Save the main dataset with the added strike rate as a new Excel file\n",
    "main_df.to_excel(\"main_dataset_with_strike_rate.xlsx\", index=False)"
   ],
   "metadata": {
    "collapsed": false,
    "ExecuteTime": {
     "end_time": "2023-10-16T14:53:52.319631300Z",
     "start_time": "2023-10-16T14:52:31.122766900Z"
    }
   },
   "id": "889c07625dcd9361"
  },
  {
   "cell_type": "code",
   "execution_count": 26,
   "outputs": [
    {
     "name": "stdout",
     "output_type": "stream",
     "text": [
      "start prog\n",
      "end read\n",
      "start loop\n",
      "start if\n",
      "[1]\n"
     ]
    }
   ],
   "source": [
    "# Load the Excel sheet into a DataFrame\n",
    "\n",
    "df = pd.read_excel('cric_data.xlsx')\n",
    "\n",
    "year = 1\n",
    "player = {}\n",
    "match = 0\n",
    "final_col = []\n",
    "\n",
    "# Iterate through the rows in the Excel sheet\n",
    "for index, row in df.iterrows():\n",
    "    match_col_value = row['Match']\n",
    "    batter_col_value = row['Batter']\n",
    "    year_col_value = row['Year Of Match']\n",
    "    if year == 1:\n",
    "        year = year_col_value\n",
    "        player[batter_col_value] = 1\n",
    "        final_col.append(player[batter_col_value])\n",
    "    elif year_col_value != year:\n",
    "        player = {}\n",
    "        player[batter_col_value] = 1\n",
    "        final_col.append(player[batter_col_value])\n",
    "        \n",
    "    elif match_col_value != match:\n",
    "        # Check if batter data is already in the player dictionary\n",
    "        if batter_col_value in player:\n",
    "            player[batter_col_value] += 1\n",
    "        else:\n",
    "            player[batter_col_value] = 1\n",
    "\n",
    "        final_col.append(player[batter_col_value])\n",
    "\n",
    "    elif match_col_value == match:\n",
    "        final_col.append(player.get(batter_col_value, 0))\n",
    "\n",
    "    match = match_col_value\n",
    "\n",
    "# Now final_col contains the values you want\n"
   ],
   "metadata": {
    "collapsed": false,
    "ExecuteTime": {
     "end_time": "2023-10-16T18:22:34.184049300Z",
     "start_time": "2023-10-16T18:21:42.340833500Z"
    }
   },
   "id": "267dfbb8d41dc219"
  },
  {
   "cell_type": "code",
   "execution_count": null,
   "outputs": [],
   "source": [],
   "metadata": {
    "collapsed": false
   },
   "id": "7af02a6d291539e6"
  }
 ],
 "metadata": {
  "kernelspec": {
   "display_name": "Python 3",
   "language": "python",
   "name": "python3"
  },
  "language_info": {
   "codemirror_mode": {
    "name": "ipython",
    "version": 2
   },
   "file_extension": ".py",
   "mimetype": "text/x-python",
   "name": "python",
   "nbconvert_exporter": "python",
   "pygments_lexer": "ipython2",
   "version": "2.7.6"
  }
 },
 "nbformat": 4,
 "nbformat_minor": 5
}
