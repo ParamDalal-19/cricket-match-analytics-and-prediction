{
 "cells": [
  {
   "cell_type": "code",
   "execution_count": 2,
   "id": "initial_id",
   "metadata": {
    "collapsed": true,
    "ExecuteTime": {
     "end_time": "2023-10-17T11:01:01.746959600Z",
     "start_time": "2023-10-17T11:01:01.690805Z"
    }
   },
   "outputs": [
    {
     "name": "stdout",
     "output_type": "stream",
     "text": [
      "698\n"
     ]
    }
   ],
   "source": [
    "import pandas as pd\n",
    "\n",
    "dct = {}\n",
    "player_dct = {}\n",
    "ls = [['NB Singh', 'Robin Singh'], ['A Manohar', 'Abhinav Manohar'], ['AS Raut', 'Punam Raut'],\n",
    "      ['S Sohal', 'Sunny Sohal'], ['NJ Rimmington', 'Nathan Rimmington'], ['PH Solanki', 'Prashant Solanki'],\n",
    "      ['A Flintoff', 'Andrew Flintoff'], ['P Suyal', 'Pawan Suyal'], ['N Wadhera', 'Nehal Wadhera'],\n",
    "      ['DR Shorey', 'Dhruv Shorey'], ['KMA Paul', 'Keemo Paul'], ['SM Pollock', 'Shaun Pollock'],\n",
    "      ['YS Chahal', 'Yuzvendra Chahal'], ['AN Ahmed', 'Rehan Ahmed'], ['Mohammed Shami', 'Mohammed Shami'],\n",
    "      ['KC Cariappa', 'K. C.'], ['LA Pomersbach', 'Luke Pomersbach'], ['DL Chahar', 'Deepak Chahar'],\n",
    "      ['CR Woakes', 'Chris Woakes'], ['SR Watson', 'Shane Watson'], ['A Mishra', 'Amit Mishra'],\n",
    "      ['AK Markram', 'Aiden Markram'], ['DB Ravi Teja', 'Dwaraka Ravi'], ['A Chopra', 'Aakash Chopra'],\n",
    "      ['DR Martyn', 'Damien Martyn'], ['DJ Jacobs', 'Davy Jacobs'], ['L Ronchi', 'Luke Ronchi'],\n",
    "      ['S Badrinath', 'Subramaniam Badrinath'], ['MW Short', 'Matthew Short'], ['SS Mundhe', 'Shrikant Mundhe'],\n",
    "      ['NT Ellis', 'Nathan Ellis'], ['Monu Kumar', 'Monu Kumar'], ['R Shukla', 'Rahul Shukla'],\n",
    "      ['SW Billings', 'Sam Billings'], ['VG Arora', 'Vaibhav Arora'], ['KH Devdhar', 'Kedar Devdhar'],\n",
    "      ['A Nehra', 'Ashish Nehra'], ['YA Abdulla', 'Yusuf Abdulla'], ['K Goel', 'Karan Goel'],\n",
    "      ['Abdur Razzak', 'Abdul Razzaq'], ['BW Hilfenhaus', 'Ben Hilfenhaus'], ['AR Patel', 'Axar Patel'],\n",
    "      ['PV Tambe', 'Pravin Tambe'], ['RP Singh', 'R. P.'], ['DR Sams', 'Daniel Sams'], ['JM Kemp', 'Justin Kemp'],\n",
    "      ['Mohammad Nabi', 'Mohammad Nabi'], ['IC Porel', 'Ishan Porel'], ['TH David', 'Tim David'],\n",
    "      ['YK Pathan', 'Yusuf Pathan'], ['N Pooran', 'Nicholas Pooran'], ['KAJ Roach', 'Kemar Roach'],\n",
    "      ['CRD Fernando', 'Dilhara Fernando'], ['B Laughlin', 'Ben Laughlin'], ['VY Mahesh', 'Yo Mahesh'],\n",
    "      ['S Narwal', 'Sumit Narwal'], ['C Munro', 'Colin Munro'], ['Mohsin Khan', 'Mohsin Khan'],\n",
    "      ['OF Smith', 'Steve Smith'], ['S Sriram', 'Sridharan Sriram'], ['MA Khote', 'Chennai Super'],\n",
    "      ['T Kohli', 'Taruwar Kohli'], ['L Ablish', 'Love Ablish'], ['AT Carey', 'Alex Carey'],\n",
    "      ['AB Dinda', 'Ashok Dinda'], ['RS Hangargekar', 'Rajvardhan Hangargekar'], ['CJ Green', 'Chris Green'],\n",
    "      ['AD Hales', 'Alex Hales'], ['RM Patidar', 'Rajat Patidar'], ['F du Plessis', 'Faf du'],\n",
    "      ['JM Bairstow', 'Jonny Bairstow'], ['JL Pattinson', 'James Pattinson'], ['A Kumble', 'Anil Kumble'],\n",
    "      ['DM Bravo', 'Darren Bravo'], ['Salman Butt', 'Salman Butt'], ['A Mukund', 'Abhinav Mukund'],\n",
    "      ['V Shankar', 'Vijay Shankar'], ['BR Dunk', 'Ben Dunk'], ['Tilak Varma', 'Tilak Varma'],\n",
    "      ['FA Allen', 'Fabian Allen'], ['LH Ferguson', 'Lockie Ferguson'], ['JP Behrendorff', 'Jason Behrendorff'],\n",
    "      ['EJG Morgan', 'Eoin Morgan'], ['AD Mathews', 'Angelo Mathews'], ['AA Kazi', 'Azim Kazi'],\n",
    "      ['FH Edwards', 'Frank Edwards'], ['Mukesh Kumar', 'Mukesh Kumar'], ['R Sanjay Yadav', 'Sanjay Yadav'],\n",
    "      ['AC Blizzard', 'Aiden Blizzard'], ['CJ Jordan', 'Chris Jordan'], ['JA Richardson', 'Jhye Richardson'],\n",
    "      ['Iqbal Abdulla', 'Iqbal Abdulla'], ['L Balaji', 'Lakshmipathy Balaji'], ['Basil Thampi', 'Basil Thampi'],\n",
    "      ['TD Paine', 'Tim Paine'], ['WA Mota', 'Wilkin Mota'], ['Y Prithvi Raj', 'Prithvi Raj'],\n",
    "      ['R McLaren', 'Ryan McLaren'], ['BB Samantray', 'Biplab Samantray'], ['Liton Das', 'Liton Das'],\n",
    "      ['MJ McClenaghan', 'Mitchell McClenaghan'], ['Mustafizur Rahman', 'Mustafizur Rahman'],\n",
    "      ['AJ Turner', 'Ashton Turner'], ['RS Gavaskar', 'Rohan Gavaskar'], ['KS Bharat', 'K. S.'],\n",
    "      ['Kartik Tyagi', 'Kartik Tyagi'], ['JDP Oram', 'Jacob Oram'], ['SP Narine', 'Sunil Narine'],\n",
    "      ['D Salunkhe', 'Dinesh Salunkhe'], ['SB Jakati', 'Shadab Jakati'], ['HV Patel', 'Harshal Patel'],\n",
    "      ['MJ Guptill', 'Martin Guptill'], ['TP Sudhindra', 'TP Sudhindra'], ['S Aravind', 'Sreenath Aravind'],\n",
    "      ['DH Yagnik', 'Dishant Yagnik'], ['JJ Roy', 'Jason Roy'], ['AS Rajpoot', 'Ankit Rajpoot'],\n",
    "      ['Anmolpreet Singh', 'Anmolpreet Singh'], ['Sunny Singh', 'Sunny Singh'], ['CA Ingram', 'Colin Ingram'],\n",
    "      ['CV Varun', 'Varun Chakravarthy'], ['DJM Short', \"D'Arcy Short\"], ['AA Noffke', 'Ashley Noffke'],\n",
    "      ['KK Cooper', 'Kevin Cooper'], ['MB Parmar', 'Monish Parmar'], ['BE Hendricks', 'Beuran Hendricks'],\n",
    "      ['SK Trivedi', 'Siddharth Trivedi'], ['TU Deshpande', 'Tushar Deshpande'], ['V Pratap Singh', 'Veer Pratap'],\n",
    "      ['MS Wade', 'Matthew Wade'], ['Anirudh Singh', 'Anirudh Singh'], ['Parvez Rasool', 'Parvez Rasool'],\n",
    "      ['Mukesh Choudhary', 'Mukesh Choudhary'], ['AN Ghosh', 'Richa Ghosh'], ['S Ladda', 'Sarabjit Ladda'],\n",
    "      ['KV Sharma', 'Karn Sharma'], ['CR Brathwaite', 'Carlos Brathwaite'], ['A Mithun', 'Abhimanyu Mithun'],\n",
    "      ['C de Grandhomme', 'Colin de'], ['K Khejroliya', 'Kulwant Khejroliya'], ['Yudhvir Singh', 'Yudhvir Singh'],\n",
    "      ['D Kalyankrishna', 'Doddapaneni Kalyankrishna'], ['M Muralitharan', 'Muttiah Muralitharan'],\n",
    "      ['B Indrajith', 'Baba Indrajith'], ['AD Russell', 'Andre Russell'], ['P Dogra', 'Paras Dogra'],\n",
    "      ['GHS Garton', 'George Garton'], ['SS Cottrell', 'Sheldon Cottrell'], ['B Akhil', 'Balachandra Akhil'],\n",
    "      ['R Ashwin', 'Ravichandran Ashwin'], ['KA Pollard', 'Kieron Pollard'], ['RD Chahar', 'Rahul Chahar'],\n",
    "      ['NM Coulter-Nile', 'Nathan Coulter-Nile'], ['A Choudhary', 'Mukesh Choudhary'], ['MR Marsh', 'Mitchell Marsh'],\n",
    "      ['T Thushara', 'Thilan Thushara'], ['BMAJ Mendis', 'Jeevan Mendis'], ['SK Warne', 'Shane Warne'],\n",
    "      ['RJ Peterson', 'Robin Peterson'], ['P Parameswaran', 'Prasanth Parameswaran'],\n",
    "      ['J Suchith', 'Jagadeesha Suchith'], ['JP Faulkner', 'James Faulkner'], ['CJ Ferguson', 'Callum Ferguson'],\n",
    "      ['A Dananjaya', 'Akila Dananjaya'], ['Yuvraj Singh', 'Yuvraj Singh'], ['AP Majumdar', 'Amol Muzumdar'],\n",
    "      ['CJ Dala', 'Junior Dala'], ['AD Mascarenhas', 'Dimitri Mascarenhas'], ['RS Bopara', 'Ravi Bopara'],\n",
    "      ['UA Birla', 'Aryaman Birla'], ['RR Bose', 'Ranadeb Bose'], ['BCJ Cutting', 'Ben Cutting'],\n",
    "      ['Noor Ahmad', 'Noor Ahmad'], ['SC Ganguly', 'Sourav Ganguly'], ['YV Dhull', 'Yash Dhull'],\n",
    "      ['Y Venugopal Rao', 'Venugopal Rao'], ['AUK Pathan', 'Irfan Pathan'], ['S Rana', 'Sneh Rana'],\n",
    "      ['KC Sangakkara', 'Kumar Sangakkara'], ['DG Nalkande', 'Darshan Nalkande'], ['Sohail Tanvir', 'Sohail Tanvir'],\n",
    "      ['DPMD Jayawardene', 'Mahela Jayawardene'], ['M Pathirana', 'Matheesha Pathirana'],\n",
    "      ['T Shamsi', 'Tabraiz Shamsi'], ['TA Boult', 'Trent Boult'], ['WP Saha', 'Wriddhiman Saha'],\n",
    "      ['Gurnoor Brar', 'Gurnoor Brar'], ['SB Styris', 'Scott Styris'], ['J Theron', 'Rusty Theron'],\n",
    "      ['L Ngidi', 'Lungi Ngidi'], ['KL Rahul', 'K. L.'], ['Mujeeb Ur Rahman', 'Mujeeb Ur'],\n",
    "      ['NS Naik', 'Sulakshana Naik'], ['P Amarnath', 'Mohinder Amarnath'], ['Shoaib Ahmed', 'Shoaib Ahmed'],\n",
    "      ['DP Vijaykumar', 'Paidikalva Vijaykumar'], ['P Dharmani', 'Pankaj Dharmani'], ['DJ Hooda', 'Deepak Hooda'],\n",
    "      ['JP Duminy', 'JP Duminy'], ['Kamran Khan', 'Kamran Khan'], ['RK Bhui', 'Ricky Bhui'],\n",
    "      ['SPD Smith', 'Steve Smith'], ['SE Marsh', 'Shaun Marsh'], ['SM Curran', 'Sam Curran'],\n",
    "      ['Kuldeep Yadav', 'Kuldeep Yadav'], ['DP Nannes', 'Dirk Nannes'], ['PA Reddy', 'Papi Reddy'],\n",
    "      ['AT Rayudu', 'Ambati Rayudu'], ['TL Suman', 'Tirumalasetti Suman'], ['LJ Wright', 'Luke Wright'],\n",
    "      ['C Sakariya', 'Chetan Sakariya'], ['SS Tiwary', 'Saurabh Tiwary'], ['Yashpal Singh', 'Yashpal Singh'],\n",
    "      ['Sanvir Singh', 'Sanvir Singh'], ['SB Bangar', 'Sanjay Bangar'], ['Jaskaran Singh', 'Jaskaran Singh'],\n",
    "      ['DA Warner', 'David Warner'], ['PSP Handscomb', 'Peter Handscomb'], ['Mohammad Ashraful', 'Mohammad Ashraful'],\n",
    "      ['IS Sodhi', 'Ish Sodhi'], ['HF Gurney', 'Harry Gurney'], ['Mohammad Asif', 'Mohammad Asif'],\n",
    "      ['T Stubbs', 'Tristan Stubbs'], ['MN Samuels', 'Marlon Samuels'], ['DJ Harris', 'Daniel Harris'],\n",
    "      ['MD Mishra', 'Mohnish Mishra'], ['DT Patil', 'DY Patil'], ['S Sreesanth', 'S. Sreesanth'],\n",
    "      ['Ankit Soni', 'Ankit Soni'], ['TS Mills', 'Tymal Mills'], ['J Syed Mohammad', 'Syed Mohammed'],\n",
    "      ['DT Christian', 'Dan Christian'], ['Harbhajan Singh', 'Harbhajan Singh'], ['B Kumar', 'Bhuvneshwar Kumar'],\n",
    "      ['LR Shukla', 'Laxmi Ratan'], ['R Bhatia', 'Rajat Bhatia'], ['Ankit Sharma', 'Ankit Sharma'],\n",
    "      ['JD Ryder', 'Jesse Ryder'], ['KB Arun Karthik', 'Arun Karthik'], ['K Upadhyay', 'Krishnakant Upadhyay'],\n",
    "      ['STR Binny', 'Stuart Binny'], ['BA Stokes', 'Ben Stokes'], ['J Arunkumar', 'J. Arunkumar'],\n",
    "      ['Azhar Mahmood', 'Azhar Mahmood'], ['MS Dhoni', 'MS Dhoni'], ['Rahmanullah Gurbaz', 'Rahmanullah Gurbaz'],\n",
    "      ['Naveen-ul-Haq', 'Naveen-ul-Haq'], ['AB Barath', 'K. S.'], ['Aman Hakim Khan', 'Aman Hakim'],\n",
    "      ['DL Vettori', 'Daniel Vettori'], ['KP Pietersen', 'Kevin Pietersen'], ['Karanveer Singh', 'Karanveer Singh'],\n",
    "      ['C Ganapathy', 'Chandrasekar Ganapathy'], ['CH Gayle', 'Chris Gayle'], ['TG Southee', 'Tim Southee'],\n",
    "      ['M Vohra', 'Manan Vohra'], ['KK Ahmed', 'Khaleel Ahmed'], ['JE Taylor', 'Jerome Taylor'],\n",
    "      ['SW Tait', 'Shaun Tait'], ['PR Shah', 'Prithvi Shaw'], ['HR Shokeen', 'Hrithik Shokeen'],\n",
    "      ['MS Bisla', 'Manvinder Bisla'], ['SS Prabhudessai', 'Suyash Prabhudessai'], ['Shakib Al Hasan', 'Shakib Al'],\n",
    "      ['SS Agarwal', 'Sam Agarwal'], ['KM Asif', 'KM Asif'], ['MJ Santner', 'Mitchell Santner'],\n",
    "      ['D Padikkal', 'Devdutt Padikkal'], ['Harshit Rana', 'Harshit Rana'], ['CK Kapugedera', 'Chamara Kapugedera'],\n",
    "      ['SA Asnodkar', 'Swapnil Asnodkar'], ['VR Aaron', 'Varun Aaron'], ['RA Bawa', 'Raj Angad'],\n",
    "      ['NL McCullum', 'Nathan McCullum'], ['F Behardien', 'Farhaan Behardien'], ['SE Bond', 'Shane Bond'],\n",
    "      ['S Sandeep Warrier', 'Sandeep Warrier'], ['I Malhotra', 'Ishan Malhotra'], ['MDKJ Perera', 'Kusal Perera'],\n",
    "      ['SK Raina', 'Suresh Raina'], ['CA Pujara', 'Cheteshwar Pujara'], ['PJ Cummins', 'Pat Cummins'],\n",
    "      ['Ramandeep Singh', 'Ramandeep Singh'], ['Navdeep Saini', 'Navdeep Saini'], ['Mayank Dagar', 'Mayank Dagar'],\n",
    "      ['CH Morris', 'Chris Morris'], ['T Natarajan', 'T. Natarajan'], ['AA Jhunjhunwala', 'Abhishek Jhunjhunwala'],\n",
    "      ['Sunny Gupta', 'Sunny Gupta'], ['Umran Malik', 'Umran Malik'], ['A Symonds', 'Andrew Symonds'],\n",
    "      ['VVS Laxman', 'VVS Laxman'], ['JH Kallis', 'Jacques Kallis'], ['YBK Jaiswal', 'Yashasvi Jaiswal'],\n",
    "      ['I Udana', 'Isuru Udana'], ['Vivrant Sharma', 'Vivrant Sharma'], ['AS Yadav', 'Suryakumar Yadav'],\n",
    "      ['M Kartik', 'Murali Kartik'], ['DJ Thornely', 'Dominic Thornely'], ['DJ Willey', 'David Willey'],\n",
    "      ['GR Napier', 'Graham Napier'], ['RK Singh', 'Rinku Singh'], ['JPR Scantlebury-Searles', 'Javon Searles'],\n",
    "      ['JD Unadkat', 'Jaydev Unadkat'], ['SC Kuggeleijn', 'Scott Kuggeleijn'], ['MK Pandey', 'Manish Pandey'],\n",
    "      ['S Gopal', 'Shreyas Gopal'], ['MEK Hussey', 'Michael Hussey'], ['BJ Rohrer', 'Ben Rohrer'],\n",
    "      ['UT Yadav', 'Umesh Yadav'], ['T Banton', 'Tom Banton'], ['Anureet Singh', 'Anureet Singh'],\n",
    "      ['A Tomar', 'Abhijeet Tomar'], ['NLTC Perera', 'Thisara Perera'], ['Sandeep Sharma', 'Sandeep Sharma'],\n",
    "      ['MV Boucher', 'Mark Boucher'], ['RN ten Doeschate', 'Ryan ten'], ['Rashid Khan', 'Rashid Khan'],\n",
    "      ['Virat Singh', 'Virat Singh'], ['KK Nair', 'Karun Nair'], ['Imran Tahir', 'Imran Tahir'],\n",
    "      ['TR Birt', 'Travis Birt'], ['S Randiv', 'Suraj Randiv'], ['T Henderson', 'Thomas Henderson'],\n",
    "      ['RD Gaikwad', 'Ruturaj Gaikwad'], ['MJ Lumb', 'Michael Lumb'], ['JDS Neesham', 'James Neesham'],\n",
    "      ['SSB Magala', 'Sisanda Magala'], ['Arshad Khan', 'Arshad Khan'], ['RS Sodhi', 'Reetinder Singh'],\n",
    "      ['T Mishra', 'Tanmay Mishra'], ['I Sharma', 'Ishant Sharma'], ['Y Nagar', 'Yogesh Nagar'],\n",
    "      ['MA Wood', 'Mark Wood'], ['PD Salt', 'Phil Salt'], ['VS Malik', 'Shoaib Malik'], ['AL Menaria', 'Ashok Menaria'],\n",
    "      ['MG Neser', 'Michael Neser'], ['KD Karthik', 'Dinesh Karthik'], ['RG Sharma', 'Rohit Sharma'],\n",
    "      ['YV Takawale', 'Yogesh Takawale'], ['Kamran Akmal', 'Kamran Akmal'], ['Mohammed Siraj', 'Mohammed Siraj'],\n",
    "      ['DE Bollinger', 'Doug Bollinger'], ['H Klaasen', 'Heinrich Klaasen'], ['DS Lehmann', 'Darren Lehmann'],\n",
    "      ['AA Bilakhia', 'Azhar Bilakhia'], ['MS Gony', 'Manpreet Gony'], ['KS Williamson', 'Kane Williamson'],\n",
    "      ['NV Ojha', 'Naman Ojha'], ['P Chopra', 'Prashant Chopra'], ['KJ Abbott', 'Kyle Abbott'],\n",
    "      ['Shahbaz Ahmed', 'Shahbaz Ahmed'], ['BB Sran', 'Barinder Sran'], ['NA Saini', 'Navdeep Saini'],\n",
    "      ['C Madan', 'Chandan Madan'], ['Gagandeep Singh', 'Gagandeep Singh'], ['RG More', 'Kiran More'],\n",
    "      ['MM Patel', 'Munaf Patel'], ['Vijaykumar Vyshak', 'Vijaykumar Vyshak'], ['SN Thakur', 'Shardul Thakur'],\n",
    "      ['SP Jackson', 'Sheldon Jackson'], ['Shubman Gill', 'Shubman Gill'], ['AM Rahane', 'Ajinkya Rahane'],\n",
    "      ['Gurkeerat Singh', 'Gurkeerat Singh'], ['Tejas Baroka', 'Tejas Baroka'], ['S Dube', 'Shivam Dube'],\n",
    "      ['SD Lad', 'Siddhesh Lad'], ['KA Jamieson', 'Kyle Jamieson'], ['MG Johnson', 'Mitchell Johnson'],\n",
    "      ['JEC Franklin', 'James Franklin'], ['AM Nayar', 'Abhishek Nayar'], ['TM Srivastava', 'Tanmay Srivastava'],\n",
    "      ['Simarjeet Singh', 'Simarjeet Singh'], ['AJ Finch', 'Aaron Finch'], ['SM Harwood', 'Shane Harwood'],\n",
    "      ['B Chipli', 'Bharat Chipli'], ['Harpreet Brar', 'Harpreet Brar'], ['HH Gibbs', 'Herschelle Gibbs'],\n",
    "      ['J Botha', 'Johan Botha'], ['DJG Sammy', 'Daren Sammy'], ['KP Appanna', 'K. P.'],\n",
    "      ['PM Sarvesh Kumar', 'Sarvesh Kumar'], ['R Powell', 'Rovman Powell'], ['S Vidyut', 'Vidyut Sivaramakrishnan'],\n",
    "      ['U Kaul', 'Uday Kaul'], ['M Markande', 'Mayank Markande'], ['RJW Topley', 'Reece Topley'],\n",
    "      ['Swapnil Singh', 'Swapnil Singh'], ['KH Pandya', 'Krunal Pandya'], ['DJ Bravo', 'Dwayne Bravo'],\n",
    "      ['CM Gautam', 'C. M.'], ['D Pretorius', 'Dwaine Pretorius'], ['R Goyal', 'Rajinder Goel'],\n",
    "      ['PJ Sangwan', 'Pradeep Sangwan'], ['Bipul Sharma', 'Bipul Sharma'], ['CJ Anderson', 'Corey Anderson'],\n",
    "      ['W Jaffer', 'Wasim Jaffer'], ['RJ Quiney', 'Rob Quiney'], ['K Kartikeya', 'Kumar Kartikeya'],\n",
    "      ['SB Joshi', 'Sunil Joshi'], ['GJ Bailey', 'George Bailey'], ['Shoaib Akhtar', 'Shoaib Akhtar'],\n",
    "      ['NK Patel', 'Monank Patel'], ['H Das', 'Halhadar Das'], ['LA Carseldine', 'Lee Carseldine'],\n",
    "      ['UBT Chand', 'Unmukt Chand'], ['RR Sarwan', 'Ramnaresh Sarwan'], ['DP Conway', 'Devon Conway'],\n",
    "      ['BA Bhatt', 'Bhargav Bhatt'], ['R Dravid', 'Rahul Dravid'], ['AC Gilchrist', 'Adam Gilchrist'],\n",
    "      ['RR Powar', 'Ramesh Powar'], ['SR Tendulkar', 'Sachin Tendulkar'], ['AC Voges', 'Adam Voges'],\n",
    "      ['Atharva Taide', 'Atharva Taide'], ['A Chandila', 'Ajit Chandila'], ['TM Dilshan', 'Tillakaratne Dilshan'],\n",
    "      ['Abdul Basith', 'Abdul Basith'], ['AP Dole', 'Aditya Dole'], ['HH Pandya', 'Hardik Pandya'],\n",
    "      ['M Rawat', 'Mahesh Rawat'], ['Avesh Khan', 'Avesh Khan'], ['AU Rashid', 'Adil Rashid'],\n",
    "      ['SS Sarkar', 'Soumya Sarkar'], ['Jalaj S Saxena', 'Jalaj Saxena'], ['S Dhawan', 'Shikhar Dhawan'],\n",
    "      ['Q de Kock', 'Quinton de'], ['Pankaj Singh', 'Pankaj Singh'], ['Shoaib Malik', 'Shoaib Malik'],\n",
    "      ['JW Hastings', 'John Hastings'], ['DJ Malan', 'Dawid Malan'], ['GD Phillips', 'Glenn Phillips'],\n",
    "      ['SS Iyer', 'Shreyas Iyer'], ['Ishan Kishan', 'Ishan Kishan'], ['A Badoni', 'Ayush Badoni'],\n",
    "      ['Sachin Baby', 'Sachin Baby'], ['S Kaul', 'Siddarth Kaul'], ['VS Yeligati', 'Vikrant Yeligati'],\n",
    "      ['CK Langeveldt', 'Charl Langeveldt'], ['B Stanlake', 'Billy Stanlake'], ['RA Shaikh', 'Shaik Rasheed'],\n",
    "      ['PP Ojha', 'Pragyan Ojha'], ['AG Paunikar', 'Amit Paunikar'], ['Lalit Yadav', 'Lalit Yadav'],\n",
    "      ['M Morkel', 'Morné Morkel'], ['KS Sharma', 'Karn Sharma'], ['DB Das', 'Debabrata Das'],\n",
    "      ['AD Nath', 'Mohinder Amarnath'], ['JC Archer', 'Jofra Archer'], ['S Tyagi', 'Sudeep Tyagi'],\n",
    "      ['S Chanderpaul', 'Shivnarine Chanderpaul'], ['IR Jaggi', 'Ishank Jaggi'],\n",
    "      ['Mashrafe Mortaza', 'Mashrafe Mortaza'], ['HM Amla', 'Hashim Amla'], ['Suyash Sharma', 'Suyash Sharma'],\n",
    "      ['Yash Thakur', 'Yash Thakur'], ['BJ Hodge', 'Brad Hodge'], ['DA Miller', 'David Miller'],\n",
    "      ['Washington Sundar', 'Washington Sundar'], ['Shashank Singh', 'Shashank Singh'], ['Anuj Rawat', 'Anuj Rawat'],\n",
    "      ['M de Lange', 'Marchant de'], ['MC Juneja', 'Manpreet Juneja'], ['R Tewatia', 'Rahul Tewatia'],\n",
    "      ['A Zampa', 'Adam Zampa'], ['PP Chawla', 'Piyush Chawla'], ['N Jagadeesan', 'Narayan Jagadeesan'],\n",
    "      ['P Negi', 'Pawan Negi'], ['Rasikh Salam', 'Rasikh Salam'], ['Mohit Rathee', 'Mohit Rathee'],\n",
    "      ['KL Nagarkoti', 'Kamlesh Nagarkoti'], ['RA Jadeja', 'Ravindra Jadeja'], ['UT Khawaja', 'Usman Khawaja'],\n",
    "      ['SS Shaikh', 'Shoaib Shaikh'], ['R Sharma', 'Rohit Sharma'], ['RV Gomez', 'Raiphi Gomez'],\n",
    "      ['Younis Khan', 'Younis Khan'], ['O Thomas', 'Oshane Thomas'], ['B Sai Sudharsan', 'Sai Sudharsan'],\n",
    "      ['JR Hopes', 'James Hopes'], ['DS Kulkarni', 'Dhawal Kulkarni'], ['PVD Chameera', 'Dushmantha Chameera'],\n",
    "      ['N Saini', 'Navdeep Saini'], ['SJ Srivastava', 'Shalabh Srivastava'], ['NJ Maddinson', 'Nic Maddinson'],\n",
    "      ['R Rampaul', 'Ravi Rampaul'], ['RR Raje', 'Rajasthan Royals'], ['DNT Zoysa', 'Nuwan Zoysa'],\n",
    "      ['AP Tare', 'Aditya Tare'], ['M Klinger', 'Michael Klinger'], ['R Dhawan', 'Rishi Dhawan'],\n",
    "      ['Anand Rajan', 'Anand Rajan'], ['A Nortje', 'Anrich Nortje'], ['Misbah-ul-Haq', 'Misbah-ul-Haq'],\n",
    "      ['MP Stoinis', 'Marcus Stoinis'], ['MC Henriques', 'Moises Henriques'], ['MF Maharoof', 'Farveez Maharoof'],\n",
    "      ['R Bishnoi', 'Ravi Bishnoi'], ['SM Boland', 'Scott Boland'], ['P Ray Barman', 'Prayas Ray'],\n",
    "      ['Sikandar Raza', 'Sikandar Raza'], ['JC Buttler', 'Jos Buttler'], ['OA Shah', 'Owais Shah'],\n",
    "      ['KR Mayers', 'Kyle Mayers'], ['RR Pant', 'Rishabh Pant'], ['IK Pathan', 'Irfan Pathan'],\n",
    "      ['PK Garg', 'Priyam Garg'], ['M Ntini', 'Makhaya Ntini'], ['AS Roy', 'Jason Roy'],\n",
    "      ['BB McCullum', 'Brendon McCullum'], ['ND Doshi', 'Nayan Doshi'], ['GH Vihari', 'Hanuma Vihari'],\n",
    "      ['AB de Villiers', 'AB de'], ['MK Lomror', 'Mahipal Lomror'], ['SP Fleming', 'Stephen Fleming'],\n",
    "      ['PBB Rajapaksa', 'Bhanuka Rajapaksa'], ['JL Denly', 'Joe Denly'], ['JE Root', 'Joe Root'],\n",
    "      ['MK Tiwary', 'Manoj Tiwary'], ['D du Preez', 'Mignon du'], ['J Yadav', 'Jayant Yadav'],\n",
    "      ['Y Gnaneswara Rao', 'Gnaneswara Rao'], ['Abhishek Sharma', 'Abhishek Sharma'], ['PC Valthaty', 'Paul Valthaty'],\n",
    "      ['R Sathish', 'Rajagopal Sathish'], ['CJ McKay', 'Clint McKay'], ['SL Malinga', 'Lasith Malinga'],\n",
    "      ['Akash Madhwal', 'Akash Madhwal'], ['PA Patel', 'Parthiv Patel'], ['SV Samson', 'Sanju Samson'],\n",
    "      ['GJ Maxwell', 'Glenn Maxwell'], ['ER Dwivedi', 'Eklavya Dwivedi'], ['RE Levi', 'Richard Levi'],\n",
    "      ['JO Holder', 'Jason Holder'], ['VR Iyer', 'Venkatesh Iyer'], ['P Kumar', 'Praveen Kumar'],\n",
    "      ['M Jansen', 'Marco Jansen'], ['P Prasanth', 'Prasanth Parameswaran'], ['OC McCoy', 'Obed McCoy'],\n",
    "      ['AJ Tye', 'Andrew Tye'], ['LI Meriwala', 'Lukman Meriwala'], ['S Kaushik', 'Shivil Kaushik'],\n",
    "      ['RV Uthappa', 'Robin Uthappa'], ['T Taibu', 'Tatenda Taibu'], ['B Lee', 'Brett Lee'],\n",
    "      ['GS Sandhu', 'Gurinder Sandhu'], ['D Wiese', 'David Wiese'], ['SMSM Senanayake', 'Sachithra Senanayake'],\n",
    "      ['RA Tripathi', 'Rahul Tripathi'], ['CL White', 'Cameron White'], ['MN van Wyk', 'Morné van'],\n",
    "      ['M Prasidh Krishna', 'Prasidh Krishna'], ['LPC Silva', 'Chamara Silva'], ['RP Meredith', 'Riley Meredith'],\n",
    "      ['DAJ Bracewell', 'Doug Bracewell'], ['DJ Muthuswami', 'Domnic Joseph'], ['Shivam Mavi', 'Shivam Mavi'],\n",
    "      ['KR Sen', 'Kuldeep Sen'], ['PWH de Silva', 'Wanindu Hasaranga'], ['WPUJC Vaas', 'Chaminda Vaas'],\n",
    "      ['TL Seifert', 'Tim Seifert'], ['X Thalaivan Sargunam', 'Thalaivan Sargunam'], ['MA Agarwal', 'Mayank Agarwal'],\n",
    "      ['E Lewis', 'Evin Lewis'], ['VRV Singh', 'V. R.'], ['DW Steyn', 'Dale Steyn'], ['GC Viljoen', 'Hardus Viljoen'],\n",
    "      ['R Parag', 'Riyan Parag'], ['P Simran Singh', 'Prabhsimran Singh'], ['KMDN Kulasekara', 'Nuwan Kulasekara'],\n",
    "      ['Shivam Sharma', 'Shivam Sharma'], ['A Ashish Reddy', 'Ashish Reddy'], ['Abdul Samad', 'Abdul Samad'],\n",
    "      ['SA Abbott', 'Sean Abbott'], ['Arshdeep Singh', 'Arshdeep Singh'], ['MJ Clarke', 'Michael Clarke'],\n",
    "      ['P Sahu', 'Pardeep Sahu'], ['LE Plunkett', 'Liam Plunkett'], ['ST Jayasuriya', 'Sanath Jayasuriya'],\n",
    "      ['AG Murtaza', 'Ali Murtaza'], ['JR Hazlewood', 'Josh Hazlewood'], ['RR Bhatkal', 'Rajoo Bhatkal'],\n",
    "      ['P Awana', 'Parvinder Awana'], ['Fazalhaq Farooqi', 'Fazalhaq Farooqi'], ['M Ashwin', 'Murugan Ashwin'],\n",
    "      ['Harpreet Singh', 'Harpreet Singh'], ['PP Shaw', 'Prithvi Shaw'], ['Abishek Porel', 'Abishek Porel'],\n",
    "      ['DJ Hussey', 'David Hussey'], ['DR Smith', 'Dwayne Smith'], ['Mandeep Singh', 'Mandeep Singh'],\n",
    "      ['S Anirudha', 'Anirudha Srikkanth'], ['SO Hetmyer', 'Shimron Hetmyer'], ['KW Richardson', 'Kane Richardson'],\n",
    "      ['S Midhun', 'Sudhesan Midhun'], ['MD Shanaka', 'Dasun Shanaka'], ['TK Curran', 'Tom Curran'],\n",
    "      ['HE van der Dussen', 'Rassie van'], ['PN Mankad', 'Prerak Mankad'], ['AM Salvi', 'Aavishkar Salvi'],\n",
    "      ['K Rabada', 'Kagiso Rabada'], ['AR Bawne', 'Ankit Bawne'], ['KM Jadhav', 'Kedar Jadhav'],\n",
    "      ['ML Hayden', 'Matthew Hayden'], ['SP Goswami', 'Shreevats Goswami'], ['GB Hogg', 'Brad Hogg'],\n",
    "      ['AB Agarkar', 'Ajit Agarkar'], ['JJ Bumrah', 'Jasprit Bumrah'], ['RJ Harris', 'Ryan Harris'],\n",
    "      ['SN Khan', 'Sarfaraz Khan'], ['J Little', 'Josh Little'], ['Z Khan', 'Zaheer Khan'],\n",
    "      ['C Nanda', 'Chetanya Nanda'], ['V Kohli', 'Virat Kohli'], ['GD McGrath', 'Glenn McGrath'],\n",
    "      ['GC Smith', 'Graeme Smith'], ['Vishnu Vinod', 'Vishnu Vinod'], ['HC Brook', 'Harry Brook'],\n",
    "      ['JJ van der Wath', 'Johan van'], ['V Sehwag', 'Virender Sehwag'], ['C Green', 'Cameron Green'],\n",
    "      ['WD Parnell', 'Wayne Parnell'], ['CA Lynn', 'Chris Lynn'], ['MG Bracewell', 'Michael Bracewell'],\n",
    "      ['Umar Gul', 'Umar Gul'], ['JM Sharma', 'Jitesh Sharma'], ['A Uniyal', 'Amit Uniyal'],\n",
    "      ['BJ Haddin', 'Brad Haddin'], ['IC Pandey', 'Ishwar Pandey'], ['R Ninan', 'Ryan Ninan'],\n",
    "      ['RE van der Merwe', 'Roelof van'], ['P Dubey', 'Praveen Dubey'], ['MJ Henry', 'Matt Henry'],\n",
    "      ['MM Sharma', 'Mohit Sharma'], ['TM Head', 'Travis Head'], ['VH Zol', 'Vijay Zol'], ['N Rana', 'Nitish Rana'],\n",
    "      ['D Brevis', 'Dewald Brevis'], ['A Singh', 'Arshdeep Singh'], ['AS Joseph', 'Alzarri Joseph'],\n",
    "      ['LRPL Taylor', 'Ross Taylor'], ['RT Ponting', 'Ricky Ponting'], ['Ravi Bishnoi', 'Ravi Bishnoi'],\n",
    "      ['K Santokie', 'Krishmar Santokie'], ['LMP Simmons', 'Lendl Simmons'], ['SA Yadav', 'Suryakumar Yadav'],\n",
    "      ['PD Collingwood', 'Paul Collingwood'], ['AB McDonald', 'Andrew McDonald'],\n",
    "      ['S Lamichhane', 'Sandeep Lamichhane'], ['B Sumanth', 'Bodapati Sumanth'], ['M Theekshana', 'Maheesh Theekshana'],\n",
    "      ['H Sharma', 'Himanshu Sharma'], ['Akash Deep', 'Akash Deep'], ['Dhruv Jurel', 'Dhruv Jurel'],\n",
    "      ['B Geeves', 'Brett Geeves'], ['LS Livingstone', 'Liam Livingstone'], ['SM Katich', 'Simon Katich'],\n",
    "      ['MA Starc', 'Mitchell Starc'], ['RR Rossouw', 'Rilee Rossouw'], ['Joginder Sharma', 'Joginder Sharma'],\n",
    "      ['RW Price', 'Ray Price'], ['S Badree', 'Samuel Badree'], ['R Vinay Kumar', 'Vinay Kumar'],\n",
    "      ['R Shepherd', 'Romario Shepherd'], ['SE Rutherford', 'Sherfane Rutherford'],\n",
    "      ['Mohammad Hafeez', 'Mohammad Hafeez'], ['Shahid Afridi', 'Shahid Afridi'], ['DJ Mitchell', 'Daryl Mitchell'],\n",
    "      ['Nithish Kumar Reddy', 'Nitish Kumar'], ['SB Wagh', 'Steve Waugh'], ['RV Patel', 'Ripal Patel'],\n",
    "      ['M Shahrukh Khan', 'Shahrukh Khan'], ['MM Ali', 'Moeen Ali'], ['FY Fazal', 'Faiz Fazal'],\n",
    "      ['AF Milne', 'Adam Milne'], ['K Yadav', 'Kuldeep Yadav'], ['Yash Dayal', 'Yash Dayal'],\n",
    "      ['S Nadeem', 'Shahbaz Nadeem'], ['SD Chitnis', 'Siddharth Chitnis'], ['JA Morkel', 'Albie Morkel'],\n",
    "      ['A Nel', 'André Nel'], ['AJ Hosein', 'Akeal Hosein'], ['Harmeet Singh', 'Harmeet Singh'],\n",
    "      ['AC Thomas', 'Alfonso Thomas'], ['K Gowtham', 'Krishnappa Gowtham'], ['BAW Mendis', 'Ajantha Mendis'],\n",
    "      ['M Kaif', 'Mohammad Kaif'], ['M Vijay', 'Murali Vijay'], ['AA Chavan', 'Ankeet Chavan'],\n",
    "      ['Arjun Tendulkar', 'Arjun Tendulkar'], ['Akash Singh', 'Akash Singh'], ['M Manhas', 'Mithun Manhas'],\n",
    "      ['JR Philippe', 'Josh Philippe'], ['RV Pawar', 'Ramesh Powar'], ['D Jansen', 'Duan Jansen'],\n",
    "      ['R Sai Kishore', 'Ravisrinivasan Sai'], ['G Gambhir', 'Gautam Gambhir']]\n",
    "\n",
    "\n",
    "print(len(ls))"
   ]
  },
  {
   "cell_type": "code",
   "execution_count": 3,
   "outputs": [],
   "source": [
    "# Initialize an empty dictionary\n",
    "my_dict = {}\n",
    "\n",
    "# Iterate through the 2D list and populate the dictionary\n",
    "for item in ls:\n",
    "    short_name, long_name = item\n",
    "    my_dict[short_name] = long_name"
   ],
   "metadata": {
    "collapsed": false,
    "ExecuteTime": {
     "end_time": "2023-10-17T11:01:07.400469Z",
     "start_time": "2023-10-17T11:01:07.378686100Z"
    }
   },
   "id": "ebd86aa3e2cc277b"
  },
  {
   "cell_type": "code",
   "execution_count": 4,
   "outputs": [
    {
     "name": "stdout",
     "output_type": "stream",
     "text": [
      "{'NB Singh': 'Robin Singh', 'A Manohar': 'Abhinav Manohar', 'AS Raut': 'Punam Raut', 'S Sohal': 'Sunny Sohal', 'NJ Rimmington': 'Nathan Rimmington', 'PH Solanki': 'Prashant Solanki', 'A Flintoff': 'Andrew Flintoff', 'P Suyal': 'Pawan Suyal', 'N Wadhera': 'Nehal Wadhera', 'DR Shorey': 'Dhruv Shorey', 'KMA Paul': 'Keemo Paul', 'SM Pollock': 'Shaun Pollock', 'YS Chahal': 'Yuzvendra Chahal', 'AN Ahmed': 'Rehan Ahmed', 'Mohammed Shami': 'Mohammed Shami', 'KC Cariappa': 'K. C.', 'LA Pomersbach': 'Luke Pomersbach', 'DL Chahar': 'Deepak Chahar', 'CR Woakes': 'Chris Woakes', 'SR Watson': 'Shane Watson', 'A Mishra': 'Amit Mishra', 'AK Markram': 'Aiden Markram', 'DB Ravi Teja': 'Dwaraka Ravi', 'A Chopra': 'Aakash Chopra', 'DR Martyn': 'Damien Martyn', 'DJ Jacobs': 'Davy Jacobs', 'L Ronchi': 'Luke Ronchi', 'S Badrinath': 'Subramaniam Badrinath', 'MW Short': 'Matthew Short', 'SS Mundhe': 'Shrikant Mundhe', 'NT Ellis': 'Nathan Ellis', 'Monu Kumar': 'Monu Kumar', 'R Shukla': 'Rahul Shukla', 'SW Billings': 'Sam Billings', 'VG Arora': 'Vaibhav Arora', 'KH Devdhar': 'Kedar Devdhar', 'A Nehra': 'Ashish Nehra', 'YA Abdulla': 'Yusuf Abdulla', 'K Goel': 'Karan Goel', 'Abdur Razzak': 'Abdul Razzaq', 'BW Hilfenhaus': 'Ben Hilfenhaus', 'AR Patel': 'Axar Patel', 'PV Tambe': 'Pravin Tambe', 'RP Singh': 'R. P.', 'DR Sams': 'Daniel Sams', 'JM Kemp': 'Justin Kemp', 'Mohammad Nabi': 'Mohammad Nabi', 'IC Porel': 'Ishan Porel', 'TH David': 'Tim David', 'YK Pathan': 'Yusuf Pathan', 'N Pooran': 'Nicholas Pooran', 'KAJ Roach': 'Kemar Roach', 'CRD Fernando': 'Dilhara Fernando', 'B Laughlin': 'Ben Laughlin', 'VY Mahesh': 'Yo Mahesh', 'S Narwal': 'Sumit Narwal', 'C Munro': 'Colin Munro', 'Mohsin Khan': 'Mohsin Khan', 'OF Smith': 'Steve Smith', 'S Sriram': 'Sridharan Sriram', 'MA Khote': 'Chennai Super', 'T Kohli': 'Taruwar Kohli', 'L Ablish': 'Love Ablish', 'AT Carey': 'Alex Carey', 'AB Dinda': 'Ashok Dinda', 'RS Hangargekar': 'Rajvardhan Hangargekar', 'CJ Green': 'Chris Green', 'AD Hales': 'Alex Hales', 'RM Patidar': 'Rajat Patidar', 'F du Plessis': 'Faf du', 'JM Bairstow': 'Jonny Bairstow', 'JL Pattinson': 'James Pattinson', 'A Kumble': 'Anil Kumble', 'DM Bravo': 'Darren Bravo', 'Salman Butt': 'Salman Butt', 'A Mukund': 'Abhinav Mukund', 'V Shankar': 'Vijay Shankar', 'BR Dunk': 'Ben Dunk', 'Tilak Varma': 'Tilak Varma', 'FA Allen': 'Fabian Allen', 'LH Ferguson': 'Lockie Ferguson', 'JP Behrendorff': 'Jason Behrendorff', 'EJG Morgan': 'Eoin Morgan', 'AD Mathews': 'Angelo Mathews', 'AA Kazi': 'Azim Kazi', 'FH Edwards': 'Frank Edwards', 'Mukesh Kumar': 'Mukesh Kumar', 'R Sanjay Yadav': 'Sanjay Yadav', 'AC Blizzard': 'Aiden Blizzard', 'CJ Jordan': 'Chris Jordan', 'JA Richardson': 'Jhye Richardson', 'Iqbal Abdulla': 'Iqbal Abdulla', 'L Balaji': 'Lakshmipathy Balaji', 'Basil Thampi': 'Basil Thampi', 'TD Paine': 'Tim Paine', 'WA Mota': 'Wilkin Mota', 'Y Prithvi Raj': 'Prithvi Raj', 'R McLaren': 'Ryan McLaren', 'BB Samantray': 'Biplab Samantray', 'Liton Das': 'Liton Das', 'MJ McClenaghan': 'Mitchell McClenaghan', 'Mustafizur Rahman': 'Mustafizur Rahman', 'AJ Turner': 'Ashton Turner', 'RS Gavaskar': 'Rohan Gavaskar', 'KS Bharat': 'K. S.', 'Kartik Tyagi': 'Kartik Tyagi', 'JDP Oram': 'Jacob Oram', 'SP Narine': 'Sunil Narine', 'D Salunkhe': 'Dinesh Salunkhe', 'SB Jakati': 'Shadab Jakati', 'HV Patel': 'Harshal Patel', 'MJ Guptill': 'Martin Guptill', 'TP Sudhindra': 'TP Sudhindra', 'S Aravind': 'Sreenath Aravind', 'DH Yagnik': 'Dishant Yagnik', 'JJ Roy': 'Jason Roy', 'AS Rajpoot': 'Ankit Rajpoot', 'Anmolpreet Singh': 'Anmolpreet Singh', 'Sunny Singh': 'Sunny Singh', 'CA Ingram': 'Colin Ingram', 'CV Varun': 'Varun Chakravarthy', 'DJM Short': \"D'Arcy Short\", 'AA Noffke': 'Ashley Noffke', 'KK Cooper': 'Kevin Cooper', 'MB Parmar': 'Monish Parmar', 'BE Hendricks': 'Beuran Hendricks', 'SK Trivedi': 'Siddharth Trivedi', 'TU Deshpande': 'Tushar Deshpande', 'V Pratap Singh': 'Veer Pratap', 'MS Wade': 'Matthew Wade', 'Anirudh Singh': 'Anirudh Singh', 'Parvez Rasool': 'Parvez Rasool', 'Mukesh Choudhary': 'Mukesh Choudhary', 'AN Ghosh': 'Richa Ghosh', 'S Ladda': 'Sarabjit Ladda', 'KV Sharma': 'Karn Sharma', 'CR Brathwaite': 'Carlos Brathwaite', 'A Mithun': 'Abhimanyu Mithun', 'C de Grandhomme': 'Colin de', 'K Khejroliya': 'Kulwant Khejroliya', 'Yudhvir Singh': 'Yudhvir Singh', 'D Kalyankrishna': 'Doddapaneni Kalyankrishna', 'M Muralitharan': 'Muttiah Muralitharan', 'B Indrajith': 'Baba Indrajith', 'AD Russell': 'Andre Russell', 'P Dogra': 'Paras Dogra', 'GHS Garton': 'George Garton', 'SS Cottrell': 'Sheldon Cottrell', 'B Akhil': 'Balachandra Akhil', 'R Ashwin': 'Ravichandran Ashwin', 'KA Pollard': 'Kieron Pollard', 'RD Chahar': 'Rahul Chahar', 'NM Coulter-Nile': 'Nathan Coulter-Nile', 'A Choudhary': 'Mukesh Choudhary', 'MR Marsh': 'Mitchell Marsh', 'T Thushara': 'Thilan Thushara', 'BMAJ Mendis': 'Jeevan Mendis', 'SK Warne': 'Shane Warne', 'RJ Peterson': 'Robin Peterson', 'P Parameswaran': 'Prasanth Parameswaran', 'J Suchith': 'Jagadeesha Suchith', 'JP Faulkner': 'James Faulkner', 'CJ Ferguson': 'Callum Ferguson', 'A Dananjaya': 'Akila Dananjaya', 'Yuvraj Singh': 'Yuvraj Singh', 'AP Majumdar': 'Amol Muzumdar', 'CJ Dala': 'Junior Dala', 'AD Mascarenhas': 'Dimitri Mascarenhas', 'RS Bopara': 'Ravi Bopara', 'UA Birla': 'Aryaman Birla', 'RR Bose': 'Ranadeb Bose', 'BCJ Cutting': 'Ben Cutting', 'Noor Ahmad': 'Noor Ahmad', 'SC Ganguly': 'Sourav Ganguly', 'YV Dhull': 'Yash Dhull', 'Y Venugopal Rao': 'Venugopal Rao', 'AUK Pathan': 'Irfan Pathan', 'S Rana': 'Sneh Rana', 'KC Sangakkara': 'Kumar Sangakkara', 'DG Nalkande': 'Darshan Nalkande', 'Sohail Tanvir': 'Sohail Tanvir', 'DPMD Jayawardene': 'Mahela Jayawardene', 'M Pathirana': 'Matheesha Pathirana', 'T Shamsi': 'Tabraiz Shamsi', 'TA Boult': 'Trent Boult', 'WP Saha': 'Wriddhiman Saha', 'Gurnoor Brar': 'Gurnoor Brar', 'SB Styris': 'Scott Styris', 'J Theron': 'Rusty Theron', 'L Ngidi': 'Lungi Ngidi', 'KL Rahul': 'K. L.', 'Mujeeb Ur Rahman': 'Mujeeb Ur', 'NS Naik': 'Sulakshana Naik', 'P Amarnath': 'Mohinder Amarnath', 'Shoaib Ahmed': 'Shoaib Ahmed', 'DP Vijaykumar': 'Paidikalva Vijaykumar', 'P Dharmani': 'Pankaj Dharmani', 'DJ Hooda': 'Deepak Hooda', 'JP Duminy': 'JP Duminy', 'Kamran Khan': 'Kamran Khan', 'RK Bhui': 'Ricky Bhui', 'SPD Smith': 'Steve Smith', 'SE Marsh': 'Shaun Marsh', 'SM Curran': 'Sam Curran', 'Kuldeep Yadav': 'Kuldeep Yadav', 'DP Nannes': 'Dirk Nannes', 'PA Reddy': 'Papi Reddy', 'AT Rayudu': 'Ambati Rayudu', 'TL Suman': 'Tirumalasetti Suman', 'LJ Wright': 'Luke Wright', 'C Sakariya': 'Chetan Sakariya', 'SS Tiwary': 'Saurabh Tiwary', 'Yashpal Singh': 'Yashpal Singh', 'Sanvir Singh': 'Sanvir Singh', 'SB Bangar': 'Sanjay Bangar', 'Jaskaran Singh': 'Jaskaran Singh', 'DA Warner': 'David Warner', 'PSP Handscomb': 'Peter Handscomb', 'Mohammad Ashraful': 'Mohammad Ashraful', 'IS Sodhi': 'Ish Sodhi', 'HF Gurney': 'Harry Gurney', 'Mohammad Asif': 'Mohammad Asif', 'T Stubbs': 'Tristan Stubbs', 'MN Samuels': 'Marlon Samuels', 'DJ Harris': 'Daniel Harris', 'MD Mishra': 'Mohnish Mishra', 'DT Patil': 'DY Patil', 'S Sreesanth': 'S. Sreesanth', 'Ankit Soni': 'Ankit Soni', 'TS Mills': 'Tymal Mills', 'J Syed Mohammad': 'Syed Mohammed', 'DT Christian': 'Dan Christian', 'Harbhajan Singh': 'Harbhajan Singh', 'B Kumar': 'Bhuvneshwar Kumar', 'LR Shukla': 'Laxmi Ratan', 'R Bhatia': 'Rajat Bhatia', 'Ankit Sharma': 'Ankit Sharma', 'JD Ryder': 'Jesse Ryder', 'KB Arun Karthik': 'Arun Karthik', 'K Upadhyay': 'Krishnakant Upadhyay', 'STR Binny': 'Stuart Binny', 'BA Stokes': 'Ben Stokes', 'J Arunkumar': 'J. Arunkumar', 'Azhar Mahmood': 'Azhar Mahmood', 'MS Dhoni': 'MS Dhoni', 'Rahmanullah Gurbaz': 'Rahmanullah Gurbaz', 'Naveen-ul-Haq': 'Naveen-ul-Haq', 'AB Barath': 'K. S.', 'Aman Hakim Khan': 'Aman Hakim', 'DL Vettori': 'Daniel Vettori', 'KP Pietersen': 'Kevin Pietersen', 'Karanveer Singh': 'Karanveer Singh', 'C Ganapathy': 'Chandrasekar Ganapathy', 'CH Gayle': 'Chris Gayle', 'TG Southee': 'Tim Southee', 'M Vohra': 'Manan Vohra', 'KK Ahmed': 'Khaleel Ahmed', 'JE Taylor': 'Jerome Taylor', 'SW Tait': 'Shaun Tait', 'PR Shah': 'Prithvi Shaw', 'HR Shokeen': 'Hrithik Shokeen', 'MS Bisla': 'Manvinder Bisla', 'SS Prabhudessai': 'Suyash Prabhudessai', 'Shakib Al Hasan': 'Shakib Al', 'SS Agarwal': 'Sam Agarwal', 'KM Asif': 'KM Asif', 'MJ Santner': 'Mitchell Santner', 'D Padikkal': 'Devdutt Padikkal', 'Harshit Rana': 'Harshit Rana', 'CK Kapugedera': 'Chamara Kapugedera', 'SA Asnodkar': 'Swapnil Asnodkar', 'VR Aaron': 'Varun Aaron', 'RA Bawa': 'Raj Angad', 'NL McCullum': 'Nathan McCullum', 'F Behardien': 'Farhaan Behardien', 'SE Bond': 'Shane Bond', 'S Sandeep Warrier': 'Sandeep Warrier', 'I Malhotra': 'Ishan Malhotra', 'MDKJ Perera': 'Kusal Perera', 'SK Raina': 'Suresh Raina', 'CA Pujara': 'Cheteshwar Pujara', 'PJ Cummins': 'Pat Cummins', 'Ramandeep Singh': 'Ramandeep Singh', 'Navdeep Saini': 'Navdeep Saini', 'Mayank Dagar': 'Mayank Dagar', 'CH Morris': 'Chris Morris', 'T Natarajan': 'T. Natarajan', 'AA Jhunjhunwala': 'Abhishek Jhunjhunwala', 'Sunny Gupta': 'Sunny Gupta', 'Umran Malik': 'Umran Malik', 'A Symonds': 'Andrew Symonds', 'VVS Laxman': 'VVS Laxman', 'JH Kallis': 'Jacques Kallis', 'YBK Jaiswal': 'Yashasvi Jaiswal', 'I Udana': 'Isuru Udana', 'Vivrant Sharma': 'Vivrant Sharma', 'AS Yadav': 'Suryakumar Yadav', 'M Kartik': 'Murali Kartik', 'DJ Thornely': 'Dominic Thornely', 'DJ Willey': 'David Willey', 'GR Napier': 'Graham Napier', 'RK Singh': 'Rinku Singh', 'JPR Scantlebury-Searles': 'Javon Searles', 'JD Unadkat': 'Jaydev Unadkat', 'SC Kuggeleijn': 'Scott Kuggeleijn', 'MK Pandey': 'Manish Pandey', 'S Gopal': 'Shreyas Gopal', 'MEK Hussey': 'Michael Hussey', 'BJ Rohrer': 'Ben Rohrer', 'UT Yadav': 'Umesh Yadav', 'T Banton': 'Tom Banton', 'Anureet Singh': 'Anureet Singh', 'A Tomar': 'Abhijeet Tomar', 'NLTC Perera': 'Thisara Perera', 'Sandeep Sharma': 'Sandeep Sharma', 'MV Boucher': 'Mark Boucher', 'RN ten Doeschate': 'Ryan ten', 'Rashid Khan': 'Rashid Khan', 'Virat Singh': 'Virat Singh', 'KK Nair': 'Karun Nair', 'Imran Tahir': 'Imran Tahir', 'TR Birt': 'Travis Birt', 'S Randiv': 'Suraj Randiv', 'T Henderson': 'Thomas Henderson', 'RD Gaikwad': 'Ruturaj Gaikwad', 'MJ Lumb': 'Michael Lumb', 'JDS Neesham': 'James Neesham', 'SSB Magala': 'Sisanda Magala', 'Arshad Khan': 'Arshad Khan', 'RS Sodhi': 'Reetinder Singh', 'T Mishra': 'Tanmay Mishra', 'I Sharma': 'Ishant Sharma', 'Y Nagar': 'Yogesh Nagar', 'MA Wood': 'Mark Wood', 'PD Salt': 'Phil Salt', 'VS Malik': 'Shoaib Malik', 'AL Menaria': 'Ashok Menaria', 'MG Neser': 'Michael Neser', 'KD Karthik': 'Dinesh Karthik', 'RG Sharma': 'Rohit Sharma', 'YV Takawale': 'Yogesh Takawale', 'Kamran Akmal': 'Kamran Akmal', 'Mohammed Siraj': 'Mohammed Siraj', 'DE Bollinger': 'Doug Bollinger', 'H Klaasen': 'Heinrich Klaasen', 'DS Lehmann': 'Darren Lehmann', 'AA Bilakhia': 'Azhar Bilakhia', 'MS Gony': 'Manpreet Gony', 'KS Williamson': 'Kane Williamson', 'NV Ojha': 'Naman Ojha', 'P Chopra': 'Prashant Chopra', 'KJ Abbott': 'Kyle Abbott', 'Shahbaz Ahmed': 'Shahbaz Ahmed', 'BB Sran': 'Barinder Sran', 'NA Saini': 'Navdeep Saini', 'C Madan': 'Chandan Madan', 'Gagandeep Singh': 'Gagandeep Singh', 'RG More': 'Kiran More', 'MM Patel': 'Munaf Patel', 'Vijaykumar Vyshak': 'Vijaykumar Vyshak', 'SN Thakur': 'Shardul Thakur', 'SP Jackson': 'Sheldon Jackson', 'Shubman Gill': 'Shubman Gill', 'AM Rahane': 'Ajinkya Rahane', 'Gurkeerat Singh': 'Gurkeerat Singh', 'Tejas Baroka': 'Tejas Baroka', 'S Dube': 'Shivam Dube', 'SD Lad': 'Siddhesh Lad', 'KA Jamieson': 'Kyle Jamieson', 'MG Johnson': 'Mitchell Johnson', 'JEC Franklin': 'James Franklin', 'AM Nayar': 'Abhishek Nayar', 'TM Srivastava': 'Tanmay Srivastava', 'Simarjeet Singh': 'Simarjeet Singh', 'AJ Finch': 'Aaron Finch', 'SM Harwood': 'Shane Harwood', 'B Chipli': 'Bharat Chipli', 'Harpreet Brar': 'Harpreet Brar', 'HH Gibbs': 'Herschelle Gibbs', 'J Botha': 'Johan Botha', 'DJG Sammy': 'Daren Sammy', 'KP Appanna': 'K. P.', 'PM Sarvesh Kumar': 'Sarvesh Kumar', 'R Powell': 'Rovman Powell', 'S Vidyut': 'Vidyut Sivaramakrishnan', 'U Kaul': 'Uday Kaul', 'M Markande': 'Mayank Markande', 'RJW Topley': 'Reece Topley', 'Swapnil Singh': 'Swapnil Singh', 'KH Pandya': 'Krunal Pandya', 'DJ Bravo': 'Dwayne Bravo', 'CM Gautam': 'C. M.', 'D Pretorius': 'Dwaine Pretorius', 'R Goyal': 'Rajinder Goel', 'PJ Sangwan': 'Pradeep Sangwan', 'Bipul Sharma': 'Bipul Sharma', 'CJ Anderson': 'Corey Anderson', 'W Jaffer': 'Wasim Jaffer', 'RJ Quiney': 'Rob Quiney', 'K Kartikeya': 'Kumar Kartikeya', 'SB Joshi': 'Sunil Joshi', 'GJ Bailey': 'George Bailey', 'Shoaib Akhtar': 'Shoaib Akhtar', 'NK Patel': 'Monank Patel', 'H Das': 'Halhadar Das', 'LA Carseldine': 'Lee Carseldine', 'UBT Chand': 'Unmukt Chand', 'RR Sarwan': 'Ramnaresh Sarwan', 'DP Conway': 'Devon Conway', 'BA Bhatt': 'Bhargav Bhatt', 'R Dravid': 'Rahul Dravid', 'AC Gilchrist': 'Adam Gilchrist', 'RR Powar': 'Ramesh Powar', 'SR Tendulkar': 'Sachin Tendulkar', 'AC Voges': 'Adam Voges', 'Atharva Taide': 'Atharva Taide', 'A Chandila': 'Ajit Chandila', 'TM Dilshan': 'Tillakaratne Dilshan', 'Abdul Basith': 'Abdul Basith', 'AP Dole': 'Aditya Dole', 'HH Pandya': 'Hardik Pandya', 'M Rawat': 'Mahesh Rawat', 'Avesh Khan': 'Avesh Khan', 'AU Rashid': 'Adil Rashid', 'SS Sarkar': 'Soumya Sarkar', 'Jalaj S Saxena': 'Jalaj Saxena', 'S Dhawan': 'Shikhar Dhawan', 'Q de Kock': 'Quinton de', 'Pankaj Singh': 'Pankaj Singh', 'Shoaib Malik': 'Shoaib Malik', 'JW Hastings': 'John Hastings', 'DJ Malan': 'Dawid Malan', 'GD Phillips': 'Glenn Phillips', 'SS Iyer': 'Shreyas Iyer', 'Ishan Kishan': 'Ishan Kishan', 'A Badoni': 'Ayush Badoni', 'Sachin Baby': 'Sachin Baby', 'S Kaul': 'Siddarth Kaul', 'VS Yeligati': 'Vikrant Yeligati', 'CK Langeveldt': 'Charl Langeveldt', 'B Stanlake': 'Billy Stanlake', 'RA Shaikh': 'Shaik Rasheed', 'PP Ojha': 'Pragyan Ojha', 'AG Paunikar': 'Amit Paunikar', 'Lalit Yadav': 'Lalit Yadav', 'M Morkel': 'Morné Morkel', 'KS Sharma': 'Karn Sharma', 'DB Das': 'Debabrata Das', 'AD Nath': 'Mohinder Amarnath', 'JC Archer': 'Jofra Archer', 'S Tyagi': 'Sudeep Tyagi', 'S Chanderpaul': 'Shivnarine Chanderpaul', 'IR Jaggi': 'Ishank Jaggi', 'Mashrafe Mortaza': 'Mashrafe Mortaza', 'HM Amla': 'Hashim Amla', 'Suyash Sharma': 'Suyash Sharma', 'Yash Thakur': 'Yash Thakur', 'BJ Hodge': 'Brad Hodge', 'DA Miller': 'David Miller', 'Washington Sundar': 'Washington Sundar', 'Shashank Singh': 'Shashank Singh', 'Anuj Rawat': 'Anuj Rawat', 'M de Lange': 'Marchant de', 'MC Juneja': 'Manpreet Juneja', 'R Tewatia': 'Rahul Tewatia', 'A Zampa': 'Adam Zampa', 'PP Chawla': 'Piyush Chawla', 'N Jagadeesan': 'Narayan Jagadeesan', 'P Negi': 'Pawan Negi', 'Rasikh Salam': 'Rasikh Salam', 'Mohit Rathee': 'Mohit Rathee', 'KL Nagarkoti': 'Kamlesh Nagarkoti', 'RA Jadeja': 'Ravindra Jadeja', 'UT Khawaja': 'Usman Khawaja', 'SS Shaikh': 'Shoaib Shaikh', 'R Sharma': 'Rohit Sharma', 'RV Gomez': 'Raiphi Gomez', 'Younis Khan': 'Younis Khan', 'O Thomas': 'Oshane Thomas', 'B Sai Sudharsan': 'Sai Sudharsan', 'JR Hopes': 'James Hopes', 'DS Kulkarni': 'Dhawal Kulkarni', 'PVD Chameera': 'Dushmantha Chameera', 'N Saini': 'Navdeep Saini', 'SJ Srivastava': 'Shalabh Srivastava', 'NJ Maddinson': 'Nic Maddinson', 'R Rampaul': 'Ravi Rampaul', 'RR Raje': 'Rajasthan Royals', 'DNT Zoysa': 'Nuwan Zoysa', 'AP Tare': 'Aditya Tare', 'M Klinger': 'Michael Klinger', 'R Dhawan': 'Rishi Dhawan', 'Anand Rajan': 'Anand Rajan', 'A Nortje': 'Anrich Nortje', 'Misbah-ul-Haq': 'Misbah-ul-Haq', 'MP Stoinis': 'Marcus Stoinis', 'MC Henriques': 'Moises Henriques', 'MF Maharoof': 'Farveez Maharoof', 'R Bishnoi': 'Ravi Bishnoi', 'SM Boland': 'Scott Boland', 'P Ray Barman': 'Prayas Ray', 'Sikandar Raza': 'Sikandar Raza', 'JC Buttler': 'Jos Buttler', 'OA Shah': 'Owais Shah', 'KR Mayers': 'Kyle Mayers', 'RR Pant': 'Rishabh Pant', 'IK Pathan': 'Irfan Pathan', 'PK Garg': 'Priyam Garg', 'M Ntini': 'Makhaya Ntini', 'AS Roy': 'Jason Roy', 'BB McCullum': 'Brendon McCullum', 'ND Doshi': 'Nayan Doshi', 'GH Vihari': 'Hanuma Vihari', 'AB de Villiers': 'AB de', 'MK Lomror': 'Mahipal Lomror', 'SP Fleming': 'Stephen Fleming', 'PBB Rajapaksa': 'Bhanuka Rajapaksa', 'JL Denly': 'Joe Denly', 'JE Root': 'Joe Root', 'MK Tiwary': 'Manoj Tiwary', 'D du Preez': 'Mignon du', 'J Yadav': 'Jayant Yadav', 'Y Gnaneswara Rao': 'Gnaneswara Rao', 'Abhishek Sharma': 'Abhishek Sharma', 'PC Valthaty': 'Paul Valthaty', 'R Sathish': 'Rajagopal Sathish', 'CJ McKay': 'Clint McKay', 'SL Malinga': 'Lasith Malinga', 'Akash Madhwal': 'Akash Madhwal', 'PA Patel': 'Parthiv Patel', 'SV Samson': 'Sanju Samson', 'GJ Maxwell': 'Glenn Maxwell', 'ER Dwivedi': 'Eklavya Dwivedi', 'RE Levi': 'Richard Levi', 'JO Holder': 'Jason Holder', 'VR Iyer': 'Venkatesh Iyer', 'P Kumar': 'Praveen Kumar', 'M Jansen': 'Marco Jansen', 'P Prasanth': 'Prasanth Parameswaran', 'OC McCoy': 'Obed McCoy', 'AJ Tye': 'Andrew Tye', 'LI Meriwala': 'Lukman Meriwala', 'S Kaushik': 'Shivil Kaushik', 'RV Uthappa': 'Robin Uthappa', 'T Taibu': 'Tatenda Taibu', 'B Lee': 'Brett Lee', 'GS Sandhu': 'Gurinder Sandhu', 'D Wiese': 'David Wiese', 'SMSM Senanayake': 'Sachithra Senanayake', 'RA Tripathi': 'Rahul Tripathi', 'CL White': 'Cameron White', 'MN van Wyk': 'Morné van', 'M Prasidh Krishna': 'Prasidh Krishna', 'LPC Silva': 'Chamara Silva', 'RP Meredith': 'Riley Meredith', 'DAJ Bracewell': 'Doug Bracewell', 'DJ Muthuswami': 'Domnic Joseph', 'Shivam Mavi': 'Shivam Mavi', 'KR Sen': 'Kuldeep Sen', 'PWH de Silva': 'Wanindu Hasaranga', 'WPUJC Vaas': 'Chaminda Vaas', 'TL Seifert': 'Tim Seifert', 'X Thalaivan Sargunam': 'Thalaivan Sargunam', 'MA Agarwal': 'Mayank Agarwal', 'E Lewis': 'Evin Lewis', 'VRV Singh': 'V. R.', 'DW Steyn': 'Dale Steyn', 'GC Viljoen': 'Hardus Viljoen', 'R Parag': 'Riyan Parag', 'P Simran Singh': 'Prabhsimran Singh', 'KMDN Kulasekara': 'Nuwan Kulasekara', 'Shivam Sharma': 'Shivam Sharma', 'A Ashish Reddy': 'Ashish Reddy', 'Abdul Samad': 'Abdul Samad', 'SA Abbott': 'Sean Abbott', 'Arshdeep Singh': 'Arshdeep Singh', 'MJ Clarke': 'Michael Clarke', 'P Sahu': 'Pardeep Sahu', 'LE Plunkett': 'Liam Plunkett', 'ST Jayasuriya': 'Sanath Jayasuriya', 'AG Murtaza': 'Ali Murtaza', 'JR Hazlewood': 'Josh Hazlewood', 'RR Bhatkal': 'Rajoo Bhatkal', 'P Awana': 'Parvinder Awana', 'Fazalhaq Farooqi': 'Fazalhaq Farooqi', 'M Ashwin': 'Murugan Ashwin', 'Harpreet Singh': 'Harpreet Singh', 'PP Shaw': 'Prithvi Shaw', 'Abishek Porel': 'Abishek Porel', 'DJ Hussey': 'David Hussey', 'DR Smith': 'Dwayne Smith', 'Mandeep Singh': 'Mandeep Singh', 'S Anirudha': 'Anirudha Srikkanth', 'SO Hetmyer': 'Shimron Hetmyer', 'KW Richardson': 'Kane Richardson', 'S Midhun': 'Sudhesan Midhun', 'MD Shanaka': 'Dasun Shanaka', 'TK Curran': 'Tom Curran', 'HE van der Dussen': 'Rassie van', 'PN Mankad': 'Prerak Mankad', 'AM Salvi': 'Aavishkar Salvi', 'K Rabada': 'Kagiso Rabada', 'AR Bawne': 'Ankit Bawne', 'KM Jadhav': 'Kedar Jadhav', 'ML Hayden': 'Matthew Hayden', 'SP Goswami': 'Shreevats Goswami', 'GB Hogg': 'Brad Hogg', 'AB Agarkar': 'Ajit Agarkar', 'JJ Bumrah': 'Jasprit Bumrah', 'RJ Harris': 'Ryan Harris', 'SN Khan': 'Sarfaraz Khan', 'J Little': 'Josh Little', 'Z Khan': 'Zaheer Khan', 'C Nanda': 'Chetanya Nanda', 'V Kohli': 'Virat Kohli', 'GD McGrath': 'Glenn McGrath', 'GC Smith': 'Graeme Smith', 'Vishnu Vinod': 'Vishnu Vinod', 'HC Brook': 'Harry Brook', 'JJ van der Wath': 'Johan van', 'V Sehwag': 'Virender Sehwag', 'C Green': 'Cameron Green', 'WD Parnell': 'Wayne Parnell', 'CA Lynn': 'Chris Lynn', 'MG Bracewell': 'Michael Bracewell', 'Umar Gul': 'Umar Gul', 'JM Sharma': 'Jitesh Sharma', 'A Uniyal': 'Amit Uniyal', 'BJ Haddin': 'Brad Haddin', 'IC Pandey': 'Ishwar Pandey', 'R Ninan': 'Ryan Ninan', 'RE van der Merwe': 'Roelof van', 'P Dubey': 'Praveen Dubey', 'MJ Henry': 'Matt Henry', 'MM Sharma': 'Mohit Sharma', 'TM Head': 'Travis Head', 'VH Zol': 'Vijay Zol', 'N Rana': 'Nitish Rana', 'D Brevis': 'Dewald Brevis', 'A Singh': 'Arshdeep Singh', 'AS Joseph': 'Alzarri Joseph', 'LRPL Taylor': 'Ross Taylor', 'RT Ponting': 'Ricky Ponting', 'Ravi Bishnoi': 'Ravi Bishnoi', 'K Santokie': 'Krishmar Santokie', 'LMP Simmons': 'Lendl Simmons', 'SA Yadav': 'Suryakumar Yadav', 'PD Collingwood': 'Paul Collingwood', 'AB McDonald': 'Andrew McDonald', 'S Lamichhane': 'Sandeep Lamichhane', 'B Sumanth': 'Bodapati Sumanth', 'M Theekshana': 'Maheesh Theekshana', 'H Sharma': 'Himanshu Sharma', 'Akash Deep': 'Akash Deep', 'Dhruv Jurel': 'Dhruv Jurel', 'B Geeves': 'Brett Geeves', 'LS Livingstone': 'Liam Livingstone', 'SM Katich': 'Simon Katich', 'MA Starc': 'Mitchell Starc', 'RR Rossouw': 'Rilee Rossouw', 'Joginder Sharma': 'Joginder Sharma', 'RW Price': 'Ray Price', 'S Badree': 'Samuel Badree', 'R Vinay Kumar': 'Vinay Kumar', 'R Shepherd': 'Romario Shepherd', 'SE Rutherford': 'Sherfane Rutherford', 'Mohammad Hafeez': 'Mohammad Hafeez', 'Shahid Afridi': 'Shahid Afridi', 'DJ Mitchell': 'Daryl Mitchell', 'Nithish Kumar Reddy': 'Nitish Kumar', 'SB Wagh': 'Steve Waugh', 'RV Patel': 'Ripal Patel', 'M Shahrukh Khan': 'Shahrukh Khan', 'MM Ali': 'Moeen Ali', 'FY Fazal': 'Faiz Fazal', 'AF Milne': 'Adam Milne', 'K Yadav': 'Kuldeep Yadav', 'Yash Dayal': 'Yash Dayal', 'S Nadeem': 'Shahbaz Nadeem', 'SD Chitnis': 'Siddharth Chitnis', 'JA Morkel': 'Albie Morkel', 'A Nel': 'André Nel', 'AJ Hosein': 'Akeal Hosein', 'Harmeet Singh': 'Harmeet Singh', 'AC Thomas': 'Alfonso Thomas', 'K Gowtham': 'Krishnappa Gowtham', 'BAW Mendis': 'Ajantha Mendis', 'M Kaif': 'Mohammad Kaif', 'M Vijay': 'Murali Vijay', 'AA Chavan': 'Ankeet Chavan', 'Arjun Tendulkar': 'Arjun Tendulkar', 'Akash Singh': 'Akash Singh', 'M Manhas': 'Mithun Manhas', 'JR Philippe': 'Josh Philippe', 'RV Pawar': 'Ramesh Powar', 'D Jansen': 'Duan Jansen', 'R Sai Kishore': 'Ravisrinivasan Sai', 'G Gambhir': 'Gautam Gambhir'}\n"
     ]
    }
   ],
   "source": [
    "print(my_dict)"
   ],
   "metadata": {
    "collapsed": false,
    "ExecuteTime": {
     "end_time": "2023-10-17T11:01:08.691286Z",
     "start_time": "2023-10-17T11:01:08.678243700Z"
    }
   },
   "id": "e2d9156c37af6772"
  },
  {
   "cell_type": "code",
   "execution_count": 6,
   "outputs": [],
   "source": [
    "# Load the Excel file into a DataFrame\n",
    "excel_file = \"cric_data.xlsx\"  # Replace with the path to your Excel file\n",
    "df = pd.read_excel(excel_file)\n"
   ],
   "metadata": {
    "collapsed": false,
    "ExecuteTime": {
     "end_time": "2023-10-17T02:36:46.788832300Z",
     "start_time": "2023-10-17T02:35:53.247505400Z"
    }
   },
   "id": "753b7e78b51a6d4b"
  },
  {
   "cell_type": "code",
   "execution_count": 8,
   "outputs": [],
   "source": [
    "df['Batter_full_name'] = df['Batter'].map(my_dict)"
   ],
   "metadata": {
    "collapsed": false,
    "ExecuteTime": {
     "end_time": "2023-10-17T02:37:49.471137Z",
     "start_time": "2023-10-17T02:37:49.441667700Z"
    }
   },
   "id": "9e3202638bafc51a"
  },
  {
   "cell_type": "code",
   "execution_count": 10,
   "outputs": [],
   "source": [
    "df.to_excel(excel_file, index=False)"
   ],
   "metadata": {
    "collapsed": false,
    "ExecuteTime": {
     "end_time": "2023-10-17T02:39:12.139641100Z",
     "start_time": "2023-10-17T02:38:02.665327900Z"
    }
   },
   "id": "c05e873f1c5b24e3"
  },
  {
   "cell_type": "code",
   "execution_count": 5,
   "outputs": [],
   "source": [
    "# Load the Excel file into a DataFrame\n",
    "excel_file = \"../PHASE - 2 - PLAYER RATING/player_runs.xlsx\"\n",
    "df1 = pd.read_excel(excel_file)\n"
   ],
   "metadata": {
    "collapsed": false,
    "ExecuteTime": {
     "end_time": "2023-10-17T11:01:14.564225600Z",
     "start_time": "2023-10-17T11:01:13.400948Z"
    }
   },
   "id": "36e7bc1c5cc56e03"
  },
  {
   "cell_type": "code",
   "execution_count": 7,
   "outputs": [],
   "source": [
    "df1['Batter_full_name'] = df1['batter'].map(my_dict)"
   ],
   "metadata": {
    "collapsed": false,
    "ExecuteTime": {
     "end_time": "2023-10-17T11:02:18.111946100Z",
     "start_time": "2023-10-17T11:02:18.096038Z"
    }
   },
   "id": "16095dad8e41cf65"
  },
  {
   "cell_type": "code",
   "execution_count": 9,
   "outputs": [],
   "source": [
    "df1.to_excel(excel_file, index=False)"
   ],
   "metadata": {
    "collapsed": false,
    "ExecuteTime": {
     "end_time": "2023-10-17T11:02:36.053272800Z",
     "start_time": "2023-10-17T11:02:34.856788100Z"
    }
   },
   "id": "acd7425efeeee69a"
  },
  {
   "cell_type": "code",
   "execution_count": null,
   "outputs": [],
   "source": [],
   "metadata": {
    "collapsed": false
   },
   "id": "ecf8f5d391d4d8b1"
  }
 ],
 "metadata": {
  "kernelspec": {
   "display_name": "Python 3",
   "language": "python",
   "name": "python3"
  },
  "language_info": {
   "codemirror_mode": {
    "name": "ipython",
    "version": 2
   },
   "file_extension": ".py",
   "mimetype": "text/x-python",
   "name": "python",
   "nbconvert_exporter": "python",
   "pygments_lexer": "ipython2",
   "version": "2.7.6"
  }
 },
 "nbformat": 4,
 "nbformat_minor": 5
}
