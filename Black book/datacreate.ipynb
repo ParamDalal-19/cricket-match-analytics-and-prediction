{
 "cells": [
  {
   "cell_type": "code",
   "execution_count": 2,
   "outputs": [],
   "source": [
    "import os\n",
    "import json\n",
    "import pandas as pd\n",
    "\n",
    "folder_path = \"../PHASE - 1 - DATA EXTRACTION/ipl_data\"  # Replace this with the path to your folder containing JSON files\n",
    "json_files = [file for file in os.listdir(folder_path) if file.endswith(\".json\")]\n",
    "\n",
    "# List to store ball-by-ball data from all innings in all JSON files\n",
    "all_innings_data = []\n"
   ],
   "metadata": {
    "collapsed": false,
    "ExecuteTime": {
     "end_time": "2023-10-16T15:31:35.556899700Z",
     "start_time": "2023-10-16T15:31:35.538336600Z"
    }
   },
   "id": "69cd6258b9aaab81"
  },
  {
   "cell_type": "code",
   "execution_count": 7,
   "outputs": [
    {
     "name": "stdout",
     "output_type": "stream",
     "text": [
      "2017\n"
     ]
    }
   ],
   "source": [
    "# Loop through each JSON file in the folder\n",
    "for file_name in json_files:\n",
    "    file_path = os.path.join(folder_path, file_name)\n",
    "    with open(file_path, 'r') as file:\n",
    "        data = json.load(file)\n",
    "    \n",
    "    print(data.get(\"info\")[\"dates\"][0][:4])\n",
    "    break"
   ],
   "metadata": {
    "collapsed": false,
    "ExecuteTime": {
     "end_time": "2023-10-16T15:32:37.732857Z",
     "start_time": "2023-10-16T15:32:37.714472500Z"
    }
   },
   "id": "713c4aece959add1"
  },
  {
   "cell_type": "code",
   "execution_count": 8,
   "outputs": [
    {
     "name": "stdout",
     "output_type": "stream",
     "text": [
      "          Match                       Inning  Inning Number Year Of Match  \\\n",
      "0       1082591          Sunrisers Hyderabad              1          2017   \n",
      "1       1082591          Sunrisers Hyderabad              1          2017   \n",
      "2       1082591          Sunrisers Hyderabad              1          2017   \n",
      "3       1082591          Sunrisers Hyderabad              1          2017   \n",
      "4       1082591          Sunrisers Hyderabad              1          2017   \n",
      "...         ...                          ...            ...           ...   \n",
      "243812   981019  Royal Challengers Bangalore              2          2016   \n",
      "243813   981019  Royal Challengers Bangalore              2          2016   \n",
      "243814   981019  Royal Challengers Bangalore              2          2016   \n",
      "243815   981019  Royal Challengers Bangalore              2          2016   \n",
      "243816   981019  Royal Challengers Bangalore              2          2016   \n",
      "\n",
      "        Over  Delivery         Batter    Bowler    Non-Striker  Runs  Extras  \\\n",
      "0          0         1      DA Warner  TS Mills       S Dhawan     0       0   \n",
      "1          0         2      DA Warner  TS Mills       S Dhawan     0       0   \n",
      "2          0         3      DA Warner  TS Mills       S Dhawan     4       0   \n",
      "3          0         4      DA Warner  TS Mills       S Dhawan     0       0   \n",
      "4          0         5      DA Warner  TS Mills       S Dhawan     0       2   \n",
      "...      ...       ...            ...       ...            ...   ...     ...   \n",
      "243812    19         2    Sachin Baby   B Kumar      CJ Jordan     2       0   \n",
      "243813    19         3    Sachin Baby   B Kumar      CJ Jordan     0       0   \n",
      "243814    19         4  Iqbal Abdulla   B Kumar    Sachin Baby     0       1   \n",
      "243815    19         5    Sachin Baby   B Kumar  Iqbal Abdulla     1       0   \n",
      "243816    19         6  Iqbal Abdulla   B Kumar    Sachin Baby     4       0   \n",
      "\n",
      "        Total Runs  Total Player Out Wicket Kind  Fielder  \n",
      "0                0      0        NaN         NaN      NaN  \n",
      "1                0      0        NaN         NaN      NaN  \n",
      "2                4      4        NaN         NaN      NaN  \n",
      "3                0      4        NaN         NaN      NaN  \n",
      "4                2      6        NaN         NaN      NaN  \n",
      "...            ...    ...        ...         ...      ...  \n",
      "243812           2    194        NaN         NaN      NaN  \n",
      "243813           0    194  CJ Jordan     run out  NV Ojha  \n",
      "243814           1    195        NaN         NaN      NaN  \n",
      "243815           1    196        NaN         NaN      NaN  \n",
      "243816           4    200        NaN         NaN      NaN  \n",
      "\n",
      "[243817 rows x 16 columns]\n"
     ]
    }
   ],
   "source": [
    "# Loop through each JSON file in the folder\n",
    "for file_name in json_files:\n",
    "    file_path = os.path.join(folder_path, file_name)\n",
    "    with open(file_path, 'r') as file:\n",
    "        data = json.load(file)\n",
    "\n",
    "    # Extract ball-by-ball data for each inning in the current JSON file\n",
    "    innings_data = data.get(\"innings\", [])\n",
    "    year_of_match = data.get(\"info\")[\"dates\"][0][:4]\n",
    "    # print(\"innings_data :-\", innings_data)\n",
    "    inning_number = 0\n",
    "    for inning_info in innings_data:\n",
    "        innings_name = inning_info.get(\"team\", None)\n",
    "        innings_overs = inning_info.get(\"overs\", [])\n",
    "        inning_number += 1\n",
    "        Total = 0\n",
    "        # List to store ball-by-ball data for the current inning\n",
    "        inning_ball_by_ball_list = []\n",
    "\n",
    "        for over_data in innings_overs:\n",
    "            Delivery = 0\n",
    "            over_number = over_data.get(\"over\", None)\n",
    "            deliveries = over_data.get(\"deliveries\", [])\n",
    "\n",
    "            for delivery_data in deliveries:\n",
    "                batter = delivery_data.get(\"batter\", None)\n",
    "                bowler = delivery_data.get(\"bowler\", None)\n",
    "                Delivery += 1\n",
    "                non_striker = delivery_data.get(\"non_striker\", None)\n",
    "                runs = delivery_data[\"runs\"].get(\"batter\", None)\n",
    "                extras = delivery_data[\"runs\"].get(\"extras\", None)\n",
    "                total_runs = delivery_data[\"runs\"].get(\"total\", None)\n",
    "                Total += total_runs\n",
    "\n",
    "                wicket_info = delivery_data.get(\"wickets\", [])\n",
    "                if wicket_info:\n",
    "                    player_out = wicket_info[0].get(\"player_out\", None)\n",
    "                    wicket_kind = wicket_info[0].get(\"kind\", None)\n",
    "                    fielder_info = wicket_info[0].get(\"fielders\", [])\n",
    "                    fielder = fielder_info[0][\"name\"] if fielder_info else None\n",
    "                else:\n",
    "                    player_out, wicket_kind, fielder = None, None, None\n",
    "\n",
    "                ball_info = {\n",
    "                    \"Match\": file_name.replace(\".json\", \"\"),\n",
    "                    \"Inning\": innings_name,\n",
    "                    \"Inning Number\": inning_number,\n",
    "                    \"Year Of Match\": year_of_match,\n",
    "                    \"Over\": over_number,\n",
    "                    # \"Delivery\": deliveries.index(delivery_data) + 1,\n",
    "                    \"Delivery\": Delivery,\n",
    "                    \"Batter\": batter,\n",
    "                    \"Bowler\": bowler,\n",
    "                    \"Non-Striker\": non_striker,\n",
    "                    \"Runs\": runs,\n",
    "                    \"Extras\": extras,\n",
    "                    \"Total Runs\": total_runs,\n",
    "                    \"Total\": Total,\n",
    "                    \"Player Out\": player_out,\n",
    "                    \"Wicket Kind\": wicket_kind,\n",
    "                    \"Fielder\": fielder\n",
    "                }\n",
    "\n",
    "                inning_ball_by_ball_list.append(ball_info)\n",
    "\n",
    "        all_innings_data.extend(inning_ball_by_ball_list)\n",
    "\n",
    "# Create a DataFrame from the list of ball-by-ball data for all innings\n",
    "ball_by_ball_df = pd.DataFrame.from_records(all_innings_data)\n",
    "\n",
    "# Replace any missing values with \"NaN\"\n",
    "ball_by_ball_df.fillna(\"NaN\", inplace=True)\n",
    "\n",
    "# # Display the DataFrame\n",
    "print(ball_by_ball_df)\n",
    "\n",
    "excel_file_path = 'cric_data.xlsx'  # Specify the path for the Excel file\n",
    "ball_by_ball_df .to_excel(excel_file_path, index=False)  # Set index=False to exclude row numbers in Excel\n",
    "\n",
    "\n",
    "\n",
    "\n",
    "#\n",
    "# [ {'team': 'Sunrisers Hyderabad',\n",
    "#    'overs': [\n",
    "#             {'over': 0,\n",
    "#              'deliveries': [{'batter': 'DA Warner', 'bowler': 'S Aravind', 'non_striker': 'S Dhawan', 'runs': {'batter': 1, 'extras': 0, 'total': 1}},\n",
    "#                             {'batter': 'S Dhawan', 'bowler': 'S Aravind', 'non_striker': 'DA Warner', 'runs': {'batter': 1, 'extras': 0, 'total': 1}},\n",
    "#                             {'batter': 'DA Warner', 'bowler': 'S Aravind', 'non_striker': 'S Dhawan', 'runs': {'batter': 0, 'extras': 0, 'total': 0}},\n",
    "#                             {'batter': 'DA Warner', 'bowler': 'S Aravind', 'non_striker': 'S Dhawan', 'runs': {'batter': 1, 'extras': 0, 'total': 1}},\n",
    "#                             {'batter': 'S Dhawan', 'bowler': 'S Aravind', 'non_striker': 'DA Warner', 'runs': {'batter': 0, 'extras': 0, 'total': 0}},\n",
    "#                             {'batter': 'S Dhawan', 'bowler': 'S Aravind', 'non_striker': 'DA Warner', 'runs': {'batter': 4, 'extras': 0, 'total': 4}}]},\n",
    "#             {'over': 1,\n",
    "#              'deliveries': [{'batter': 'DA Warner', 'bowler': 'CH Gayle', 'non_striker': 'S Dhawan', 'runs': {'batter': 1, 'extras': 0, 'total': 1}},\n",
    "#                             {'batter': 'S Dhawan', 'bowler': 'CH Gayle', 'non_striker': 'DA Warner', 'runs': {'batter': 0, 'extras': 0, 'total': 0}},\n",
    "#                             {'batter': 'S Dhawan', 'bowler': 'CH Gayle', 'non_striker': 'DA Warner', 'runs': {'batter': 1, 'extras': 0, 'total': 1}},\n",
    "#                             {'batter': 'DA Warner', 'bowler': 'CH Gayle', 'non_striker': 'S Dhawan', 'runs': {'batter': 0, 'extras': 0, 'total': 0}},\n",
    "#                             {'batter': 'DA Warner', 'bowler': 'CH Gayle', 'extras': {'wides': 2}, 'non_striker': 'S Dhawan', 'runs': {'batter': 0, 'extras': 2, 'total': 2}},\n",
    "#                             {'batter': 'S Dhawan', 'bowler': 'CH Gayle', 'non_striker': 'DA Warner', 'runs': {'batter': 0, 'extras': 0, 'total': 0}}, {'batter': 'S Dhawan', 'bowler': 'CH Gayle', 'non_striker': 'DA Warner', 'runs': {'batter': 1, 'extras': 0, 'total': 1}}]}, {'over': 2, 'deliveries': [{'batter': 'S Dhawan', 'bowler': 'S Aravind', 'non_striker': 'DA Warner', 'runs': {'batter': 0, 'extras': 0, 'total': 0}}, {'batter': 'S Dhawan', 'bowler': 'S Aravind', 'non_striker': 'DA Warner', 'runs': {'batter': 0, 'extras': 0, 'total': 0}}, {'batter': 'S Dhawan', 'bowler': 'S Aravind', 'non_striker': 'DA Warner', 'runs': {'batter': 0, 'extras': 0, 'total': 0}}, {'batter': 'S Dhawan', 'bowler': 'S Aravind', 'non_striker': 'DA Warner', 'runs': {'batter': 1, 'extras': 0, 'total': 1}}, {'batter': 'DA Warner', 'bowler': 'S Aravind', 'non_striker': 'S Dhawan', 'runs': {'batter': 4, 'extras': 0, 'total': 4}}, {'batter': 'DA Warner', 'bowler': 'S Aravind', 'non_striker': 'S Dhawan', 'runs': {'batter': 4, 'extras': 0, 'total': 4}}]}, {'over': 3, 'deliveries': [{'batter': 'S Dhawan', 'bowler': 'CH Gayle', 'non_striker': 'DA Warner', 'runs': {'batter': 0, 'extras': 0, 'total': 0}}, {'batter': 'S Dhawan', 'bowler': 'CH Gayle', 'non_striker': 'DA Warner', 'runs': {'batter': 1, 'extras': 0, 'total': 1}}, {'batter': 'DA Warner', 'bowler': 'CH Gayle', 'non_striker': 'S Dhawan', 'runs': {'batter': 1, 'extras': 0, 'total': 1}}, {'batter': 'S Dhawan', 'bowler': 'CH Gayle', 'non_striker': 'DA Warner', 'runs': {'batter': 0, 'extras': 0, 'total': 0}}, {'batter': 'S Dhawan', 'bowler': 'CH Gayle', 'non_striker': 'DA Warner', 'runs': {'batter': 4, 'extras': 0, 'total': 4}}, {'batter': 'S Dhawan', 'bowler': 'CH Gayle', 'non_striker': 'DA Warner', 'runs': {'batter': 0, 'extras': 0, 'total': 0}}]}, {'over': 4, 'deliveries': [{'batter': 'DA Warner', 'bowler': 'SR Watson', 'non_striker': 'S Dhawan', 'runs': {'batter': 6, 'extras': 0, 'total': 6}}, {'batter': 'DA Warner', 'bowler': 'SR Watson', 'non_striker': 'S Dhawan', 'runs': {'batter': 1, 'extras': 0, 'total': 1}}, {'batter': 'S Dhawan', 'bowler': 'SR Watson', 'non_striker': 'DA Warner', 'runs': {'batter': 6, 'extras': 0, 'total': 6}}, {'batter': 'S Dhawan', 'bowler': 'SR Watson', 'non_striker': 'DA Warner', 'runs': {'batter': 1, 'extras': 0, 'total': 1}}, {'batter': 'DA Warner', 'bowler': 'SR Watson', 'non_striker': 'S Dhawan', 'runs': {'batter': 4, 'extras': 0, 'total': 4}}, {'batter': 'DA Warner', 'bowler': 'SR Watson', 'non_striker': 'S Dhawan', 'runs': {'batter': 1, 'extras': 0, 'total': 1}}]}, {'over': 5, 'deliveries': [{'batter': 'DA Warner', 'bowler': 'CH Gayle', 'non_striker': 'S Dhawan', 'runs': {'batter': 1, 'extras': 0, 'total': 1}}, {'batter': 'S Dhawan', 'bowler': 'CH Gayle', 'extras': {'wides': 1}, 'non_striker': 'DA Warner', 'runs': {'batter': 0, 'extras': 1, 'total': 1}}, {'batter': 'S Dhawan', 'bowler': 'CH Gayle', 'non_striker': 'DA Warner', 'runs': {'batter': 4, 'extras': 0, 'total': 4}}, {'batter': 'S Dhawan', 'bowler': 'CH Gayle', 'non_striker': 'DA Warner', 'runs': {'batter': 0, 'extras': 0, 'total': 0}}, {'batter': 'S Dhawan', 'bowler': 'CH Gayle', 'non_striker': 'DA Warner', 'runs': {'batter': 0, 'extras': 0, 'total': 0}}, {'batter': 'S Dhawan', 'bowler': 'CH Gayle', 'non_striker': 'DA Warner', 'runs': {'batter': 1, 'extras': 0, 'total': 1}}, {'batter': 'DA Warner', 'bowler': 'CH Gayle', 'non_striker': 'S Dhawan', 'runs': {'batter': 6, 'extras': 0, 'total': 6}}]}, {'over': 6, 'deliveries': [{'batter': 'S Dhawan', 'bowler': 'YS Chahal', 'non_striker': 'DA Warner', 'runs': {'batter': 1, 'extras': 0, 'total': 1}}, {'batter': 'DA Warner', 'bowler': 'YS Chahal', 'non_striker': 'S Dhawan', 'runs': {'batter': 1, 'extras': 0, 'total': 1}}, {'batter': 'S Dhawan', 'bowler': 'YS Chahal', 'non_striker': 'DA Warner', 'runs': {'batter': 2, 'extras': 0, 'total': 2}}, {'batter': 'S Dhawan', 'bowler': 'YS Chahal', 'non_striker': 'DA Warner', 'runs': {'batter': 0, 'extras': 0, 'total': 0}, 'wickets': [{'kind': 'caught', 'player_out': 'S Dhawan', 'fielders': [{'name': 'CJ Jordan'}]}]}, {'batter': 'DA Warner', 'bowler': 'YS Chahal', 'non_striker': 'MC Henriques', 'runs': {'batter': 1, 'extras': 0, 'total': 1}}, {'batter': 'MC Henriques', 'bowler': 'YS Chahal', 'non_striker': 'DA Warner', 'runs': {'batter': 1, 'extras': 0, 'total': 1}}]}, {'over': 7, 'deliveries': [{'batter': 'MC Henriques', 'bowler': 'Iqbal Abdulla', 'non_striker': 'DA Warner', 'runs': {'batter': 1, 'extras': 0, 'total': 1}}, {'batter': 'DA Warner', 'bowler': 'Iqbal Abdulla', 'non_striker': 'MC Henriques', 'runs': {'batter': 0, 'extras': 0, 'total': 0}}, {'batter': 'DA Warner', 'bowler': 'Iqbal Abdulla', 'non_striker': 'MC Henriques', 'runs': {'batter': 6, 'extras': 0, 'total': 6}}, {'batter': 'DA Warner', 'bowler': 'Iqbal Abdulla', 'non_striker': 'MC Henriques', 'runs': {'batter': 1, 'extras': 0, 'total': 1}}, {'batter': 'MC Henriques', 'bowler': 'Iqbal Abdulla', 'non_striker': 'DA Warner', 'runs': {'batter': 1, 'extras': 0, 'total': 1}}, {'batter': 'DA Warner', 'bowler': 'Iqbal Abdulla', 'non_striker': 'MC Henriques', 'runs': {'batter': 1, 'extras': 0, 'total': 1}}]}, {'over': 8, 'deliveries': [{'batter': 'DA Warner', 'bowler': 'YS Chahal', 'non_striker': 'MC Henriques', 'runs': {'batter': 1, 'extras': 0, 'total': 1}}, {'batter': 'MC Henriques', 'bowler': 'YS Chahal', 'non_striker': 'DA Warner', 'runs': {'batter': 1, 'extras': 0, 'total': 1}}, {'batter': 'DA Warner', 'bowler': 'YS Chahal', 'non_striker': 'MC Henriques', 'runs': {'batter': 4, 'extras': 0, 'total': 4}}, {'batter': 'DA Warner', 'bowler': 'YS Chahal', 'non_striker': 'MC Henriques', 'runs': {'batter': 2, 'extras': 0, 'total': 2}}, {'batter': 'DA Warner', 'bowler': 'YS Chahal', 'non_striker': 'MC Henriques', 'runs': {'batter': 4, 'extras': 0, 'total': 4}}, {'batter': 'DA Warner', 'bowler': 'YS Chahal', 'extras': {'byes': 1}, 'non_striker': 'MC Henriques', 'runs': {'batter': 0, 'extras': 1, 'total': 1}}]}, {'over': 9, 'deliveries': [{'batter': 'DA Warner', 'bowler': 'CJ Jordan', 'non_striker': 'MC Henriques', 'runs': {'batter': 4, 'extras': 0, 'total': 4}}, {'batter': 'DA Warner', 'bowler': 'CJ Jordan', 'non_striker': 'MC Henriques', 'runs': {'batter': 4, 'extras': 0, 'total': 4}}, {'batter': 'DA Warner', 'bowler': 'CJ Jordan', 'non_striker': 'MC Henriques', 'runs': {'batter': 0, 'extras': 0, 'total': 0}}, {'batter': 'DA Warner', 'bowler': 'CJ Jordan', 'non_striker': 'MC Henriques', 'runs': {'batter': 1, 'extras': 0, 'total': 1}}, {'batter': 'MC Henriques', 'bowler': 'CJ Jordan', 'non_striker': 'DA Warner', 'runs': {'batter': 0, 'extras': 0, 'total': 0}, 'wickets': [{'kind': 'caught', 'player_out': 'MC Henriques', 'fielders': [{'name': 'YS Chahal'}]}]}, {'batter': 'DA Warner', 'bowler': 'CJ Jordan', 'non_striker': 'Yuvraj Singh', 'runs': {'batter': 0, 'extras': 0, 'total': 0}}]}, {'over': 10, 'deliveries': [{'batter': 'Yuvraj Singh', 'bowler': 'SR Watson', 'non_striker': 'DA Warner', 'runs': {'batter': 0, 'extras': 0, 'total': 0}}, {'batter': 'Yuvraj Singh', 'bowler': 'SR Watson', 'non_striker': 'DA Warner', 'runs': {'batter': 1, 'extras': 0, 'total': 1}}, {'batter': 'DA Warner', 'bowler': 'SR Watson', 'non_striker': 'Yuvraj Singh', 'runs': {'batter': 1, 'extras': 0, 'total': 1}}, {'batter': 'Yuvraj Singh', 'bowler': 'SR Watson', 'non_striker': 'DA Warner', 'runs': {'batter': 0, 'extras': 0, 'total': 0}}, {'batter': 'Yuvraj Singh', 'bowler': 'SR Watson', 'non_striker': 'DA Warner', 'runs': {'batter': 0, 'extras': 0, 'total': 0}}, {'batter': 'Yuvraj Singh', 'bowler': 'SR Watson', 'non_striker': 'DA Warner', 'runs': {'batter': 4, 'extras': 0, 'total': 4}}]}, {'over': 11, 'deliveries': [{'batter': 'DA Warner', 'bowler': 'CJ Jordan', 'extras': {'legbyes': 1}, 'non_striker': 'Yuvraj Singh', 'runs': {'batter': 0, 'extras': 1, 'total': 1}}, {'batter': 'Yuvraj Singh', 'bowler': 'CJ Jordan', 'non_striker': 'DA Warner', 'runs': {'batter': 4, 'extras': 0, 'total': 4}}, {'batter': 'Yuvraj Singh', 'bowler': 'CJ Jordan', 'non_striker': 'DA Warner', 'runs': {'batter': 6, 'extras': 0, 'total': 6}}, {'batter': 'Yuvraj Singh', 'bowler': 'CJ Jordan', 'non_striker': 'DA Warner', 'runs': {'batter': 1, 'extras': 0, 'total': 1}}, {'batter': 'DA Warner', 'bowler': 'CJ Jordan', 'non_striker': 'Yuvraj Singh', 'runs': {'batter': 0, 'extras': 0, 'total': 0}}, {'batter': 'DA Warner', 'bowler': 'CJ Jordan', 'non_striker': 'Yuvraj Singh', 'runs': {'batter': 1, 'extras': 0, 'total': 1}}]}, {'over': 12, 'deliveries': [{'batter': 'DA Warner', 'bowler': 'YS Chahal', 'non_striker': 'Yuvraj Singh', 'runs': {'batter': 1, 'extras': 0, 'total': 1}}, {'batter': 'Yuvraj Singh', 'bowler': 'YS Chahal', 'non_striker': 'DA Warner', 'runs': {'batter': 0, 'extras': 0, 'total': 0}}, {'batter': 'Yuvraj Singh', 'bowler': 'YS Chahal', 'non_striker': 'DA Warner', 'runs': {'batter': 0, 'extras': 0, 'total': 0}}, {'batter': 'Yuvraj Singh', 'bowler': 'YS Chahal', 'non_striker': 'DA Warner', 'runs': {'batter': 1, 'extras': 0, 'total': 1}}, {'batter': 'DA Warner', 'bowler': 'YS Chahal', 'non_striker': 'Yuvraj Singh', 'runs': {'batter': 1, 'extras': 0, 'total': 1}}, {'batter': 'Yuvraj Singh', 'bowler': 'YS Chahal', 'non_striker': 'DA Warner', 'runs': {'batter': 1, 'extras': 0, 'total': 1}}]}, {'over': 13, 'deliveries': [{'batter': 'Yuvraj Singh', 'bowler': 'S Aravind', 'non_striker': 'DA Warner', 'runs': {'batter': 1, 'extras': 0, 'total': 1}}, {'batter': 'DA Warner', 'bowler': 'S Aravind', 'non_striker': 'Yuvraj Singh', 'runs': {'batter': 4, 'extras': 0, 'total': 4}}, {'batter': 'DA Warner', 'bowler': 'S Aravind', 'non_striker': 'Yuvraj Singh', 'runs': {'batter': 0, 'extras': 0, 'total': 0}, 'wickets': [{'kind': 'caught', 'player_out': 'DA Warner', 'fielders': [{'name': 'Iqbal Abdulla'}]}]}, {'batter': 'DJ Hooda', 'bowler': 'S Aravind', 'non_striker': 'Yuvraj Singh', 'runs': {'batter': 1, 'extras': 0, 'total': 1}}, {'batter': 'Yuvraj Singh', 'bowler': 'S Aravind', 'non_striker': 'DJ Hooda', 'runs': {'batter': 1, 'extras': 0, 'total': 1}}, {'batter': 'DJ Hooda', 'bowler': 'S Aravind', 'non_striker': 'Yuvraj Singh', 'runs': {'batter': 0, 'extras': 0, 'total': 0}}]}, {'over': 14, 'deliveries': [{'batter': 'Yuvraj Singh', 'bowler': 'YS Chahal', 'non_striker': 'DJ Hooda', 'runs': {'batter': 1, 'extras': 0, 'total': 1}}, {'batter': 'DJ Hooda', 'bowler': 'YS Chahal', 'non_striker': 'Yuvraj Singh', 'runs': {'batter': 1, 'extras': 0, 'total': 1}}, {'batter': 'Yuvraj Singh', 'bowler': 'YS Chahal', 'non_striker': 'DJ Hooda', 'runs': {'batter': 6, 'extras': 0, 'total': 6}}, {'batter': 'Yuvraj Singh', 'bowler': 'YS Chahal', 'non_striker': 'DJ Hooda', 'runs': {'batter': 4, 'extras': 0, 'total': 4}}, {'batter': 'Yuvraj Singh', 'bowler': 'YS Chahal', 'non_striker': 'DJ Hooda', 'runs': {'batter': 0, 'extras': 0, 'total': 0}}, {'batter': 'Yuvraj Singh', 'bowler': 'YS Chahal', 'non_striker': 'DJ Hooda', 'runs': {'batter': 1, 'extras': 0, 'total': 1}}]}, {'over': 15, 'deliveries': [{'batter': 'Yuvraj Singh', 'bowler': 'S Aravind', 'non_striker': 'DJ Hooda', 'runs': {'batter': 4, 'extras': 0, 'total': 4}}, {'batter': 'Yuvraj Singh', 'bowler': 'S Aravind', 'non_striker': 'DJ Hooda', 'runs': {'batter': 1, 'extras': 0, 'total': 1}}, {'batter': 'DJ Hooda', 'bowler': 'S Aravind', 'non_striker': 'Yuvraj Singh', 'runs': {'batter': 0, 'extras': 0, 'total': 0}}, {'batter': 'DJ Hooda', 'bowler': 'S Aravind', 'non_striker': 'Yuvraj Singh', 'runs': {'batter': 1, 'extras': 0, 'total': 1}}, {'batter': 'Yuvraj Singh', 'bowler': 'S Aravind', 'non_striker': 'DJ Hooda', 'runs': {'batter': 1, 'extras': 0, 'total': 1}}, {'batter': 'DJ Hooda', 'bowler': 'S Aravind', 'non_striker': 'Yuvraj Singh', 'runs': {'batter': 0, 'extras': 0, 'total': 0}, 'wickets': [{'kind': 'caught', 'player_out': 'DJ Hooda', 'fielders': [{'name': 'V Kohli'}]}]}]}, {'over': 16, 'deliveries': [{'batter': 'Yuvraj Singh', 'bowler': 'CJ Jordan', 'extras': {'wides': 1}, 'non_striker': 'BCJ Cutting', 'runs': {'batter': 0, 'extras': 1, 'total': 1}}, {'batter': 'Yuvraj Singh', 'bowler': 'CJ Jordan', 'non_striker': 'BCJ Cutting', 'runs': {'batter': 0, 'extras': 0, 'total': 0}, 'wickets': [{'kind': 'caught', 'player_out': 'Yuvraj Singh', 'fielders': [{'name': 'SR Watson'}]}]}, {'batter': 'NV Ojha', 'bowler': 'CJ Jordan', 'non_striker': 'BCJ Cutting', 'runs': {'batter': 4, 'extras': 0, 'total': 4}}, {'batter': 'NV Ojha', 'bowler': 'CJ Jordan', 'non_striker': 'BCJ Cutting', 'runs': {'batter': 1, 'extras': 0, 'total': 1}}, {'batter': 'BCJ Cutting', 'bowler': 'CJ Jordan', 'extras': {'legbyes': 1}, 'non_striker': 'NV Ojha', 'runs': {'batter': 0, 'extras': 1, 'total': 1}}, {'batter': 'NV Ojha', 'bowler': 'CJ Jordan', 'non_striker': 'BCJ Cutting', 'runs': {'batter': 0, 'extras': 0, 'total': 0}}, {'batter': 'NV Ojha', 'bowler': 'CJ Jordan', 'non_striker': 'BCJ Cutting', 'runs': {'batter': 2, 'extras': 0, 'total': 2}}]}, {'over': 17, 'deliveries': [{'batter': 'BCJ Cutting', 'bowler': 'SR Watson', 'extras': {'wides': 1}, 'non_striker': 'NV Ojha', 'runs': {'batter': 0, 'extras': 1, 'total': 1}}, {'batter': 'BCJ Cutting', 'bowler': 'SR Watson', 'extras': {'wides': 1}, 'non_striker': 'NV Ojha', 'runs': {'batter': 0, 'extras': 1, 'total': 1}}, {'batter': 'BCJ Cutting', 'bowler': 'SR Watson', 'non_striker': 'NV Ojha', 'runs': {'batter': 0, 'extras': 0, 'total': 0}, 'wickets': [{'kind': 'run out', 'player_out': 'NV Ojha', 'fielders': [{'name': 'SR Watson'}]}]}, {'batter': 'BCJ Cutting', 'bowler': 'SR Watson', 'non_striker': 'Bipul Sharma', 'runs': {'batter': 0, 'extras': 0, 'total': 0}}, {'batter': 'BCJ Cutting', 'bowler': 'SR Watson', 'non_striker': 'Bipul Sharma', 'runs': {'batter': 6, 'extras': 0, 'total': 6}}, {'batter': 'BCJ Cutting', 'bowler': 'SR Watson', 'non_striker': 'Bipul Sharma', 'runs': {'batter': 0, 'extras': 0, 'total': 0}}, {'batter': 'BCJ Cutting', 'bowler': 'SR Watson', 'non_striker': 'Bipul Sharma', 'runs': {'batter': 4, 'extras': 0, 'total': 4}}, {'batter': 'BCJ Cutting', 'bowler': 'SR Watson', 'non_striker': 'Bipul Sharma', 'runs': {'batter': 0, 'extras': 0, 'total': 0}}]}, {'over': 18, 'deliveries': [{'batter': 'Bipul Sharma', 'bowler': 'CJ Jordan', 'non_striker': 'BCJ Cutting', 'runs': {'batter': 1, 'extras': 0, 'total': 1}}, {'batter': 'BCJ Cutting', 'bowler': 'CJ Jordan', 'non_striker': 'Bipul Sharma', 'runs': {'batter': 1, 'extras': 0, 'total': 1}}, {'batter': 'Bipul Sharma', 'bowler': 'CJ Jordan', 'non_striker': 'BCJ Cutting', 'runs': {'batter': 4, 'extras': 0, 'total': 4}}, {'batter': 'Bipul Sharma', 'bowler': 'CJ Jordan', 'non_striker': 'BCJ Cutting', 'runs': {'batter': 0, 'extras': 0, 'total': 0}, 'wickets': [{'kind': 'caught', 'player_out': 'Bipul Sharma', 'fielders': [{'name': 'YS Chahal'}]}]}, {'batter': 'BCJ Cutting', 'bowler': 'CJ Jordan', 'extras': {'wides': 5}, 'non_striker': 'B Kumar', 'runs': {'batter': 0, 'extras': 5, 'total': 5}}, {'batter': 'BCJ Cutting', 'bowler': 'CJ Jordan', 'non_striker': 'B Kumar', 'runs': {'batter': 4, 'extras': 0, 'total': 4}}, {'batter': 'BCJ Cutting', 'bowler': 'CJ Jordan', 'non_striker': 'B Kumar', 'runs': {'batter': 1, 'extras': 0, 'total': 1}}]}, {'over': 19, 'deliveries': [{'batter': 'BCJ Cutting', 'bowler': 'SR Watson', 'non_striker': 'B Kumar', 'runs': {'batter': 4, 'extras': 0, 'total': 4}}, {'batter': 'BCJ Cutting', 'bowler': 'SR Watson', 'non_striker': 'B Kumar', 'runs': {'batter': 6, 'extras': 0, 'total': 6}}, {'batter': 'BCJ Cutting', 'bowler': 'SR Watson', 'non_striker': 'B Kumar', 'runs': {'batter': 6, 'extras': 0, 'total': 6}}, {'batter': 'BCJ Cutting', 'bowler': 'SR Watson', 'non_striker': 'B Kumar', 'runs': {'batter': 1, 'extras': 0, 'total': 1}}, {'batter': 'B Kumar', 'bowler': 'SR Watson', 'non_striker': 'BCJ Cutting', 'runs': {'batter': 1, 'extras': 0, 'total': 1}}, {'batter': 'BCJ Cutting', 'bowler': 'SR Watson', 'non_striker': 'B Kumar', 'runs': {'batter': 6, 'extras': 0, 'total': 6}}]}], 'powerplays': [{'from': 0.1, 'to': 5.7, 'type': 'mandatory'}]}, {'team': 'Royal Challengers Bangalore', 'overs': [{'over': 0, 'deliveries': [{'batter': 'CH Gayle', 'bowler': 'B Kumar', 'non_striker': 'V Kohli', 'runs': {'batter': 0, 'extras': 0, 'total': 0}}, {'batter': 'CH Gayle', 'bowler': 'B Kumar', 'extras': {'legbyes': 1}, 'non_striker': 'V Kohli', 'runs': {'batter': 0, 'extras': 1, 'total': 1}}, {'batter': 'V Kohli', 'bowler': 'B Kumar', 'non_striker': 'CH Gayle', 'runs': {'batter': 0, 'extras': 0, 'total': 0}}, {'batter': 'V Kohli', 'bowler': 'B Kumar', 'non_striker': 'CH Gayle', 'runs': {'batter': 0, 'extras': 0, 'total': 0}}, {'batter': 'V Kohli', 'bowler': 'B Kumar', 'non_striker': 'CH Gayle', 'runs': {'batter': 4, 'extras': 0, 'total': 4}}, {'batter': 'V Kohli', 'bowler': 'B Kumar', 'non_striker': 'CH Gayle', 'runs': {'batter': 0, 'extras': 0, 'total': 0}}]}, {'over': 1, 'deliveries': [{'batter': 'CH Gayle', 'bowler': 'BB Sran', 'extras': {'wides': 1}, 'non_striker': 'V Kohli', 'runs': {'batter': 0, 'extras': 1, 'total': 1}}, {'batter': 'CH Gayle', 'bowler': 'BB Sran', 'non_striker': 'V Kohli', 'runs': {'batter': 0, 'extras': 0, 'total': 0}}, {'batter': 'CH Gayle', 'bowler': 'BB Sran', 'non_striker': 'V Kohli', 'runs': {'batter': 2, 'extras': 0, 'total': 2}}, {'batter': 'CH Gayle', 'bowler': 'BB Sran', 'non_striker': 'V Kohli', 'runs': {'batter': 6, 'extras': 0, 'total': 6}}, {'batter': 'CH Gayle', 'bowler': 'BB Sran', 'extras': {'wides': 1}, 'non_striker': 'V Kohli', 'runs': {'batter': 0, 'extras': 1, 'total': 1}}, {'batter': 'CH Gayle', 'bowler': 'BB Sran', 'non_striker': 'V Kohli', 'runs': {'batter': 0, 'extras': 0, 'total': 0}}, {'batter': 'CH Gayle', 'bowler': 'BB Sran', 'non_striker': 'V Kohli', 'runs': {'batter': 2, 'extras': 0, 'total': 2}}, {'batter': 'CH Gayle', 'bowler': 'BB Sran', 'non_striker': 'V Kohli', 'runs': {'batter': 1, 'extras': 0, 'total': 1}}]}, {'over': 2, 'deliveries': [{'batter': 'CH Gayle', 'bowler': 'B Kumar', 'non_striker': 'V Kohli', 'runs': {'batter': 0, 'extras': 0, 'total': 0}}, {'batter': 'CH Gayle', 'bowler': 'B Kumar', 'extras': {'legbyes': 1}, 'non_striker': 'V Kohli', 'runs': {'batter': 0, 'extras': 1, 'total': 1}}, {'batter': 'V Kohli', 'bowler': 'B Kumar', 'extras': {'wides': 1}, 'non_striker': 'CH Gayle', 'runs': {'batter': 0, 'extras': 1, 'total': 1}}, {'batter': 'V Kohli', 'bowler': 'B Kumar', 'non_striker': 'CH Gayle', 'runs': {'batter': 1, 'extras': 0, 'total': 1}}, {'batter': 'CH Gayle', 'bowler': 'B Kumar', 'non_striker': 'V Kohli', 'runs': {'batter': 4, 'extras': 0, 'total': 4}}, {'batter': 'CH Gayle', 'bowler': 'B Kumar', 'non_striker': 'V Kohli', 'runs': {'batter': 0, 'extras': 0, 'total': 0}}, {'batter': 'CH Gayle', 'bowler': 'B Kumar', 'non_striker': 'V Kohli', 'runs': {'batter': 1, 'extras': 0, 'total': 1}}]}, {'over': 3, 'deliveries': [{'batter': 'CH Gayle', 'bowler': 'BB Sran', 'non_striker': 'V Kohli', 'runs': {'batter': 0, 'extras': 0, 'total': 0}}, {'batter': 'CH Gayle', 'bowler': 'BB Sran', 'non_striker': 'V Kohli', 'runs': {'batter': 6, 'extras': 0, 'total': 6}}, {'batter': 'CH Gayle', 'bowler': 'BB Sran', 'non_striker': 'V Kohli', 'runs': {'batter': 0, 'extras': 0, 'total': 0}}, {'batter': 'CH Gayle', 'bowler': 'BB Sran', 'non_striker': 'V Kohli', 'runs': {'batter': 0, 'extras': 0, 'total': 0}}, {'batter': 'CH Gayle', 'bowler': 'BB Sran', 'non_striker': 'V Kohli', 'runs': {'batter': 4, 'extras': 0, 'total': 4}}, {'batter': 'CH Gayle', 'bowler': 'BB Sran', 'non_striker': 'V Kohli', 'runs': {'batter': 6, 'extras': 0, 'total': 6}}]}, {'over': 4, 'deliveries': [{'batter': 'V Kohli', 'bowler': 'BCJ Cutting', 'non_striker': 'CH Gayle', 'runs': {'batter': 0, 'extras': 0, 'total': 0}}, {'batter': 'V Kohli', 'bowler': 'BCJ Cutting', 'non_striker': 'CH Gayle', 'runs': {'batter': 1, 'extras': 0, 'total': 1}}, {'batter': 'CH Gayle', 'bowler': 'BCJ Cutting', 'non_striker': 'V Kohli', 'runs': {'batter': 6, 'extras': 0, 'total': 6}}, {'batter': 'CH Gayle', 'bowler': 'BCJ Cutting', 'non_striker': 'V Kohli', 'runs': {'batter': 4, 'extras': 0, 'total': 4}}, {'batter': 'CH Gayle', 'bowler': 'BCJ Cutting', 'non_striker': 'V Kohli', 'runs': {'batter': 1, 'extras': 0, 'total': 1}}, {'batter': 'V Kohli', 'bowler': 'BCJ Cutting', 'non_striker': 'CH Gayle', 'runs': {'batter': 1, 'extras': 0, 'total': 1}}]}, {'over': 5, 'deliveries': [{'batter': 'V Kohli', 'bowler': 'Mustafizur Rahman', 'non_striker': 'CH Gayle', 'runs': {'batter': 0, 'extras': 0, 'total': 0}}, {'batter': 'V Kohli', 'bowler': 'Mustafizur Rahman', 'non_striker': 'CH Gayle', 'runs': {'batter': 0, 'extras': 0, 'total': 0}}, {'batter': 'V Kohli', 'bowler': 'Mustafizur Rahman', 'non_striker': 'CH Gayle', 'runs': {'batter': 1, 'extras': 0, 'total': 1}}, {'batter': 'CH Gayle', 'bowler': 'Mustafizur Rahman', 'non_striker': 'V Kohli', 'runs': {'batter': 0, 'extras': 0, 'total': 0}}, {'batter': 'CH Gayle', 'bowler': 'Mustafizur Rahman', 'non_striker': 'V Kohli', 'runs': {'batter': 1, 'extras': 0, 'total': 1}}, {'batter': 'V Kohli', 'bowler': 'Mustafizur Rahman', 'non_striker': 'CH Gayle', 'runs': {'batter': 2, 'extras': 0, 'total': 2}}]}, {'over': 6, 'deliveries': [{'batter': 'CH Gayle', 'bowler': 'MC Henriques', 'non_striker': 'V Kohli', 'runs': {'batter': 6, 'extras': 0, 'total': 6}}, {'batter': 'CH Gayle', 'bowler': 'MC Henriques', 'non_striker': 'V Kohli', 'runs': {'batter': 0, 'extras': 0, 'total': 0}}, {'batter': 'CH Gayle', 'bowler': 'MC Henriques', 'non_striker': 'V Kohli', 'runs': {'batter': 1, 'extras': 0, 'total': 1}}, {'batter': 'V Kohli', 'bowler': 'MC Henriques', 'non_striker': 'CH Gayle', 'runs': {'batter': 0, 'extras': 0, 'total': 0}}, {'batter': 'V Kohli', 'bowler': 'MC Henriques', 'non_striker': 'CH Gayle', 'runs': {'batter': 2, 'extras': 0, 'total': 2}}, {'batter': 'V Kohli', 'bowler': 'MC Henriques', 'non_striker': 'CH Gayle', 'runs': {'batter': 1, 'extras': 0, 'total': 1}}]}, {'over': 7, 'deliveries': [{'batter': 'V Kohli', 'bowler': 'BCJ Cutting', 'non_striker': 'CH Gayle', 'runs': {'batter': 0, 'extras': 0, 'total': 0}}, {'batter': 'V Kohli', 'bowler': 'BCJ Cutting', 'non_striker': 'CH Gayle', 'runs': {'batter': 1, 'extras': 0, 'total': 1}}, {'batter': 'CH Gayle', 'bowler': 'BCJ Cutting', 'extras': {'wides': 1}, 'non_striker': 'V Kohli', 'runs': {'batter': 0, 'extras': 1, 'total': 1}}, {'batter': 'CH Gayle', 'bowler': 'BCJ Cutting', 'non_striker': 'V Kohli', 'runs': {'batter': 6, 'extras': 0, 'total': 6}}, {'batter': 'CH Gayle', 'bowler': 'BCJ Cutting', 'non_striker': 'V Kohli', 'runs': {'batter': 0, 'extras': 0, 'total': 0}}, {'batter': 'CH Gayle', 'bowler': 'BCJ Cutting', 'non_striker': 'V Kohli', 'runs': {'batter': 1, 'extras': 0, 'total': 1}}, {'batter': 'V Kohli', 'bowler': 'BCJ Cutting', 'non_striker': 'CH Gayle', 'runs': {'batter': 1, 'extras': 0, 'total': 1}}]}, {'over': 8, 'deliveries': [{'batter': 'V Kohli', 'bowler': 'MC Henriques', 'non_striker': 'CH Gayle', 'runs': {'batter': 4, 'extras': 0, 'total': 4}}, {'batter': 'V Kohli', 'bowler': 'MC Henriques', 'non_striker': 'CH Gayle', 'runs': {'batter': 1, 'extras': 0, 'total': 1}}, {'batter': 'CH Gayle', 'bowler': 'MC Henriques', 'non_striker': 'V Kohli', 'runs': {'batter': 0, 'extras': 0, 'total': 0}}, {'batter': 'CH Gayle', 'bowler': 'MC Henriques', 'non_striker': 'V Kohli', 'runs': {'batter': 6, 'extras': 0, 'total': 6}}, {'batter': 'CH Gayle', 'bowler': 'MC Henriques', 'non_striker': 'V Kohli', 'runs': {'batter': 6, 'extras': 0, 'total': 6}}, {'batter': 'CH Gayle', 'bowler': 'MC Henriques', 'non_striker': 'V Kohli', 'runs': {'batter': 4, 'extras': 0, 'total': 4}}]}, {'over': 9, 'deliveries': [{'batter': 'V Kohli', 'bowler': 'Mustafizur Rahman', 'non_striker': 'CH Gayle', 'runs': {'batter': 4, 'extras': 0, 'total': 4}}, {'batter': 'V Kohli', 'bowler': 'Mustafizur Rahman', 'non_striker': 'CH Gayle', 'runs': {'batter': 6, 'extras': 0, 'total': 6}}, {'batter': 'V Kohli', 'bowler': 'Mustafizur Rahman', 'non_striker': 'CH Gayle', 'runs': {'batter': 1, 'extras': 0, 'total': 1}}, {'batter': 'CH Gayle', 'bowler': 'Mustafizur Rahman', 'non_striker': 'V Kohli', 'runs': {'batter': 0, 'extras': 0, 'total': 0}}, {'batter': 'CH Gayle', 'bowler': 'Mustafizur Rahman', 'non_striker': 'V Kohli', 'runs': {'batter': 1, 'extras': 0, 'total': 1}}, {'batter': 'V Kohli', 'bowler': 'Mustafizur Rahman', 'non_striker': 'CH Gayle', 'runs': {'batter': 0, 'extras': 0, 'total': 0}}]}, {'over': 10, 'deliveries': [{'batter': 'CH Gayle', 'bowler': 'BCJ Cutting', 'non_striker': 'V Kohli', 'runs': {'batter': 1, 'extras': 0, 'total': 1}}, {'batter': 'V Kohli', 'bowler': 'BCJ Cutting', 'non_striker': 'CH Gayle', 'runs': {'batter': 1, 'extras': 0, 'total': 1}}, {'batter': 'CH Gayle', 'bowler': 'BCJ Cutting', 'non_striker': 'V Kohli', 'runs': {'batter': 0, 'extras': 0, 'total': 0}, 'wickets': [{'kind': 'caught', 'player_out': 'CH Gayle', 'fielders': [{'name': 'Bipul Sharma'}]}]}, {'batter': 'V Kohli', 'bowler': 'BCJ Cutting', 'non_striker': 'AB de Villiers', 'runs': {'batter': 4, 'extras': 0, 'total': 4}}, {'batter': 'V Kohli', 'bowler': 'BCJ Cutting', 'non_striker': 'AB de Villiers', 'runs': {'batter': 2, 'extras': 0, 'total': 2}}, {'batter': 'V Kohli', 'bowler': 'BCJ Cutting', 'non_striker': 'AB de Villiers', 'runs': {'batter': 0, 'extras': 0, 'total': 0}}]}, {'over': 11, 'deliveries': [{'batter': 'AB de Villiers', 'bowler': 'Bipul Sharma', 'non_striker': 'V Kohli', 'runs': {'batter': 1, 'extras': 0, 'total': 1}}, {'batter': 'V Kohli', 'bowler': 'Bipul Sharma', 'non_striker': 'AB de Villiers', 'runs': {'batter': 4, 'extras': 0, 'total': 4}}, {'batter': 'V Kohli', 'bowler': 'Bipul Sharma', 'non_striker': 'AB de Villiers', 'runs': {'batter': 1, 'extras': 0, 'total': 1}}, {'batter': 'AB de Villiers', 'bowler': 'Bipul Sharma', 'non_striker': 'V Kohli', 'runs': {'batter': 1, 'extras': 0, 'total': 1}}, {'batter': 'V Kohli', 'bowler': 'Bipul Sharma', 'non_striker': 'AB de Villiers', 'runs': {'batter': 1, 'extras': 0, 'total': 1}}, {'batter': 'AB de Villiers', 'bowler': 'Bipul Sharma', 'non_striker': 'V Kohli', 'runs': {'batter': 1, 'extras': 0, 'total': 1}}]}, {'over': 12, 'deliveries': [{'batter': 'AB de Villiers', 'bowler': 'BB Sran', 'non_striker': 'V Kohli', 'runs': {'batter': 1, 'extras': 0, 'total': 1}}, {'batter': 'V Kohli', 'bowler': 'BB Sran', 'non_striker': 'AB de Villiers', 'runs': {'batter': 6, 'extras': 0, 'total': 6}}, {'batter': 'V Kohli', 'bowler': 'BB Sran', 'non_striker': 'AB de Villiers', 'runs': {'batter': 2, 'extras': 0, 'total': 2}}, {'batter': 'V Kohli', 'bowler': 'BB Sran', 'non_striker': 'AB de Villiers', 'runs': {'batter': 2, 'extras': 0, 'total': 2}}, {'batter': 'V Kohli', 'bowler': 'BB Sran', 'non_striker': 'AB de Villiers', 'runs': {'batter': 0, 'extras': 0, 'total': 0}, 'wickets': [{'kind': 'bowled', 'player_out': 'V Kohli'}]}, {'batter': 'KL Rahul', 'bowler': 'BB Sran', 'non_striker': 'AB de Villiers', 'runs': {'batter': 1, 'extras': 0, 'total': 1}}]}, {'over': 13, 'deliveries': [{'batter': 'KL Rahul', 'bowler': 'Bipul Sharma', 'non_striker': 'AB de Villiers', 'runs': {'batter': 4, 'extras': 0, 'total': 4}}, {'batter': 'KL Rahul', 'bowler': 'Bipul Sharma', 'non_striker': 'AB de Villiers', 'runs': {'batter': 1, 'extras': 0, 'total': 1}}, {'batter': 'AB de Villiers', 'bowler': 'Bipul Sharma', 'non_striker': 'KL Rahul', 'runs': {'batter': 1, 'extras': 0, 'total': 1}}, {'batter': 'KL Rahul', 'bowler': 'Bipul Sharma', 'non_striker': 'AB de Villiers', 'runs': {'batter': 1, 'extras': 0, 'total': 1}}, {'batter': 'AB de Villiers', 'bowler': 'Bipul Sharma', 'non_striker': 'KL Rahul', 'runs': {'batter': 0, 'extras': 0, 'total': 0}, 'wickets': [{'kind': 'caught', 'player_out': 'AB de Villiers', 'fielders': [{'name': 'MC Henriques'}]}]}, {'batter': 'KL Rahul', 'bowler': 'Bipul Sharma', 'non_striker': 'SR Watson', 'runs': {'batter': 1, 'extras': 0, 'total': 1}}]}, {'over': 14, 'deliveries': [{'batter': 'KL Rahul', 'bowler': 'MC Henriques', 'non_striker': 'SR Watson', 'runs': {'batter': 1, 'extras': 0, 'total': 1}}, {'batter': 'SR Watson', 'bowler': 'MC Henriques', 'non_striker': 'KL Rahul', 'runs': {'batter': 1, 'extras': 0, 'total': 1}}, {'batter': 'KL Rahul', 'bowler': 'MC Henriques', 'non_striker': 'SR Watson', 'runs': {'batter': 1, 'extras': 0, 'total': 1}}, {'batter': 'SR Watson', 'bowler': 'MC Henriques', 'non_striker': 'KL Rahul', 'runs': {'batter': 0, 'extras': 0, 'total': 0}}, {'batter': 'SR Watson', 'bowler': 'MC Henriques', 'non_striker': 'KL Rahul', 'runs': {'batter': 6, 'extras': 0, 'total': 6}}, {'batter': 'SR Watson', 'bowler': 'MC Henriques', 'non_striker': 'KL Rahul', 'runs': {'batter': 0, 'extras': 0, 'total': 0}}]}, {'over': 15, 'deliveries': [{'batter': 'KL Rahul', 'bowler': 'BCJ Cutting', 'non_striker': 'SR Watson', 'runs': {'batter': 1, 'extras': 0, 'total': 1}}, {'batter': 'SR Watson', 'bowler': 'BCJ Cutting', 'non_striker': 'KL Rahul', 'runs': {'batter': 1, 'extras': 0, 'total': 1}}, {'batter': 'KL Rahul', 'bowler': 'BCJ Cutting', 'non_striker': 'SR Watson', 'runs': {'batter': 0, 'extras': 0, 'total': 0}, 'wickets': [{'kind': 'bowled', 'player_out': 'KL Rahul'}]}, {'batter': 'Sachin Baby', 'bowler': 'BCJ Cutting', 'non_striker': 'SR Watson', 'runs': {'batter': 0, 'extras': 0, 'total': 0}}, {'batter': 'Sachin Baby', 'bowler': 'BCJ Cutting', 'non_striker': 'SR Watson', 'runs': {'batter': 1, 'extras': 0, 'total': 1}}, {'batter': 'SR Watson', 'bowler': 'BCJ Cutting', 'non_striker': 'Sachin Baby', 'runs': {'batter': 1, 'extras': 0, 'total': 1}}]}, {'over': 16, 'deliveries': [{'batter': 'SR Watson', 'bowler': 'Mustafizur Rahman', 'non_striker': 'Sachin Baby', 'runs': {'batter': 0, 'extras': 0, 'total': 0}}, {'batter': 'SR Watson', 'bowler': 'Mustafizur Rahman', 'non_striker': 'Sachin Baby', 'runs': {'batter': 2, 'extras': 0, 'total': 2}}, {'batter': 'SR Watson', 'bowler': 'Mustafizur Rahman', 'non_striker': 'Sachin Baby', 'runs': {'batter': 0, 'extras': 0, 'total': 0}, 'wickets': [{'kind': 'caught', 'player_out': 'SR Watson', 'fielders': [{'name': 'MC Henriques'}]}]}, {'batter': 'Sachin Baby', 'bowler': 'Mustafizur Rahman', 'non_striker': 'STR Binny', 'runs': {'batter': 1, 'extras': 0, 'total': 1}}, {'batter': 'STR Binny', 'bowler': 'Mustafizur Rahman', 'non_striker': 'Sachin Baby', 'runs': {'batter': 6, 'extras': 0, 'total': 6}}, {'batter': 'STR Binny', 'bowler': 'Mustafizur Rahman', 'non_striker': 'Sachin Baby', 'runs': {'batter': 1, 'extras': 0, 'total': 1}}]}, {'over': 17, 'deliveries': [{'batter': 'STR Binny', 'bowler': 'B Kumar', 'non_striker': 'Sachin Baby', 'runs': {'batter': 0, 'extras': 0, 'total': 0}}, {'batter': 'STR Binny', 'bowler': 'B Kumar', 'non_striker': 'Sachin Baby', 'runs': {'batter': 1, 'extras': 0, 'total': 1}}, {'batter': 'Sachin Baby', 'bowler': 'B Kumar', 'non_striker': 'STR Binny', 'runs': {'batter': 1, 'extras': 0, 'total': 1}}, {'batter': 'STR Binny', 'bowler': 'B Kumar', 'non_striker': 'Sachin Baby', 'runs': {'batter': 0, 'extras': 0, 'total': 0}}, {'batter': 'STR Binny', 'bowler': 'B Kumar', 'extras': {'legbyes': 1}, 'non_striker': 'Sachin Baby', 'runs': {'batter': 0, 'extras': 1, 'total': 1}}, {'batter': 'Sachin Baby', 'bowler': 'B Kumar', 'non_striker': 'STR Binny', 'runs': {'batter': 4, 'extras': 0, 'total': 4}}]}, {'over': 18, 'deliveries': [{'batter': 'STR Binny', 'bowler': 'Mustafizur Rahman', 'non_striker': 'Sachin Baby', 'runs': {'batter': 1, 'extras': 0, 'total': 1}, 'wickets': [{'kind': 'run out', 'player_out': 'STR Binny', 'fielders': [{'name': 'DJ Hooda'}, {'name': 'NV Ojha'}]}]}, {'batter': 'CJ Jordan', 'bowler': 'Mustafizur Rahman', 'non_striker': 'Sachin Baby', 'runs': {'batter': 2, 'extras': 0, 'total': 2}}, {'batter': 'CJ Jordan', 'bowler': 'Mustafizur Rahman', 'non_striker': 'Sachin Baby', 'runs': {'batter': 0, 'extras': 0, 'total': 0}}, {'batter': 'CJ Jordan', 'bowler': 'Mustafizur Rahman', 'extras': {'legbyes': 1}, 'non_striker': 'Sachin Baby', 'runs': {'batter': 0, 'extras': 1, 'total': 1}}, {'batter': 'Sachin Baby', 'bowler': 'Mustafizur Rahman', 'non_striker': 'CJ Jordan', 'runs': {'batter': 2, 'extras': 0, 'total': 2}}, {'batter': 'Sachin Baby', 'bowler': 'Mustafizur Rahman', 'non_striker': 'CJ Jordan', 'runs': {'batter': 6, 'extras': 0, 'total': 6}}]}, {'over': 19, 'deliveries': [{'batter': 'CJ Jordan', 'bowler': 'B Kumar', 'non_striker': 'Sachin Baby', 'runs': {'batter': 1, 'extras': 0, 'total': 1}}, {'batter': 'Sachin Baby', 'bowler': 'B Kumar', 'non_striker': 'CJ Jordan', 'runs': {'batter': 2, 'extras': 0, 'total': 2}}, {'batter': 'Sachin Baby', 'bowler': 'B Kumar', 'non_striker': 'CJ Jordan', 'runs': {'batter': 0, 'extras': 0, 'total': 0}, 'wickets': [{'kind': 'run out', 'player_out': 'CJ Jordan', 'fielders': [{'name': 'NV Ojha'}]}]}, {'batter': 'Iqbal Abdulla', 'bowler': 'B Kumar', 'extras': {'legbyes': 1}, 'non_striker': 'Sachin Baby', 'runs': {'batter': 0, 'extras': 1, 'total': 1}}, {'batter': 'Sachin Baby', 'bowler': 'B Kumar', 'non_striker': 'Iqbal Abdulla', 'runs': {'batter': 1, 'extras': 0, 'total': 1}}, {'batter': 'Iqbal Abdulla', 'bowler': 'B Kumar', 'non_striker': 'Sachin Baby', 'runs': {'batter': 4, 'extras': 0, 'total': 4}}]}], 'powerplays': [{'from': 0.1, 'to': 5.6, 'type': 'mandatory'}], 'target': {'overs': 20, 'runs': 209}}]\n"
   ],
   "metadata": {
    "collapsed": false,
    "ExecuteTime": {
     "end_time": "2023-10-16T15:35:17.634591800Z",
     "start_time": "2023-10-16T15:34:00.833815600Z"
    }
   },
   "id": "1d8d6084c1ee2daa"
  },
  {
   "cell_type": "code",
   "execution_count": null,
   "outputs": [],
   "source": [],
   "metadata": {
    "collapsed": false
   },
   "id": "840fe7d6517f2c7a"
  }
 ],
 "metadata": {
  "kernelspec": {
   "display_name": "Python 3",
   "language": "python",
   "name": "python3"
  },
  "language_info": {
   "codemirror_mode": {
    "name": "ipython",
    "version": 2
   },
   "file_extension": ".py",
   "mimetype": "text/x-python",
   "name": "python",
   "nbconvert_exporter": "python",
   "pygments_lexer": "ipython2",
   "version": "2.7.6"
  }
 },
 "nbformat": 4,
 "nbformat_minor": 5
}
