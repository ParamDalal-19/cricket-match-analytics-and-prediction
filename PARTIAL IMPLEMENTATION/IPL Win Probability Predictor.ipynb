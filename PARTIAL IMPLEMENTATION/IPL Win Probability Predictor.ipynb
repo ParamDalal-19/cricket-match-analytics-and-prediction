{
 "cells": [
  {
   "cell_type": "code",
   "execution_count": 2,
   "metadata": {
    "ExecuteTime": {
     "end_time": "2023-10-16T07:01:46.836642300Z",
     "start_time": "2023-10-16T07:01:45.421154600Z"
    }
   },
   "outputs": [],
   "source": [
    "import pandas as pd\n",
    "import numpy as np\n",
    "import seaborn as sn\n",
    "import matplotlib.pyplot as plt\n",
    "%matplotlib inline"
   ]
  },
  {
   "cell_type": "code",
   "execution_count": 4,
   "metadata": {
    "ExecuteTime": {
     "end_time": "2023-10-16T07:02:48.911253500Z",
     "start_time": "2023-10-16T07:02:24.131773800Z"
    }
   },
   "outputs": [
    {
     "data": {
      "text/plain": "   id  season       city        date                        team1  \\\n0   1    2017  Hyderabad  2017-04-05          Sunrisers Hyderabad   \n1   2    2017       Pune  2017-04-06       Rising Pune Supergiant   \n2   3    2017     Rajkot  2017-04-07                Gujarat Lions   \n3   4    2017     Indore  2017-04-08              Kings XI Punjab   \n4   5    2017  Bengaluru  2017-04-08  Royal Challengers Bangalore   \n\n                         team2                  toss_winner toss_decision  \\\n0  Royal Challengers Bangalore  Royal Challengers Bangalore         field   \n1               Mumbai Indians       Rising Pune Supergiant         field   \n2        Kolkata Knight Riders        Kolkata Knight Riders         field   \n3       Rising Pune Supergiant              Kings XI Punjab         field   \n4             Delhi Daredevils  Royal Challengers Bangalore           bat   \n\n                        winner  win_by_runs  win_by_wickets player_of_match  \\\n0          Sunrisers Hyderabad           35               0    Yuvraj Singh   \n1       Rising Pune Supergiant            0               7       SPD Smith   \n2        Kolkata Knight Riders            0              10         CA Lynn   \n3              Kings XI Punjab            0               6      GJ Maxwell   \n4  Royal Challengers Bangalore           15               0       KM Jadhav   \n\n                                       venue  \n0  Rajiv Gandhi International Stadium, Uppal  \n1    Maharashtra Cricket Association Stadium  \n2     Saurashtra Cricket Association Stadium  \n3                     Holkar Cricket Stadium  \n4                      M.Chinnaswamy Stadium  ",
      "text/html": "<div>\n<style scoped>\n    .dataframe tbody tr th:only-of-type {\n        vertical-align: middle;\n    }\n\n    .dataframe tbody tr th {\n        vertical-align: top;\n    }\n\n    .dataframe thead th {\n        text-align: right;\n    }\n</style>\n<table border=\"1\" class=\"dataframe\">\n  <thead>\n    <tr style=\"text-align: right;\">\n      <th></th>\n      <th>id</th>\n      <th>season</th>\n      <th>city</th>\n      <th>date</th>\n      <th>team1</th>\n      <th>team2</th>\n      <th>toss_winner</th>\n      <th>toss_decision</th>\n      <th>winner</th>\n      <th>win_by_runs</th>\n      <th>win_by_wickets</th>\n      <th>player_of_match</th>\n      <th>venue</th>\n    </tr>\n  </thead>\n  <tbody>\n    <tr>\n      <th>0</th>\n      <td>1</td>\n      <td>2017</td>\n      <td>Hyderabad</td>\n      <td>2017-04-05</td>\n      <td>Sunrisers Hyderabad</td>\n      <td>Royal Challengers Bangalore</td>\n      <td>Royal Challengers Bangalore</td>\n      <td>field</td>\n      <td>Sunrisers Hyderabad</td>\n      <td>35</td>\n      <td>0</td>\n      <td>Yuvraj Singh</td>\n      <td>Rajiv Gandhi International Stadium, Uppal</td>\n    </tr>\n    <tr>\n      <th>1</th>\n      <td>2</td>\n      <td>2017</td>\n      <td>Pune</td>\n      <td>2017-04-06</td>\n      <td>Rising Pune Supergiant</td>\n      <td>Mumbai Indians</td>\n      <td>Rising Pune Supergiant</td>\n      <td>field</td>\n      <td>Rising Pune Supergiant</td>\n      <td>0</td>\n      <td>7</td>\n      <td>SPD Smith</td>\n      <td>Maharashtra Cricket Association Stadium</td>\n    </tr>\n    <tr>\n      <th>2</th>\n      <td>3</td>\n      <td>2017</td>\n      <td>Rajkot</td>\n      <td>2017-04-07</td>\n      <td>Gujarat Lions</td>\n      <td>Kolkata Knight Riders</td>\n      <td>Kolkata Knight Riders</td>\n      <td>field</td>\n      <td>Kolkata Knight Riders</td>\n      <td>0</td>\n      <td>10</td>\n      <td>CA Lynn</td>\n      <td>Saurashtra Cricket Association Stadium</td>\n    </tr>\n    <tr>\n      <th>3</th>\n      <td>4</td>\n      <td>2017</td>\n      <td>Indore</td>\n      <td>2017-04-08</td>\n      <td>Kings XI Punjab</td>\n      <td>Rising Pune Supergiant</td>\n      <td>Kings XI Punjab</td>\n      <td>field</td>\n      <td>Kings XI Punjab</td>\n      <td>0</td>\n      <td>6</td>\n      <td>GJ Maxwell</td>\n      <td>Holkar Cricket Stadium</td>\n    </tr>\n    <tr>\n      <th>4</th>\n      <td>5</td>\n      <td>2017</td>\n      <td>Bengaluru</td>\n      <td>2017-04-08</td>\n      <td>Royal Challengers Bangalore</td>\n      <td>Delhi Daredevils</td>\n      <td>Royal Challengers Bangalore</td>\n      <td>bat</td>\n      <td>Royal Challengers Bangalore</td>\n      <td>15</td>\n      <td>0</td>\n      <td>KM Jadhav</td>\n      <td>M.Chinnaswamy Stadium</td>\n    </tr>\n  </tbody>\n</table>\n</div>"
     },
     "execution_count": 4,
     "metadata": {},
     "output_type": "execute_result"
    }
   ],
   "source": [
    "matches = pd.read_excel('matches.xlsx')\n",
    "deliveries = pd.read_excel('deliveries.xlsx')\n",
    "matches.head()"
   ]
  },
  {
   "cell_type": "code",
   "execution_count": 5,
   "metadata": {
    "ExecuteTime": {
     "end_time": "2023-10-16T07:03:03.965418900Z",
     "start_time": "2023-10-16T07:03:03.956650300Z"
    }
   },
   "outputs": [
    {
     "data": {
      "text/plain": "((1024, 13), (243817, 12))"
     },
     "execution_count": 5,
     "metadata": {},
     "output_type": "execute_result"
    }
   ],
   "source": [
    "matches.shape,deliveries.shape"
   ]
  },
  {
   "cell_type": "code",
   "execution_count": 6,
   "metadata": {
    "ExecuteTime": {
     "end_time": "2023-10-16T07:03:04.938964500Z",
     "start_time": "2023-10-16T07:03:04.893243100Z"
    }
   },
   "outputs": [
    {
     "data": {
      "text/plain": "        Match_id  Inning Number                 Batting_team  \\\n0              1              1          Sunrisers Hyderabad   \n1              1              1          Sunrisers Hyderabad   \n2              1              1          Sunrisers Hyderabad   \n3              1              1          Sunrisers Hyderabad   \n4              1              1          Sunrisers Hyderabad   \n...          ...            ...                          ...   \n243812      1024              2  Royal Challengers Bangalore   \n243813      1024              2  Royal Challengers Bangalore   \n243814      1024              2  Royal Challengers Bangalore   \n243815      1024              2  Royal Challengers Bangalore   \n243816      1024              2  Royal Challengers Bangalore   \n\n                       Bowling_team  Over  Ball        Batsman    Non-Striker  \\\n0       Royal Challengers Bangalore     0     1      DA Warner       S Dhawan   \n1       Royal Challengers Bangalore     0     2      DA Warner       S Dhawan   \n2       Royal Challengers Bangalore     0     3      DA Warner       S Dhawan   \n3       Royal Challengers Bangalore     0     4      DA Warner       S Dhawan   \n4       Royal Challengers Bangalore     0     5      DA Warner       S Dhawan   \n...                             ...   ...   ...            ...            ...   \n243812          Sunrisers Hyderabad    19     2    Sachin Baby      CJ Jordan   \n243813          Sunrisers Hyderabad    19     3    Sachin Baby      CJ Jordan   \n243814          Sunrisers Hyderabad    19     4  Iqbal Abdulla    Sachin Baby   \n243815          Sunrisers Hyderabad    19     5    Sachin Baby  Iqbal Abdulla   \n243816          Sunrisers Hyderabad    19     6  Iqbal Abdulla    Sachin Baby   \n\n          Bowler  is_super_over player_dismissed  Total  \n0       TS Mills              0              NaN      0  \n1       TS Mills              0              NaN      0  \n2       TS Mills              0              NaN      4  \n3       TS Mills              0              NaN      0  \n4       TS Mills              0              NaN      2  \n...          ...            ...              ...    ...  \n243812   B Kumar              0              NaN      2  \n243813   B Kumar              0        CJ Jordan      0  \n243814   B Kumar              0              NaN      1  \n243815   B Kumar              0              NaN      1  \n243816   B Kumar              0              NaN      4  \n\n[243817 rows x 12 columns]",
      "text/html": "<div>\n<style scoped>\n    .dataframe tbody tr th:only-of-type {\n        vertical-align: middle;\n    }\n\n    .dataframe tbody tr th {\n        vertical-align: top;\n    }\n\n    .dataframe thead th {\n        text-align: right;\n    }\n</style>\n<table border=\"1\" class=\"dataframe\">\n  <thead>\n    <tr style=\"text-align: right;\">\n      <th></th>\n      <th>Match_id</th>\n      <th>Inning Number</th>\n      <th>Batting_team</th>\n      <th>Bowling_team</th>\n      <th>Over</th>\n      <th>Ball</th>\n      <th>Batsman</th>\n      <th>Non-Striker</th>\n      <th>Bowler</th>\n      <th>is_super_over</th>\n      <th>player_dismissed</th>\n      <th>Total</th>\n    </tr>\n  </thead>\n  <tbody>\n    <tr>\n      <th>0</th>\n      <td>1</td>\n      <td>1</td>\n      <td>Sunrisers Hyderabad</td>\n      <td>Royal Challengers Bangalore</td>\n      <td>0</td>\n      <td>1</td>\n      <td>DA Warner</td>\n      <td>S Dhawan</td>\n      <td>TS Mills</td>\n      <td>0</td>\n      <td>NaN</td>\n      <td>0</td>\n    </tr>\n    <tr>\n      <th>1</th>\n      <td>1</td>\n      <td>1</td>\n      <td>Sunrisers Hyderabad</td>\n      <td>Royal Challengers Bangalore</td>\n      <td>0</td>\n      <td>2</td>\n      <td>DA Warner</td>\n      <td>S Dhawan</td>\n      <td>TS Mills</td>\n      <td>0</td>\n      <td>NaN</td>\n      <td>0</td>\n    </tr>\n    <tr>\n      <th>2</th>\n      <td>1</td>\n      <td>1</td>\n      <td>Sunrisers Hyderabad</td>\n      <td>Royal Challengers Bangalore</td>\n      <td>0</td>\n      <td>3</td>\n      <td>DA Warner</td>\n      <td>S Dhawan</td>\n      <td>TS Mills</td>\n      <td>0</td>\n      <td>NaN</td>\n      <td>4</td>\n    </tr>\n    <tr>\n      <th>3</th>\n      <td>1</td>\n      <td>1</td>\n      <td>Sunrisers Hyderabad</td>\n      <td>Royal Challengers Bangalore</td>\n      <td>0</td>\n      <td>4</td>\n      <td>DA Warner</td>\n      <td>S Dhawan</td>\n      <td>TS Mills</td>\n      <td>0</td>\n      <td>NaN</td>\n      <td>0</td>\n    </tr>\n    <tr>\n      <th>4</th>\n      <td>1</td>\n      <td>1</td>\n      <td>Sunrisers Hyderabad</td>\n      <td>Royal Challengers Bangalore</td>\n      <td>0</td>\n      <td>5</td>\n      <td>DA Warner</td>\n      <td>S Dhawan</td>\n      <td>TS Mills</td>\n      <td>0</td>\n      <td>NaN</td>\n      <td>2</td>\n    </tr>\n    <tr>\n      <th>...</th>\n      <td>...</td>\n      <td>...</td>\n      <td>...</td>\n      <td>...</td>\n      <td>...</td>\n      <td>...</td>\n      <td>...</td>\n      <td>...</td>\n      <td>...</td>\n      <td>...</td>\n      <td>...</td>\n      <td>...</td>\n    </tr>\n    <tr>\n      <th>243812</th>\n      <td>1024</td>\n      <td>2</td>\n      <td>Royal Challengers Bangalore</td>\n      <td>Sunrisers Hyderabad</td>\n      <td>19</td>\n      <td>2</td>\n      <td>Sachin Baby</td>\n      <td>CJ Jordan</td>\n      <td>B Kumar</td>\n      <td>0</td>\n      <td>NaN</td>\n      <td>2</td>\n    </tr>\n    <tr>\n      <th>243813</th>\n      <td>1024</td>\n      <td>2</td>\n      <td>Royal Challengers Bangalore</td>\n      <td>Sunrisers Hyderabad</td>\n      <td>19</td>\n      <td>3</td>\n      <td>Sachin Baby</td>\n      <td>CJ Jordan</td>\n      <td>B Kumar</td>\n      <td>0</td>\n      <td>CJ Jordan</td>\n      <td>0</td>\n    </tr>\n    <tr>\n      <th>243814</th>\n      <td>1024</td>\n      <td>2</td>\n      <td>Royal Challengers Bangalore</td>\n      <td>Sunrisers Hyderabad</td>\n      <td>19</td>\n      <td>4</td>\n      <td>Iqbal Abdulla</td>\n      <td>Sachin Baby</td>\n      <td>B Kumar</td>\n      <td>0</td>\n      <td>NaN</td>\n      <td>1</td>\n    </tr>\n    <tr>\n      <th>243815</th>\n      <td>1024</td>\n      <td>2</td>\n      <td>Royal Challengers Bangalore</td>\n      <td>Sunrisers Hyderabad</td>\n      <td>19</td>\n      <td>5</td>\n      <td>Sachin Baby</td>\n      <td>Iqbal Abdulla</td>\n      <td>B Kumar</td>\n      <td>0</td>\n      <td>NaN</td>\n      <td>1</td>\n    </tr>\n    <tr>\n      <th>243816</th>\n      <td>1024</td>\n      <td>2</td>\n      <td>Royal Challengers Bangalore</td>\n      <td>Sunrisers Hyderabad</td>\n      <td>19</td>\n      <td>6</td>\n      <td>Iqbal Abdulla</td>\n      <td>Sachin Baby</td>\n      <td>B Kumar</td>\n      <td>0</td>\n      <td>NaN</td>\n      <td>4</td>\n    </tr>\n  </tbody>\n</table>\n<p>243817 rows × 12 columns</p>\n</div>"
     },
     "execution_count": 6,
     "metadata": {},
     "output_type": "execute_result"
    }
   ],
   "source": [
    "deliveries"
   ]
  },
  {
   "cell_type": "code",
   "execution_count": 7,
   "metadata": {
    "ExecuteTime": {
     "end_time": "2023-10-16T07:03:06.209621900Z",
     "start_time": "2023-10-16T07:03:06.202277200Z"
    }
   },
   "outputs": [
    {
     "data": {
      "text/plain": "Index(['Match_id', 'Inning Number', 'Batting_team', 'Bowling_team', 'Over',\n       'Ball', 'Batsman', 'Non-Striker', 'Bowler', 'is_super_over',\n       'player_dismissed', 'Total'],\n      dtype='object')"
     },
     "execution_count": 7,
     "metadata": {},
     "output_type": "execute_result"
    }
   ],
   "source": [
    "deliveries.columns"
   ]
  },
  {
   "cell_type": "code",
   "execution_count": 8,
   "metadata": {
    "ExecuteTime": {
     "end_time": "2023-10-16T07:03:07.153834Z",
     "start_time": "2023-10-16T07:03:06.860272500Z"
    }
   },
   "outputs": [
    {
     "data": {
      "text/plain": "      Match_id  Inning Number  Total\n0            1              1    207\n1            1              2    172\n2            2              1    184\n3            2              2    187\n4            3              1    183\n...        ...            ...    ...\n2070      1022              2    140\n2071      1023              1    162\n2072      1023              2    163\n2073      1024              1    208\n2074      1024              2    200\n\n[2075 rows x 3 columns]",
      "text/html": "<div>\n<style scoped>\n    .dataframe tbody tr th:only-of-type {\n        vertical-align: middle;\n    }\n\n    .dataframe tbody tr th {\n        vertical-align: top;\n    }\n\n    .dataframe thead th {\n        text-align: right;\n    }\n</style>\n<table border=\"1\" class=\"dataframe\">\n  <thead>\n    <tr style=\"text-align: right;\">\n      <th></th>\n      <th>Match_id</th>\n      <th>Inning Number</th>\n      <th>Total</th>\n    </tr>\n  </thead>\n  <tbody>\n    <tr>\n      <th>0</th>\n      <td>1</td>\n      <td>1</td>\n      <td>207</td>\n    </tr>\n    <tr>\n      <th>1</th>\n      <td>1</td>\n      <td>2</td>\n      <td>172</td>\n    </tr>\n    <tr>\n      <th>2</th>\n      <td>2</td>\n      <td>1</td>\n      <td>184</td>\n    </tr>\n    <tr>\n      <th>3</th>\n      <td>2</td>\n      <td>2</td>\n      <td>187</td>\n    </tr>\n    <tr>\n      <th>4</th>\n      <td>3</td>\n      <td>1</td>\n      <td>183</td>\n    </tr>\n    <tr>\n      <th>...</th>\n      <td>...</td>\n      <td>...</td>\n      <td>...</td>\n    </tr>\n    <tr>\n      <th>2070</th>\n      <td>1022</td>\n      <td>2</td>\n      <td>140</td>\n    </tr>\n    <tr>\n      <th>2071</th>\n      <td>1023</td>\n      <td>1</td>\n      <td>162</td>\n    </tr>\n    <tr>\n      <th>2072</th>\n      <td>1023</td>\n      <td>2</td>\n      <td>163</td>\n    </tr>\n    <tr>\n      <th>2073</th>\n      <td>1024</td>\n      <td>1</td>\n      <td>208</td>\n    </tr>\n    <tr>\n      <th>2074</th>\n      <td>1024</td>\n      <td>2</td>\n      <td>200</td>\n    </tr>\n  </tbody>\n</table>\n<p>2075 rows × 3 columns</p>\n</div>"
     },
     "execution_count": 8,
     "metadata": {},
     "output_type": "execute_result"
    }
   ],
   "source": [
    "# grouping the 1st innings,2nd innings score in a particular matchid\n",
    "# lets say match id = 1,so inning 1 score = 207,inning 2 score = 172,in that way\n",
    "\n",
    "totalrun_df = deliveries.groupby(['Match_id','Inning Number']).sum()['Total'].reset_index()\n",
    "totalrun_df"
   ]
  },
  {
   "cell_type": "code",
   "execution_count": 9,
   "metadata": {
    "ExecuteTime": {
     "end_time": "2023-10-16T07:03:08.277331200Z",
     "start_time": "2023-10-16T07:03:08.245966700Z"
    }
   },
   "outputs": [
    {
     "name": "stderr",
     "output_type": "stream",
     "text": [
      "C:\\Users\\Tejka\\AppData\\Local\\Temp\\ipykernel_5568\\1258832606.py:4: SettingWithCopyWarning: \n",
      "A value is trying to be set on a copy of a slice from a DataFrame.\n",
      "Try using .loc[row_indexer,col_indexer] = value instead\n",
      "\n",
      "See the caveats in the documentation: https://pandas.pydata.org/pandas-docs/stable/user_guide/indexing.html#returning-a-view-versus-a-copy\n",
      "  totalrun_df['Total'] = totalrun_df['Total'].apply(lambda x:x+1)\n"
     ]
    },
    {
     "data": {
      "text/plain": "      Match_id  Inning Number  Total\n0            1              1    208\n2            2              1    185\n4            3              1    184\n6            4              1    164\n8            5              1    158\n...        ...            ...    ...\n2065      1020              1    139\n2067      1021              1    159\n2069      1022              1    163\n2071      1023              1    163\n2073      1024              1    209\n\n[1024 rows x 3 columns]",
      "text/html": "<div>\n<style scoped>\n    .dataframe tbody tr th:only-of-type {\n        vertical-align: middle;\n    }\n\n    .dataframe tbody tr th {\n        vertical-align: top;\n    }\n\n    .dataframe thead th {\n        text-align: right;\n    }\n</style>\n<table border=\"1\" class=\"dataframe\">\n  <thead>\n    <tr style=\"text-align: right;\">\n      <th></th>\n      <th>Match_id</th>\n      <th>Inning Number</th>\n      <th>Total</th>\n    </tr>\n  </thead>\n  <tbody>\n    <tr>\n      <th>0</th>\n      <td>1</td>\n      <td>1</td>\n      <td>208</td>\n    </tr>\n    <tr>\n      <th>2</th>\n      <td>2</td>\n      <td>1</td>\n      <td>185</td>\n    </tr>\n    <tr>\n      <th>4</th>\n      <td>3</td>\n      <td>1</td>\n      <td>184</td>\n    </tr>\n    <tr>\n      <th>6</th>\n      <td>4</td>\n      <td>1</td>\n      <td>164</td>\n    </tr>\n    <tr>\n      <th>8</th>\n      <td>5</td>\n      <td>1</td>\n      <td>158</td>\n    </tr>\n    <tr>\n      <th>...</th>\n      <td>...</td>\n      <td>...</td>\n      <td>...</td>\n    </tr>\n    <tr>\n      <th>2065</th>\n      <td>1020</td>\n      <td>1</td>\n      <td>139</td>\n    </tr>\n    <tr>\n      <th>2067</th>\n      <td>1021</td>\n      <td>1</td>\n      <td>159</td>\n    </tr>\n    <tr>\n      <th>2069</th>\n      <td>1022</td>\n      <td>1</td>\n      <td>163</td>\n    </tr>\n    <tr>\n      <th>2071</th>\n      <td>1023</td>\n      <td>1</td>\n      <td>163</td>\n    </tr>\n    <tr>\n      <th>2073</th>\n      <td>1024</td>\n      <td>1</td>\n      <td>209</td>\n    </tr>\n  </tbody>\n</table>\n<p>1024 rows × 3 columns</p>\n</div>"
     },
     "execution_count": 9,
     "metadata": {},
     "output_type": "execute_result"
    }
   ],
   "source": [
    "# capturing only the first innings,as we will be predicting for the second innnigs\n",
    "\n",
    "totalrun_df = totalrun_df[totalrun_df['Inning Number']==1]\n",
    "totalrun_df['Total'] = totalrun_df['Total'].apply(lambda x:x+1)\n",
    "totalrun_df"
   ]
  },
  {
   "cell_type": "code",
   "execution_count": 10,
   "metadata": {
    "ExecuteTime": {
     "end_time": "2023-10-16T07:03:09.246237Z",
     "start_time": "2023-10-16T07:03:09.221324Z"
    }
   },
   "outputs": [
    {
     "data": {
      "text/plain": "Index(['id', 'season', 'city', 'date', 'team1', 'team2', 'toss_winner',\n       'toss_decision', 'winner', 'win_by_runs', 'win_by_wickets',\n       'player_of_match', 'venue'],\n      dtype='object')"
     },
     "execution_count": 10,
     "metadata": {},
     "output_type": "execute_result"
    }
   ],
   "source": [
    "matches.columns"
   ]
  },
  {
   "cell_type": "code",
   "execution_count": 11,
   "metadata": {
    "scrolled": true,
    "ExecuteTime": {
     "end_time": "2023-10-16T07:03:10.163030400Z",
     "start_time": "2023-10-16T07:03:10.129956800Z"
    }
   },
   "outputs": [
    {
     "data": {
      "text/plain": "        id  season       city        date                        team1  \\\n0        1    2017  Hyderabad  2017-04-05          Sunrisers Hyderabad   \n1        2    2017       Pune  2017-04-06       Rising Pune Supergiant   \n2        3    2017     Rajkot  2017-04-07                Gujarat Lions   \n3        4    2017     Indore  2017-04-08              Kings XI Punjab   \n4        5    2017  Bengaluru  2017-04-08  Royal Challengers Bangalore   \n...    ...     ...        ...         ...                          ...   \n1019  1020    2016     Raipur  2016-05-22             Delhi Daredevils   \n1020  1021    2016  Bangalore  2016-05-24                Gujarat Lions   \n1021  1022    2016      Delhi  2016-05-25          Sunrisers Hyderabad   \n1022  1023    2016      Delhi  2016-05-27                Gujarat Lions   \n1023  1024    2016  Bangalore  2016-05-29  Royal Challengers Bangalore   \n\n                            team2                  toss_winner toss_decision  \\\n0     Royal Challengers Bangalore  Royal Challengers Bangalore         field   \n1                  Mumbai Indians       Rising Pune Supergiant         field   \n2           Kolkata Knight Riders        Kolkata Knight Riders         field   \n3          Rising Pune Supergiant              Kings XI Punjab         field   \n4                Delhi Daredevils  Royal Challengers Bangalore           bat   \n...                           ...                          ...           ...   \n1019  Royal Challengers Bangalore  Royal Challengers Bangalore         field   \n1020  Royal Challengers Bangalore  Royal Challengers Bangalore         field   \n1021        Kolkata Knight Riders        Kolkata Knight Riders         field   \n1022          Sunrisers Hyderabad          Sunrisers Hyderabad         field   \n1023          Sunrisers Hyderabad          Sunrisers Hyderabad           bat   \n\n                           winner  win_by_runs  win_by_wickets  \\\n0             Sunrisers Hyderabad           35               0   \n1          Rising Pune Supergiant            0               7   \n2           Kolkata Knight Riders            0              10   \n3                 Kings XI Punjab            0               6   \n4     Royal Challengers Bangalore           15               0   \n...                           ...          ...             ...   \n1019  Royal Challengers Bangalore            0               6   \n1020  Royal Challengers Bangalore            0               4   \n1021          Sunrisers Hyderabad           22               0   \n1022          Sunrisers Hyderabad            0               4   \n1023          Sunrisers Hyderabad            8               0   \n\n     player_of_match                                             venue  \\\n0       Yuvraj Singh         Rajiv Gandhi International Stadium, Uppal   \n1          SPD Smith           Maharashtra Cricket Association Stadium   \n2            CA Lynn            Saurashtra Cricket Association Stadium   \n3         GJ Maxwell                            Holkar Cricket Stadium   \n4          KM Jadhav                             M.Chinnaswamy Stadium   \n...              ...                                               ...   \n1019         V Kohli  Shaheed Veer Narayan Singh International Stadium   \n1020  AB de Villiers                             M Chinnaswamy Stadium   \n1021    MC Henriques                                  Feroz Shah Kotla   \n1022       DA Warner                                  Feroz Shah Kotla   \n1023     BCJ Cutting                             M Chinnaswamy Stadium   \n\n      Match_id  Total  \n0            1    208  \n1            2    185  \n2            3    184  \n3            4    164  \n4            5    158  \n...        ...    ...  \n1019      1020    139  \n1020      1021    159  \n1021      1022    163  \n1022      1023    163  \n1023      1024    209  \n\n[1024 rows x 15 columns]",
      "text/html": "<div>\n<style scoped>\n    .dataframe tbody tr th:only-of-type {\n        vertical-align: middle;\n    }\n\n    .dataframe tbody tr th {\n        vertical-align: top;\n    }\n\n    .dataframe thead th {\n        text-align: right;\n    }\n</style>\n<table border=\"1\" class=\"dataframe\">\n  <thead>\n    <tr style=\"text-align: right;\">\n      <th></th>\n      <th>id</th>\n      <th>season</th>\n      <th>city</th>\n      <th>date</th>\n      <th>team1</th>\n      <th>team2</th>\n      <th>toss_winner</th>\n      <th>toss_decision</th>\n      <th>winner</th>\n      <th>win_by_runs</th>\n      <th>win_by_wickets</th>\n      <th>player_of_match</th>\n      <th>venue</th>\n      <th>Match_id</th>\n      <th>Total</th>\n    </tr>\n  </thead>\n  <tbody>\n    <tr>\n      <th>0</th>\n      <td>1</td>\n      <td>2017</td>\n      <td>Hyderabad</td>\n      <td>2017-04-05</td>\n      <td>Sunrisers Hyderabad</td>\n      <td>Royal Challengers Bangalore</td>\n      <td>Royal Challengers Bangalore</td>\n      <td>field</td>\n      <td>Sunrisers Hyderabad</td>\n      <td>35</td>\n      <td>0</td>\n      <td>Yuvraj Singh</td>\n      <td>Rajiv Gandhi International Stadium, Uppal</td>\n      <td>1</td>\n      <td>208</td>\n    </tr>\n    <tr>\n      <th>1</th>\n      <td>2</td>\n      <td>2017</td>\n      <td>Pune</td>\n      <td>2017-04-06</td>\n      <td>Rising Pune Supergiant</td>\n      <td>Mumbai Indians</td>\n      <td>Rising Pune Supergiant</td>\n      <td>field</td>\n      <td>Rising Pune Supergiant</td>\n      <td>0</td>\n      <td>7</td>\n      <td>SPD Smith</td>\n      <td>Maharashtra Cricket Association Stadium</td>\n      <td>2</td>\n      <td>185</td>\n    </tr>\n    <tr>\n      <th>2</th>\n      <td>3</td>\n      <td>2017</td>\n      <td>Rajkot</td>\n      <td>2017-04-07</td>\n      <td>Gujarat Lions</td>\n      <td>Kolkata Knight Riders</td>\n      <td>Kolkata Knight Riders</td>\n      <td>field</td>\n      <td>Kolkata Knight Riders</td>\n      <td>0</td>\n      <td>10</td>\n      <td>CA Lynn</td>\n      <td>Saurashtra Cricket Association Stadium</td>\n      <td>3</td>\n      <td>184</td>\n    </tr>\n    <tr>\n      <th>3</th>\n      <td>4</td>\n      <td>2017</td>\n      <td>Indore</td>\n      <td>2017-04-08</td>\n      <td>Kings XI Punjab</td>\n      <td>Rising Pune Supergiant</td>\n      <td>Kings XI Punjab</td>\n      <td>field</td>\n      <td>Kings XI Punjab</td>\n      <td>0</td>\n      <td>6</td>\n      <td>GJ Maxwell</td>\n      <td>Holkar Cricket Stadium</td>\n      <td>4</td>\n      <td>164</td>\n    </tr>\n    <tr>\n      <th>4</th>\n      <td>5</td>\n      <td>2017</td>\n      <td>Bengaluru</td>\n      <td>2017-04-08</td>\n      <td>Royal Challengers Bangalore</td>\n      <td>Delhi Daredevils</td>\n      <td>Royal Challengers Bangalore</td>\n      <td>bat</td>\n      <td>Royal Challengers Bangalore</td>\n      <td>15</td>\n      <td>0</td>\n      <td>KM Jadhav</td>\n      <td>M.Chinnaswamy Stadium</td>\n      <td>5</td>\n      <td>158</td>\n    </tr>\n    <tr>\n      <th>...</th>\n      <td>...</td>\n      <td>...</td>\n      <td>...</td>\n      <td>...</td>\n      <td>...</td>\n      <td>...</td>\n      <td>...</td>\n      <td>...</td>\n      <td>...</td>\n      <td>...</td>\n      <td>...</td>\n      <td>...</td>\n      <td>...</td>\n      <td>...</td>\n      <td>...</td>\n    </tr>\n    <tr>\n      <th>1019</th>\n      <td>1020</td>\n      <td>2016</td>\n      <td>Raipur</td>\n      <td>2016-05-22</td>\n      <td>Delhi Daredevils</td>\n      <td>Royal Challengers Bangalore</td>\n      <td>Royal Challengers Bangalore</td>\n      <td>field</td>\n      <td>Royal Challengers Bangalore</td>\n      <td>0</td>\n      <td>6</td>\n      <td>V Kohli</td>\n      <td>Shaheed Veer Narayan Singh International Stadium</td>\n      <td>1020</td>\n      <td>139</td>\n    </tr>\n    <tr>\n      <th>1020</th>\n      <td>1021</td>\n      <td>2016</td>\n      <td>Bangalore</td>\n      <td>2016-05-24</td>\n      <td>Gujarat Lions</td>\n      <td>Royal Challengers Bangalore</td>\n      <td>Royal Challengers Bangalore</td>\n      <td>field</td>\n      <td>Royal Challengers Bangalore</td>\n      <td>0</td>\n      <td>4</td>\n      <td>AB de Villiers</td>\n      <td>M Chinnaswamy Stadium</td>\n      <td>1021</td>\n      <td>159</td>\n    </tr>\n    <tr>\n      <th>1021</th>\n      <td>1022</td>\n      <td>2016</td>\n      <td>Delhi</td>\n      <td>2016-05-25</td>\n      <td>Sunrisers Hyderabad</td>\n      <td>Kolkata Knight Riders</td>\n      <td>Kolkata Knight Riders</td>\n      <td>field</td>\n      <td>Sunrisers Hyderabad</td>\n      <td>22</td>\n      <td>0</td>\n      <td>MC Henriques</td>\n      <td>Feroz Shah Kotla</td>\n      <td>1022</td>\n      <td>163</td>\n    </tr>\n    <tr>\n      <th>1022</th>\n      <td>1023</td>\n      <td>2016</td>\n      <td>Delhi</td>\n      <td>2016-05-27</td>\n      <td>Gujarat Lions</td>\n      <td>Sunrisers Hyderabad</td>\n      <td>Sunrisers Hyderabad</td>\n      <td>field</td>\n      <td>Sunrisers Hyderabad</td>\n      <td>0</td>\n      <td>4</td>\n      <td>DA Warner</td>\n      <td>Feroz Shah Kotla</td>\n      <td>1023</td>\n      <td>163</td>\n    </tr>\n    <tr>\n      <th>1023</th>\n      <td>1024</td>\n      <td>2016</td>\n      <td>Bangalore</td>\n      <td>2016-05-29</td>\n      <td>Royal Challengers Bangalore</td>\n      <td>Sunrisers Hyderabad</td>\n      <td>Sunrisers Hyderabad</td>\n      <td>bat</td>\n      <td>Sunrisers Hyderabad</td>\n      <td>8</td>\n      <td>0</td>\n      <td>BCJ Cutting</td>\n      <td>M Chinnaswamy Stadium</td>\n      <td>1024</td>\n      <td>209</td>\n    </tr>\n  </tbody>\n</table>\n<p>1024 rows × 15 columns</p>\n</div>"
     },
     "execution_count": 11,
     "metadata": {},
     "output_type": "execute_result"
    }
   ],
   "source": [
    "'''\n",
    "Merging the total first innings score df with the matches df,\n",
    "where left side merging is done on \"id\" column of the matches\n",
    "and right side merging is done on \"match_id\" column of the totalrun_df\n",
    "\n",
    "This is an inner join. The inner join returns only the rows that have matching values in both tables, \n",
    "in this case, the 'matches' DataFrame and the 'totalrun_df' DataFrame. \n",
    "It returns only the rows where the 'id' column in the \"matches\" DataFrame has a match in the 'match_id' \n",
    "column of the \"totalrun_df\" DataFrame.\n",
    "\n",
    "'''\n",
    "\n",
    "match_df = matches.merge(totalrun_df[['Match_id','Total']],\n",
    "                       left_on='id',right_on='Match_id')\n",
    "\n",
    "match_df"
   ]
  },
  {
   "cell_type": "code",
   "execution_count": 12,
   "metadata": {
    "ExecuteTime": {
     "end_time": "2023-10-16T07:03:11.380733800Z",
     "start_time": "2023-10-16T07:03:11.378079600Z"
    }
   },
   "outputs": [
    {
     "data": {
      "text/plain": "array(['Sunrisers Hyderabad', 'Rising Pune Supergiant', 'Gujarat Lions',\n       'Kings XI Punjab', 'Royal Challengers Bangalore', 'Mumbai Indians',\n       'Kolkata Knight Riders', 'Delhi Daredevils', 'Rajasthan Royals',\n       'Chennai Super Kings', 'Delhi Capitals', 'Punjab Kings',\n       'Lucknow Super Giants', 'Gujarat Titans', 'Deccan Chargers',\n       'Kochi Tuskers Kerala', 'Pune Warriors', 'Rising Pune Supergiants'],\n      dtype=object)"
     },
     "execution_count": 12,
     "metadata": {},
     "output_type": "execute_result"
    }
   ],
   "source": [
    "match_df['team1'].unique()"
   ]
  },
  {
   "cell_type": "code",
   "execution_count": 13,
   "metadata": {
    "ExecuteTime": {
     "end_time": "2023-10-16T07:03:12.436290500Z",
     "start_time": "2023-10-16T07:03:12.431253100Z"
    }
   },
   "outputs": [],
   "source": [
    "teams = [\n",
    "    'Sunrisers Hyderabad',\n",
    "    'Mumbai Indians',\n",
    "    'Royal Challengers Bangalore',\n",
    "    'Kolkata Knight Riders',\n",
    "    'Kings XI Punjab',\n",
    "    'Chennai Super Kings',\n",
    "    'Rajasthan Royals',\n",
    "    'Delhi Capitals',\n",
    "    'Rising Pune Supergiant',\n",
    "    'Gujarat Lions',\n",
    "    'Delhi Daredevils',\n",
    "]"
   ]
  },
  {
   "cell_type": "code",
   "execution_count": 14,
   "metadata": {
    "ExecuteTime": {
     "end_time": "2023-10-16T07:03:13.313814900Z",
     "start_time": "2023-10-16T07:03:13.285143100Z"
    }
   },
   "outputs": [],
   "source": [
    "# replacing the Delhi Daredevils with Delhi Capitals\n",
    "\n",
    "match_df['team1'] = match_df['team1'].str.replace('Delhi Daredevils','Delhi Capitals')\n",
    "match_df['team2'] = match_df['team2'].str.replace('Delhi Daredevils','Delhi Capitals')\n",
    "\n",
    "\n",
    "# replacing the Deccan Chargers with Sunrises Hyderabad\n",
    "\n",
    "match_df['team1'] = match_df['team1'].str.replace('Deccan Chargers','Sunrisers Hyderabad')\n",
    "match_df['team2'] = match_df['team2'].str.replace('Deccan Chargers','Sunrisers Hyderabad')\n",
    "\n"
   ]
  },
  {
   "cell_type": "code",
   "execution_count": 15,
   "metadata": {
    "ExecuteTime": {
     "end_time": "2023-10-16T07:03:14.308984800Z",
     "start_time": "2023-10-16T07:03:14.285055100Z"
    }
   },
   "outputs": [
    {
     "data": {
      "text/plain": "array(['Sunrisers Hyderabad', 'Rising Pune Supergiant', 'Gujarat Lions',\n       'Kings XI Punjab', 'Royal Challengers Bangalore', 'Mumbai Indians',\n       'Kolkata Knight Riders', 'Delhi Capitals', 'Rajasthan Royals',\n       'Chennai Super Kings'], dtype=object)"
     },
     "execution_count": 15,
     "metadata": {},
     "output_type": "execute_result"
    }
   ],
   "source": [
    "# will consider only frequently occuring teams,\n",
    "# which are mentioned in the teams list\n",
    "\n",
    "match_df = match_df[match_df['team1'].isin(teams)]\n",
    "match_df = match_df[match_df['team2'].isin(teams)]\n",
    "\n",
    "match_df['team1'].unique()"
   ]
  },
  {
   "cell_type": "code",
   "execution_count": 16,
   "metadata": {
    "ExecuteTime": {
     "end_time": "2023-10-16T07:03:15.482541300Z",
     "start_time": "2023-10-16T07:03:15.475281Z"
    }
   },
   "outputs": [
    {
     "data": {
      "text/plain": "(856, 15)"
     },
     "execution_count": 16,
     "metadata": {},
     "output_type": "execute_result"
    }
   ],
   "source": [
    "match_df.shape"
   ]
  },
  {
   "cell_type": "code",
   "execution_count": 17,
   "metadata": {
    "ExecuteTime": {
     "end_time": "2023-10-16T07:03:16.375101500Z",
     "start_time": "2023-10-16T07:03:16.347110Z"
    }
   },
   "outputs": [
    {
     "data": {
      "text/plain": "   id  season       city        date                        team1  \\\n0   1    2017  Hyderabad  2017-04-05          Sunrisers Hyderabad   \n1   2    2017       Pune  2017-04-06       Rising Pune Supergiant   \n2   3    2017     Rajkot  2017-04-07                Gujarat Lions   \n3   4    2017     Indore  2017-04-08              Kings XI Punjab   \n4   5    2017  Bengaluru  2017-04-08  Royal Challengers Bangalore   \n\n                         team2                  toss_winner toss_decision  \\\n0  Royal Challengers Bangalore  Royal Challengers Bangalore         field   \n1               Mumbai Indians       Rising Pune Supergiant         field   \n2        Kolkata Knight Riders        Kolkata Knight Riders         field   \n3       Rising Pune Supergiant              Kings XI Punjab         field   \n4               Delhi Capitals  Royal Challengers Bangalore           bat   \n\n                        winner  win_by_runs  win_by_wickets player_of_match  \\\n0          Sunrisers Hyderabad           35               0    Yuvraj Singh   \n1       Rising Pune Supergiant            0               7       SPD Smith   \n2        Kolkata Knight Riders            0              10         CA Lynn   \n3              Kings XI Punjab            0               6      GJ Maxwell   \n4  Royal Challengers Bangalore           15               0       KM Jadhav   \n\n                                       venue  Match_id  Total  \n0  Rajiv Gandhi International Stadium, Uppal         1    208  \n1    Maharashtra Cricket Association Stadium         2    185  \n2     Saurashtra Cricket Association Stadium         3    184  \n3                     Holkar Cricket Stadium         4    164  \n4                      M.Chinnaswamy Stadium         5    158  ",
      "text/html": "<div>\n<style scoped>\n    .dataframe tbody tr th:only-of-type {\n        vertical-align: middle;\n    }\n\n    .dataframe tbody tr th {\n        vertical-align: top;\n    }\n\n    .dataframe thead th {\n        text-align: right;\n    }\n</style>\n<table border=\"1\" class=\"dataframe\">\n  <thead>\n    <tr style=\"text-align: right;\">\n      <th></th>\n      <th>id</th>\n      <th>season</th>\n      <th>city</th>\n      <th>date</th>\n      <th>team1</th>\n      <th>team2</th>\n      <th>toss_winner</th>\n      <th>toss_decision</th>\n      <th>winner</th>\n      <th>win_by_runs</th>\n      <th>win_by_wickets</th>\n      <th>player_of_match</th>\n      <th>venue</th>\n      <th>Match_id</th>\n      <th>Total</th>\n    </tr>\n  </thead>\n  <tbody>\n    <tr>\n      <th>0</th>\n      <td>1</td>\n      <td>2017</td>\n      <td>Hyderabad</td>\n      <td>2017-04-05</td>\n      <td>Sunrisers Hyderabad</td>\n      <td>Royal Challengers Bangalore</td>\n      <td>Royal Challengers Bangalore</td>\n      <td>field</td>\n      <td>Sunrisers Hyderabad</td>\n      <td>35</td>\n      <td>0</td>\n      <td>Yuvraj Singh</td>\n      <td>Rajiv Gandhi International Stadium, Uppal</td>\n      <td>1</td>\n      <td>208</td>\n    </tr>\n    <tr>\n      <th>1</th>\n      <td>2</td>\n      <td>2017</td>\n      <td>Pune</td>\n      <td>2017-04-06</td>\n      <td>Rising Pune Supergiant</td>\n      <td>Mumbai Indians</td>\n      <td>Rising Pune Supergiant</td>\n      <td>field</td>\n      <td>Rising Pune Supergiant</td>\n      <td>0</td>\n      <td>7</td>\n      <td>SPD Smith</td>\n      <td>Maharashtra Cricket Association Stadium</td>\n      <td>2</td>\n      <td>185</td>\n    </tr>\n    <tr>\n      <th>2</th>\n      <td>3</td>\n      <td>2017</td>\n      <td>Rajkot</td>\n      <td>2017-04-07</td>\n      <td>Gujarat Lions</td>\n      <td>Kolkata Knight Riders</td>\n      <td>Kolkata Knight Riders</td>\n      <td>field</td>\n      <td>Kolkata Knight Riders</td>\n      <td>0</td>\n      <td>10</td>\n      <td>CA Lynn</td>\n      <td>Saurashtra Cricket Association Stadium</td>\n      <td>3</td>\n      <td>184</td>\n    </tr>\n    <tr>\n      <th>3</th>\n      <td>4</td>\n      <td>2017</td>\n      <td>Indore</td>\n      <td>2017-04-08</td>\n      <td>Kings XI Punjab</td>\n      <td>Rising Pune Supergiant</td>\n      <td>Kings XI Punjab</td>\n      <td>field</td>\n      <td>Kings XI Punjab</td>\n      <td>0</td>\n      <td>6</td>\n      <td>GJ Maxwell</td>\n      <td>Holkar Cricket Stadium</td>\n      <td>4</td>\n      <td>164</td>\n    </tr>\n    <tr>\n      <th>4</th>\n      <td>5</td>\n      <td>2017</td>\n      <td>Bengaluru</td>\n      <td>2017-04-08</td>\n      <td>Royal Challengers Bangalore</td>\n      <td>Delhi Capitals</td>\n      <td>Royal Challengers Bangalore</td>\n      <td>bat</td>\n      <td>Royal Challengers Bangalore</td>\n      <td>15</td>\n      <td>0</td>\n      <td>KM Jadhav</td>\n      <td>M.Chinnaswamy Stadium</td>\n      <td>5</td>\n      <td>158</td>\n    </tr>\n  </tbody>\n</table>\n</div>"
     },
     "execution_count": 17,
     "metadata": {},
     "output_type": "execute_result"
    }
   ],
   "source": [
    "match_df.head()"
   ]
  },
  {
   "cell_type": "code",
   "execution_count": 18,
   "metadata": {
    "ExecuteTime": {
     "end_time": "2023-10-16T07:03:17.510803100Z",
     "start_time": "2023-10-16T07:03:17.490859Z"
    }
   },
   "outputs": [
    {
     "data": {
      "text/plain": "   Match_id  Inning Number         Batting_team                 Bowling_team  \\\n0         1              1  Sunrisers Hyderabad  Royal Challengers Bangalore   \n1         1              1  Sunrisers Hyderabad  Royal Challengers Bangalore   \n2         1              1  Sunrisers Hyderabad  Royal Challengers Bangalore   \n\n   Over  Ball    Batsman Non-Striker    Bowler  is_super_over  \\\n0     0     1  DA Warner    S Dhawan  TS Mills              0   \n1     0     2  DA Warner    S Dhawan  TS Mills              0   \n2     0     3  DA Warner    S Dhawan  TS Mills              0   \n\n  player_dismissed  Total  \n0              NaN      0  \n1              NaN      0  \n2              NaN      4  ",
      "text/html": "<div>\n<style scoped>\n    .dataframe tbody tr th:only-of-type {\n        vertical-align: middle;\n    }\n\n    .dataframe tbody tr th {\n        vertical-align: top;\n    }\n\n    .dataframe thead th {\n        text-align: right;\n    }\n</style>\n<table border=\"1\" class=\"dataframe\">\n  <thead>\n    <tr style=\"text-align: right;\">\n      <th></th>\n      <th>Match_id</th>\n      <th>Inning Number</th>\n      <th>Batting_team</th>\n      <th>Bowling_team</th>\n      <th>Over</th>\n      <th>Ball</th>\n      <th>Batsman</th>\n      <th>Non-Striker</th>\n      <th>Bowler</th>\n      <th>is_super_over</th>\n      <th>player_dismissed</th>\n      <th>Total</th>\n    </tr>\n  </thead>\n  <tbody>\n    <tr>\n      <th>0</th>\n      <td>1</td>\n      <td>1</td>\n      <td>Sunrisers Hyderabad</td>\n      <td>Royal Challengers Bangalore</td>\n      <td>0</td>\n      <td>1</td>\n      <td>DA Warner</td>\n      <td>S Dhawan</td>\n      <td>TS Mills</td>\n      <td>0</td>\n      <td>NaN</td>\n      <td>0</td>\n    </tr>\n    <tr>\n      <th>1</th>\n      <td>1</td>\n      <td>1</td>\n      <td>Sunrisers Hyderabad</td>\n      <td>Royal Challengers Bangalore</td>\n      <td>0</td>\n      <td>2</td>\n      <td>DA Warner</td>\n      <td>S Dhawan</td>\n      <td>TS Mills</td>\n      <td>0</td>\n      <td>NaN</td>\n      <td>0</td>\n    </tr>\n    <tr>\n      <th>2</th>\n      <td>1</td>\n      <td>1</td>\n      <td>Sunrisers Hyderabad</td>\n      <td>Royal Challengers Bangalore</td>\n      <td>0</td>\n      <td>3</td>\n      <td>DA Warner</td>\n      <td>S Dhawan</td>\n      <td>TS Mills</td>\n      <td>0</td>\n      <td>NaN</td>\n      <td>4</td>\n    </tr>\n  </tbody>\n</table>\n</div>"
     },
     "execution_count": 18,
     "metadata": {},
     "output_type": "execute_result"
    }
   ],
   "source": [
    "deliveries.head(3)"
   ]
  },
  {
   "cell_type": "code",
   "execution_count": 19,
   "metadata": {
    "ExecuteTime": {
     "end_time": "2023-10-16T07:03:18.718400Z",
     "start_time": "2023-10-16T07:03:18.528407900Z"
    }
   },
   "outputs": [
    {
     "data": {
      "text/plain": "   id  season       city        date                team1  \\\n0   1    2017  Hyderabad  2017-04-05  Sunrisers Hyderabad   \n1   1    2017  Hyderabad  2017-04-05  Sunrisers Hyderabad   \n2   1    2017  Hyderabad  2017-04-05  Sunrisers Hyderabad   \n3   1    2017  Hyderabad  2017-04-05  Sunrisers Hyderabad   \n4   1    2017  Hyderabad  2017-04-05  Sunrisers Hyderabad   \n\n                         team2                  toss_winner toss_decision  \\\n0  Royal Challengers Bangalore  Royal Challengers Bangalore         field   \n1  Royal Challengers Bangalore  Royal Challengers Bangalore         field   \n2  Royal Challengers Bangalore  Royal Challengers Bangalore         field   \n3  Royal Challengers Bangalore  Royal Challengers Bangalore         field   \n4  Royal Challengers Bangalore  Royal Challengers Bangalore         field   \n\n                winner  win_by_runs  ...         Batting_team  \\\n0  Sunrisers Hyderabad           35  ...  Sunrisers Hyderabad   \n1  Sunrisers Hyderabad           35  ...  Sunrisers Hyderabad   \n2  Sunrisers Hyderabad           35  ...  Sunrisers Hyderabad   \n3  Sunrisers Hyderabad           35  ...  Sunrisers Hyderabad   \n4  Sunrisers Hyderabad           35  ...  Sunrisers Hyderabad   \n\n                  Bowling_team Over  Ball    Batsman  Non-Striker    Bowler  \\\n0  Royal Challengers Bangalore    0     1  DA Warner     S Dhawan  TS Mills   \n1  Royal Challengers Bangalore    0     2  DA Warner     S Dhawan  TS Mills   \n2  Royal Challengers Bangalore    0     3  DA Warner     S Dhawan  TS Mills   \n3  Royal Challengers Bangalore    0     4  DA Warner     S Dhawan  TS Mills   \n4  Royal Challengers Bangalore    0     5  DA Warner     S Dhawan  TS Mills   \n\n  is_super_over  player_dismissed  Total_y  \n0             0               NaN        0  \n1             0               NaN        0  \n2             0               NaN        4  \n3             0               NaN        0  \n4             0               NaN        2  \n\n[5 rows x 26 columns]",
      "text/html": "<div>\n<style scoped>\n    .dataframe tbody tr th:only-of-type {\n        vertical-align: middle;\n    }\n\n    .dataframe tbody tr th {\n        vertical-align: top;\n    }\n\n    .dataframe thead th {\n        text-align: right;\n    }\n</style>\n<table border=\"1\" class=\"dataframe\">\n  <thead>\n    <tr style=\"text-align: right;\">\n      <th></th>\n      <th>id</th>\n      <th>season</th>\n      <th>city</th>\n      <th>date</th>\n      <th>team1</th>\n      <th>team2</th>\n      <th>toss_winner</th>\n      <th>toss_decision</th>\n      <th>winner</th>\n      <th>win_by_runs</th>\n      <th>...</th>\n      <th>Batting_team</th>\n      <th>Bowling_team</th>\n      <th>Over</th>\n      <th>Ball</th>\n      <th>Batsman</th>\n      <th>Non-Striker</th>\n      <th>Bowler</th>\n      <th>is_super_over</th>\n      <th>player_dismissed</th>\n      <th>Total_y</th>\n    </tr>\n  </thead>\n  <tbody>\n    <tr>\n      <th>0</th>\n      <td>1</td>\n      <td>2017</td>\n      <td>Hyderabad</td>\n      <td>2017-04-05</td>\n      <td>Sunrisers Hyderabad</td>\n      <td>Royal Challengers Bangalore</td>\n      <td>Royal Challengers Bangalore</td>\n      <td>field</td>\n      <td>Sunrisers Hyderabad</td>\n      <td>35</td>\n      <td>...</td>\n      <td>Sunrisers Hyderabad</td>\n      <td>Royal Challengers Bangalore</td>\n      <td>0</td>\n      <td>1</td>\n      <td>DA Warner</td>\n      <td>S Dhawan</td>\n      <td>TS Mills</td>\n      <td>0</td>\n      <td>NaN</td>\n      <td>0</td>\n    </tr>\n    <tr>\n      <th>1</th>\n      <td>1</td>\n      <td>2017</td>\n      <td>Hyderabad</td>\n      <td>2017-04-05</td>\n      <td>Sunrisers Hyderabad</td>\n      <td>Royal Challengers Bangalore</td>\n      <td>Royal Challengers Bangalore</td>\n      <td>field</td>\n      <td>Sunrisers Hyderabad</td>\n      <td>35</td>\n      <td>...</td>\n      <td>Sunrisers Hyderabad</td>\n      <td>Royal Challengers Bangalore</td>\n      <td>0</td>\n      <td>2</td>\n      <td>DA Warner</td>\n      <td>S Dhawan</td>\n      <td>TS Mills</td>\n      <td>0</td>\n      <td>NaN</td>\n      <td>0</td>\n    </tr>\n    <tr>\n      <th>2</th>\n      <td>1</td>\n      <td>2017</td>\n      <td>Hyderabad</td>\n      <td>2017-04-05</td>\n      <td>Sunrisers Hyderabad</td>\n      <td>Royal Challengers Bangalore</td>\n      <td>Royal Challengers Bangalore</td>\n      <td>field</td>\n      <td>Sunrisers Hyderabad</td>\n      <td>35</td>\n      <td>...</td>\n      <td>Sunrisers Hyderabad</td>\n      <td>Royal Challengers Bangalore</td>\n      <td>0</td>\n      <td>3</td>\n      <td>DA Warner</td>\n      <td>S Dhawan</td>\n      <td>TS Mills</td>\n      <td>0</td>\n      <td>NaN</td>\n      <td>4</td>\n    </tr>\n    <tr>\n      <th>3</th>\n      <td>1</td>\n      <td>2017</td>\n      <td>Hyderabad</td>\n      <td>2017-04-05</td>\n      <td>Sunrisers Hyderabad</td>\n      <td>Royal Challengers Bangalore</td>\n      <td>Royal Challengers Bangalore</td>\n      <td>field</td>\n      <td>Sunrisers Hyderabad</td>\n      <td>35</td>\n      <td>...</td>\n      <td>Sunrisers Hyderabad</td>\n      <td>Royal Challengers Bangalore</td>\n      <td>0</td>\n      <td>4</td>\n      <td>DA Warner</td>\n      <td>S Dhawan</td>\n      <td>TS Mills</td>\n      <td>0</td>\n      <td>NaN</td>\n      <td>0</td>\n    </tr>\n    <tr>\n      <th>4</th>\n      <td>1</td>\n      <td>2017</td>\n      <td>Hyderabad</td>\n      <td>2017-04-05</td>\n      <td>Sunrisers Hyderabad</td>\n      <td>Royal Challengers Bangalore</td>\n      <td>Royal Challengers Bangalore</td>\n      <td>field</td>\n      <td>Sunrisers Hyderabad</td>\n      <td>35</td>\n      <td>...</td>\n      <td>Sunrisers Hyderabad</td>\n      <td>Royal Challengers Bangalore</td>\n      <td>0</td>\n      <td>5</td>\n      <td>DA Warner</td>\n      <td>S Dhawan</td>\n      <td>TS Mills</td>\n      <td>0</td>\n      <td>NaN</td>\n      <td>2</td>\n    </tr>\n  </tbody>\n</table>\n<p>5 rows × 26 columns</p>\n</div>"
     },
     "execution_count": 19,
     "metadata": {},
     "output_type": "execute_result"
    }
   ],
   "source": [
    "# merging matchdf with delevieries on match_id\n",
    "\n",
    "delivery_df = match_df.merge(deliveries,on='Match_id')\n",
    "\n",
    "delivery_df.head(5)"
   ]
  },
  {
   "cell_type": "code",
   "execution_count": 20,
   "metadata": {
    "ExecuteTime": {
     "end_time": "2023-10-16T07:03:20.120577900Z",
     "start_time": "2023-10-16T07:03:20.117215500Z"
    }
   },
   "outputs": [
    {
     "data": {
      "text/plain": "Index(['id', 'season', 'city', 'date', 'team1', 'team2', 'toss_winner',\n       'toss_decision', 'winner', 'win_by_runs', 'win_by_wickets',\n       'player_of_match', 'venue', 'Match_id', 'Total_x', 'Inning Number',\n       'Batting_team', 'Bowling_team', 'Over', 'Ball', 'Batsman',\n       'Non-Striker', 'Bowler', 'is_super_over', 'player_dismissed',\n       'Total_y'],\n      dtype='object')"
     },
     "execution_count": 20,
     "metadata": {},
     "output_type": "execute_result"
    }
   ],
   "source": [
    "delivery_df.columns"
   ]
  },
  {
   "cell_type": "code",
   "execution_count": 21,
   "metadata": {
    "ExecuteTime": {
     "end_time": "2023-10-16T07:03:21.088765600Z",
     "start_time": "2023-10-16T07:03:21.037430200Z"
    }
   },
   "outputs": [
    {
     "data": {
      "text/plain": "     id  season       city        date                team1  \\\n125   1    2017  Hyderabad  2017-04-05  Sunrisers Hyderabad   \n126   1    2017  Hyderabad  2017-04-05  Sunrisers Hyderabad   \n127   1    2017  Hyderabad  2017-04-05  Sunrisers Hyderabad   \n128   1    2017  Hyderabad  2017-04-05  Sunrisers Hyderabad   \n129   1    2017  Hyderabad  2017-04-05  Sunrisers Hyderabad   \n\n                           team2                  toss_winner toss_decision  \\\n125  Royal Challengers Bangalore  Royal Challengers Bangalore         field   \n126  Royal Challengers Bangalore  Royal Challengers Bangalore         field   \n127  Royal Challengers Bangalore  Royal Challengers Bangalore         field   \n128  Royal Challengers Bangalore  Royal Challengers Bangalore         field   \n129  Royal Challengers Bangalore  Royal Challengers Bangalore         field   \n\n                  winner  win_by_runs  ...                 Batting_team  \\\n125  Sunrisers Hyderabad           35  ...  Royal Challengers Bangalore   \n126  Sunrisers Hyderabad           35  ...  Royal Challengers Bangalore   \n127  Sunrisers Hyderabad           35  ...  Royal Challengers Bangalore   \n128  Sunrisers Hyderabad           35  ...  Royal Challengers Bangalore   \n129  Sunrisers Hyderabad           35  ...  Royal Challengers Bangalore   \n\n            Bowling_team Over  Ball        Batsman    Non-Striker   Bowler  \\\n125  Sunrisers Hyderabad    0     1       CH Gayle  Mandeep Singh  A Nehra   \n126  Sunrisers Hyderabad    0     2  Mandeep Singh       CH Gayle  A Nehra   \n127  Sunrisers Hyderabad    0     3  Mandeep Singh       CH Gayle  A Nehra   \n128  Sunrisers Hyderabad    0     4  Mandeep Singh       CH Gayle  A Nehra   \n129  Sunrisers Hyderabad    0     5  Mandeep Singh       CH Gayle  A Nehra   \n\n    is_super_over  player_dismissed  Total_y  \n125             0               NaN        1  \n126             0               NaN        0  \n127             0               NaN        0  \n128             0               NaN        2  \n129             0               NaN        4  \n\n[5 rows x 26 columns]",
      "text/html": "<div>\n<style scoped>\n    .dataframe tbody tr th:only-of-type {\n        vertical-align: middle;\n    }\n\n    .dataframe tbody tr th {\n        vertical-align: top;\n    }\n\n    .dataframe thead th {\n        text-align: right;\n    }\n</style>\n<table border=\"1\" class=\"dataframe\">\n  <thead>\n    <tr style=\"text-align: right;\">\n      <th></th>\n      <th>id</th>\n      <th>season</th>\n      <th>city</th>\n      <th>date</th>\n      <th>team1</th>\n      <th>team2</th>\n      <th>toss_winner</th>\n      <th>toss_decision</th>\n      <th>winner</th>\n      <th>win_by_runs</th>\n      <th>...</th>\n      <th>Batting_team</th>\n      <th>Bowling_team</th>\n      <th>Over</th>\n      <th>Ball</th>\n      <th>Batsman</th>\n      <th>Non-Striker</th>\n      <th>Bowler</th>\n      <th>is_super_over</th>\n      <th>player_dismissed</th>\n      <th>Total_y</th>\n    </tr>\n  </thead>\n  <tbody>\n    <tr>\n      <th>125</th>\n      <td>1</td>\n      <td>2017</td>\n      <td>Hyderabad</td>\n      <td>2017-04-05</td>\n      <td>Sunrisers Hyderabad</td>\n      <td>Royal Challengers Bangalore</td>\n      <td>Royal Challengers Bangalore</td>\n      <td>field</td>\n      <td>Sunrisers Hyderabad</td>\n      <td>35</td>\n      <td>...</td>\n      <td>Royal Challengers Bangalore</td>\n      <td>Sunrisers Hyderabad</td>\n      <td>0</td>\n      <td>1</td>\n      <td>CH Gayle</td>\n      <td>Mandeep Singh</td>\n      <td>A Nehra</td>\n      <td>0</td>\n      <td>NaN</td>\n      <td>1</td>\n    </tr>\n    <tr>\n      <th>126</th>\n      <td>1</td>\n      <td>2017</td>\n      <td>Hyderabad</td>\n      <td>2017-04-05</td>\n      <td>Sunrisers Hyderabad</td>\n      <td>Royal Challengers Bangalore</td>\n      <td>Royal Challengers Bangalore</td>\n      <td>field</td>\n      <td>Sunrisers Hyderabad</td>\n      <td>35</td>\n      <td>...</td>\n      <td>Royal Challengers Bangalore</td>\n      <td>Sunrisers Hyderabad</td>\n      <td>0</td>\n      <td>2</td>\n      <td>Mandeep Singh</td>\n      <td>CH Gayle</td>\n      <td>A Nehra</td>\n      <td>0</td>\n      <td>NaN</td>\n      <td>0</td>\n    </tr>\n    <tr>\n      <th>127</th>\n      <td>1</td>\n      <td>2017</td>\n      <td>Hyderabad</td>\n      <td>2017-04-05</td>\n      <td>Sunrisers Hyderabad</td>\n      <td>Royal Challengers Bangalore</td>\n      <td>Royal Challengers Bangalore</td>\n      <td>field</td>\n      <td>Sunrisers Hyderabad</td>\n      <td>35</td>\n      <td>...</td>\n      <td>Royal Challengers Bangalore</td>\n      <td>Sunrisers Hyderabad</td>\n      <td>0</td>\n      <td>3</td>\n      <td>Mandeep Singh</td>\n      <td>CH Gayle</td>\n      <td>A Nehra</td>\n      <td>0</td>\n      <td>NaN</td>\n      <td>0</td>\n    </tr>\n    <tr>\n      <th>128</th>\n      <td>1</td>\n      <td>2017</td>\n      <td>Hyderabad</td>\n      <td>2017-04-05</td>\n      <td>Sunrisers Hyderabad</td>\n      <td>Royal Challengers Bangalore</td>\n      <td>Royal Challengers Bangalore</td>\n      <td>field</td>\n      <td>Sunrisers Hyderabad</td>\n      <td>35</td>\n      <td>...</td>\n      <td>Royal Challengers Bangalore</td>\n      <td>Sunrisers Hyderabad</td>\n      <td>0</td>\n      <td>4</td>\n      <td>Mandeep Singh</td>\n      <td>CH Gayle</td>\n      <td>A Nehra</td>\n      <td>0</td>\n      <td>NaN</td>\n      <td>2</td>\n    </tr>\n    <tr>\n      <th>129</th>\n      <td>1</td>\n      <td>2017</td>\n      <td>Hyderabad</td>\n      <td>2017-04-05</td>\n      <td>Sunrisers Hyderabad</td>\n      <td>Royal Challengers Bangalore</td>\n      <td>Royal Challengers Bangalore</td>\n      <td>field</td>\n      <td>Sunrisers Hyderabad</td>\n      <td>35</td>\n      <td>...</td>\n      <td>Royal Challengers Bangalore</td>\n      <td>Sunrisers Hyderabad</td>\n      <td>0</td>\n      <td>5</td>\n      <td>Mandeep Singh</td>\n      <td>CH Gayle</td>\n      <td>A Nehra</td>\n      <td>0</td>\n      <td>NaN</td>\n      <td>4</td>\n    </tr>\n  </tbody>\n</table>\n<p>5 rows × 26 columns</p>\n</div>"
     },
     "execution_count": 21,
     "metadata": {},
     "output_type": "execute_result"
    }
   ],
   "source": [
    "# considering the 2nd innings because we have to keep a check on the current score of second innings\n",
    "\n",
    "delivery_df = delivery_df[delivery_df['Inning Number'] == 2]\n",
    "delivery_df.head()"
   ]
  },
  {
   "cell_type": "code",
   "execution_count": 22,
   "metadata": {
    "ExecuteTime": {
     "end_time": "2023-10-16T07:03:22.147191600Z",
     "start_time": "2023-10-16T07:03:22.139248100Z"
    }
   },
   "outputs": [
    {
     "data": {
      "text/plain": "(98313, 26)"
     },
     "execution_count": 22,
     "metadata": {},
     "output_type": "execute_result"
    }
   ],
   "source": [
    "delivery_df.shape"
   ]
  },
  {
   "cell_type": "code",
   "execution_count": 24,
   "metadata": {
    "ExecuteTime": {
     "end_time": "2023-10-16T07:05:37.794088700Z",
     "start_time": "2023-10-16T07:05:37.746287200Z"
    }
   },
   "outputs": [
    {
     "data": {
      "text/plain": "     id  season       city        date                team1  \\\n125   1    2017  Hyderabad  2017-04-05  Sunrisers Hyderabad   \n126   1    2017  Hyderabad  2017-04-05  Sunrisers Hyderabad   \n127   1    2017  Hyderabad  2017-04-05  Sunrisers Hyderabad   \n128   1    2017  Hyderabad  2017-04-05  Sunrisers Hyderabad   \n129   1    2017  Hyderabad  2017-04-05  Sunrisers Hyderabad   \n\n                           team2                  toss_winner toss_decision  \\\n125  Royal Challengers Bangalore  Royal Challengers Bangalore         field   \n126  Royal Challengers Bangalore  Royal Challengers Bangalore         field   \n127  Royal Challengers Bangalore  Royal Challengers Bangalore         field   \n128  Royal Challengers Bangalore  Royal Challengers Bangalore         field   \n129  Royal Challengers Bangalore  Royal Challengers Bangalore         field   \n\n                  winner  win_by_runs  ...         Bowling_team Over Ball  \\\n125  Sunrisers Hyderabad           35  ...  Sunrisers Hyderabad    0    1   \n126  Sunrisers Hyderabad           35  ...  Sunrisers Hyderabad    0    2   \n127  Sunrisers Hyderabad           35  ...  Sunrisers Hyderabad    0    3   \n128  Sunrisers Hyderabad           35  ...  Sunrisers Hyderabad    0    4   \n129  Sunrisers Hyderabad           35  ...  Sunrisers Hyderabad    0    5   \n\n           Batsman    Non-Striker   Bowler is_super_over player_dismissed  \\\n125       CH Gayle  Mandeep Singh  A Nehra             0              NaN   \n126  Mandeep Singh       CH Gayle  A Nehra             0              NaN   \n127  Mandeep Singh       CH Gayle  A Nehra             0              NaN   \n128  Mandeep Singh       CH Gayle  A Nehra             0              NaN   \n129  Mandeep Singh       CH Gayle  A Nehra             0              NaN   \n\n     Total_y  current_score  \n125        1              1  \n126        0              1  \n127        0              1  \n128        2              3  \n129        4              7  \n\n[5 rows x 27 columns]",
      "text/html": "<div>\n<style scoped>\n    .dataframe tbody tr th:only-of-type {\n        vertical-align: middle;\n    }\n\n    .dataframe tbody tr th {\n        vertical-align: top;\n    }\n\n    .dataframe thead th {\n        text-align: right;\n    }\n</style>\n<table border=\"1\" class=\"dataframe\">\n  <thead>\n    <tr style=\"text-align: right;\">\n      <th></th>\n      <th>id</th>\n      <th>season</th>\n      <th>city</th>\n      <th>date</th>\n      <th>team1</th>\n      <th>team2</th>\n      <th>toss_winner</th>\n      <th>toss_decision</th>\n      <th>winner</th>\n      <th>win_by_runs</th>\n      <th>...</th>\n      <th>Bowling_team</th>\n      <th>Over</th>\n      <th>Ball</th>\n      <th>Batsman</th>\n      <th>Non-Striker</th>\n      <th>Bowler</th>\n      <th>is_super_over</th>\n      <th>player_dismissed</th>\n      <th>Total_y</th>\n      <th>current_score</th>\n    </tr>\n  </thead>\n  <tbody>\n    <tr>\n      <th>125</th>\n      <td>1</td>\n      <td>2017</td>\n      <td>Hyderabad</td>\n      <td>2017-04-05</td>\n      <td>Sunrisers Hyderabad</td>\n      <td>Royal Challengers Bangalore</td>\n      <td>Royal Challengers Bangalore</td>\n      <td>field</td>\n      <td>Sunrisers Hyderabad</td>\n      <td>35</td>\n      <td>...</td>\n      <td>Sunrisers Hyderabad</td>\n      <td>0</td>\n      <td>1</td>\n      <td>CH Gayle</td>\n      <td>Mandeep Singh</td>\n      <td>A Nehra</td>\n      <td>0</td>\n      <td>NaN</td>\n      <td>1</td>\n      <td>1</td>\n    </tr>\n    <tr>\n      <th>126</th>\n      <td>1</td>\n      <td>2017</td>\n      <td>Hyderabad</td>\n      <td>2017-04-05</td>\n      <td>Sunrisers Hyderabad</td>\n      <td>Royal Challengers Bangalore</td>\n      <td>Royal Challengers Bangalore</td>\n      <td>field</td>\n      <td>Sunrisers Hyderabad</td>\n      <td>35</td>\n      <td>...</td>\n      <td>Sunrisers Hyderabad</td>\n      <td>0</td>\n      <td>2</td>\n      <td>Mandeep Singh</td>\n      <td>CH Gayle</td>\n      <td>A Nehra</td>\n      <td>0</td>\n      <td>NaN</td>\n      <td>0</td>\n      <td>1</td>\n    </tr>\n    <tr>\n      <th>127</th>\n      <td>1</td>\n      <td>2017</td>\n      <td>Hyderabad</td>\n      <td>2017-04-05</td>\n      <td>Sunrisers Hyderabad</td>\n      <td>Royal Challengers Bangalore</td>\n      <td>Royal Challengers Bangalore</td>\n      <td>field</td>\n      <td>Sunrisers Hyderabad</td>\n      <td>35</td>\n      <td>...</td>\n      <td>Sunrisers Hyderabad</td>\n      <td>0</td>\n      <td>3</td>\n      <td>Mandeep Singh</td>\n      <td>CH Gayle</td>\n      <td>A Nehra</td>\n      <td>0</td>\n      <td>NaN</td>\n      <td>0</td>\n      <td>1</td>\n    </tr>\n    <tr>\n      <th>128</th>\n      <td>1</td>\n      <td>2017</td>\n      <td>Hyderabad</td>\n      <td>2017-04-05</td>\n      <td>Sunrisers Hyderabad</td>\n      <td>Royal Challengers Bangalore</td>\n      <td>Royal Challengers Bangalore</td>\n      <td>field</td>\n      <td>Sunrisers Hyderabad</td>\n      <td>35</td>\n      <td>...</td>\n      <td>Sunrisers Hyderabad</td>\n      <td>0</td>\n      <td>4</td>\n      <td>Mandeep Singh</td>\n      <td>CH Gayle</td>\n      <td>A Nehra</td>\n      <td>0</td>\n      <td>NaN</td>\n      <td>2</td>\n      <td>3</td>\n    </tr>\n    <tr>\n      <th>129</th>\n      <td>1</td>\n      <td>2017</td>\n      <td>Hyderabad</td>\n      <td>2017-04-05</td>\n      <td>Sunrisers Hyderabad</td>\n      <td>Royal Challengers Bangalore</td>\n      <td>Royal Challengers Bangalore</td>\n      <td>field</td>\n      <td>Sunrisers Hyderabad</td>\n      <td>35</td>\n      <td>...</td>\n      <td>Sunrisers Hyderabad</td>\n      <td>0</td>\n      <td>5</td>\n      <td>Mandeep Singh</td>\n      <td>CH Gayle</td>\n      <td>A Nehra</td>\n      <td>0</td>\n      <td>NaN</td>\n      <td>4</td>\n      <td>7</td>\n    </tr>\n  </tbody>\n</table>\n<p>5 rows × 27 columns</p>\n</div>"
     },
     "execution_count": 24,
     "metadata": {},
     "output_type": "execute_result"
    }
   ],
   "source": [
    "\n",
    "# current score of particular match\n",
    "\n",
    "delivery_df['current_score'] = delivery_df.groupby('Match_id')['Total_y'].cumsum()\n",
    "\n",
    "delivery_df.head()"
   ]
  },
  {
   "cell_type": "code",
   "execution_count": 25,
   "metadata": {
    "ExecuteTime": {
     "end_time": "2023-10-16T07:05:41.120141800Z",
     "start_time": "2023-10-16T07:05:41.091561800Z"
    }
   },
   "outputs": [
    {
     "data": {
      "text/plain": "     id  season       city        date                team1  \\\n125   1    2017  Hyderabad  2017-04-05  Sunrisers Hyderabad   \n126   1    2017  Hyderabad  2017-04-05  Sunrisers Hyderabad   \n127   1    2017  Hyderabad  2017-04-05  Sunrisers Hyderabad   \n128   1    2017  Hyderabad  2017-04-05  Sunrisers Hyderabad   \n129   1    2017  Hyderabad  2017-04-05  Sunrisers Hyderabad   \n\n                           team2                  toss_winner toss_decision  \\\n125  Royal Challengers Bangalore  Royal Challengers Bangalore         field   \n126  Royal Challengers Bangalore  Royal Challengers Bangalore         field   \n127  Royal Challengers Bangalore  Royal Challengers Bangalore         field   \n128  Royal Challengers Bangalore  Royal Challengers Bangalore         field   \n129  Royal Challengers Bangalore  Royal Challengers Bangalore         field   \n\n                  winner  win_by_runs  ...  Over Ball        Batsman  \\\n125  Sunrisers Hyderabad           35  ...     0    1       CH Gayle   \n126  Sunrisers Hyderabad           35  ...     0    2  Mandeep Singh   \n127  Sunrisers Hyderabad           35  ...     0    3  Mandeep Singh   \n128  Sunrisers Hyderabad           35  ...     0    4  Mandeep Singh   \n129  Sunrisers Hyderabad           35  ...     0    5  Mandeep Singh   \n\n       Non-Striker   Bowler  is_super_over player_dismissed Total_y  \\\n125  Mandeep Singh  A Nehra              0              NaN       1   \n126       CH Gayle  A Nehra              0              NaN       0   \n127       CH Gayle  A Nehra              0              NaN       0   \n128       CH Gayle  A Nehra              0              NaN       2   \n129       CH Gayle  A Nehra              0              NaN       4   \n\n     current_score  runs_left  \n125              1        207  \n126              1        207  \n127              1        207  \n128              3        205  \n129              7        201  \n\n[5 rows x 28 columns]",
      "text/html": "<div>\n<style scoped>\n    .dataframe tbody tr th:only-of-type {\n        vertical-align: middle;\n    }\n\n    .dataframe tbody tr th {\n        vertical-align: top;\n    }\n\n    .dataframe thead th {\n        text-align: right;\n    }\n</style>\n<table border=\"1\" class=\"dataframe\">\n  <thead>\n    <tr style=\"text-align: right;\">\n      <th></th>\n      <th>id</th>\n      <th>season</th>\n      <th>city</th>\n      <th>date</th>\n      <th>team1</th>\n      <th>team2</th>\n      <th>toss_winner</th>\n      <th>toss_decision</th>\n      <th>winner</th>\n      <th>win_by_runs</th>\n      <th>...</th>\n      <th>Over</th>\n      <th>Ball</th>\n      <th>Batsman</th>\n      <th>Non-Striker</th>\n      <th>Bowler</th>\n      <th>is_super_over</th>\n      <th>player_dismissed</th>\n      <th>Total_y</th>\n      <th>current_score</th>\n      <th>runs_left</th>\n    </tr>\n  </thead>\n  <tbody>\n    <tr>\n      <th>125</th>\n      <td>1</td>\n      <td>2017</td>\n      <td>Hyderabad</td>\n      <td>2017-04-05</td>\n      <td>Sunrisers Hyderabad</td>\n      <td>Royal Challengers Bangalore</td>\n      <td>Royal Challengers Bangalore</td>\n      <td>field</td>\n      <td>Sunrisers Hyderabad</td>\n      <td>35</td>\n      <td>...</td>\n      <td>0</td>\n      <td>1</td>\n      <td>CH Gayle</td>\n      <td>Mandeep Singh</td>\n      <td>A Nehra</td>\n      <td>0</td>\n      <td>NaN</td>\n      <td>1</td>\n      <td>1</td>\n      <td>207</td>\n    </tr>\n    <tr>\n      <th>126</th>\n      <td>1</td>\n      <td>2017</td>\n      <td>Hyderabad</td>\n      <td>2017-04-05</td>\n      <td>Sunrisers Hyderabad</td>\n      <td>Royal Challengers Bangalore</td>\n      <td>Royal Challengers Bangalore</td>\n      <td>field</td>\n      <td>Sunrisers Hyderabad</td>\n      <td>35</td>\n      <td>...</td>\n      <td>0</td>\n      <td>2</td>\n      <td>Mandeep Singh</td>\n      <td>CH Gayle</td>\n      <td>A Nehra</td>\n      <td>0</td>\n      <td>NaN</td>\n      <td>0</td>\n      <td>1</td>\n      <td>207</td>\n    </tr>\n    <tr>\n      <th>127</th>\n      <td>1</td>\n      <td>2017</td>\n      <td>Hyderabad</td>\n      <td>2017-04-05</td>\n      <td>Sunrisers Hyderabad</td>\n      <td>Royal Challengers Bangalore</td>\n      <td>Royal Challengers Bangalore</td>\n      <td>field</td>\n      <td>Sunrisers Hyderabad</td>\n      <td>35</td>\n      <td>...</td>\n      <td>0</td>\n      <td>3</td>\n      <td>Mandeep Singh</td>\n      <td>CH Gayle</td>\n      <td>A Nehra</td>\n      <td>0</td>\n      <td>NaN</td>\n      <td>0</td>\n      <td>1</td>\n      <td>207</td>\n    </tr>\n    <tr>\n      <th>128</th>\n      <td>1</td>\n      <td>2017</td>\n      <td>Hyderabad</td>\n      <td>2017-04-05</td>\n      <td>Sunrisers Hyderabad</td>\n      <td>Royal Challengers Bangalore</td>\n      <td>Royal Challengers Bangalore</td>\n      <td>field</td>\n      <td>Sunrisers Hyderabad</td>\n      <td>35</td>\n      <td>...</td>\n      <td>0</td>\n      <td>4</td>\n      <td>Mandeep Singh</td>\n      <td>CH Gayle</td>\n      <td>A Nehra</td>\n      <td>0</td>\n      <td>NaN</td>\n      <td>2</td>\n      <td>3</td>\n      <td>205</td>\n    </tr>\n    <tr>\n      <th>129</th>\n      <td>1</td>\n      <td>2017</td>\n      <td>Hyderabad</td>\n      <td>2017-04-05</td>\n      <td>Sunrisers Hyderabad</td>\n      <td>Royal Challengers Bangalore</td>\n      <td>Royal Challengers Bangalore</td>\n      <td>field</td>\n      <td>Sunrisers Hyderabad</td>\n      <td>35</td>\n      <td>...</td>\n      <td>0</td>\n      <td>5</td>\n      <td>Mandeep Singh</td>\n      <td>CH Gayle</td>\n      <td>A Nehra</td>\n      <td>0</td>\n      <td>NaN</td>\n      <td>4</td>\n      <td>7</td>\n      <td>201</td>\n    </tr>\n  </tbody>\n</table>\n<p>5 rows × 28 columns</p>\n</div>"
     },
     "execution_count": 25,
     "metadata": {},
     "output_type": "execute_result"
    }
   ],
   "source": [
    "# runs left \n",
    "\n",
    "delivery_df['runs_left'] = delivery_df['Total_x']-delivery_df['current_score']\n",
    "\n",
    "delivery_df.head()"
   ]
  },
  {
   "cell_type": "code",
   "execution_count": 26,
   "metadata": {
    "ExecuteTime": {
     "end_time": "2023-10-16T07:05:42.471788200Z",
     "start_time": "2023-10-16T07:05:42.387437600Z"
    }
   },
   "outputs": [
    {
     "data": {
      "text/plain": "          id  season       city        date                        team1  \\\n125        1    2017  Hyderabad  2017-04-05          Sunrisers Hyderabad   \n126        1    2017  Hyderabad  2017-04-05          Sunrisers Hyderabad   \n127        1    2017  Hyderabad  2017-04-05          Sunrisers Hyderabad   \n128        1    2017  Hyderabad  2017-04-05          Sunrisers Hyderabad   \n129        1    2017  Hyderabad  2017-04-05          Sunrisers Hyderabad   \n...      ...     ...        ...         ...                          ...   \n203850  1024    2016  Bangalore  2016-05-29  Royal Challengers Bangalore   \n203851  1024    2016  Bangalore  2016-05-29  Royal Challengers Bangalore   \n203852  1024    2016  Bangalore  2016-05-29  Royal Challengers Bangalore   \n203853  1024    2016  Bangalore  2016-05-29  Royal Challengers Bangalore   \n203854  1024    2016  Bangalore  2016-05-29  Royal Challengers Bangalore   \n\n                              team2                  toss_winner  \\\n125     Royal Challengers Bangalore  Royal Challengers Bangalore   \n126     Royal Challengers Bangalore  Royal Challengers Bangalore   \n127     Royal Challengers Bangalore  Royal Challengers Bangalore   \n128     Royal Challengers Bangalore  Royal Challengers Bangalore   \n129     Royal Challengers Bangalore  Royal Challengers Bangalore   \n...                             ...                          ...   \n203850          Sunrisers Hyderabad          Sunrisers Hyderabad   \n203851          Sunrisers Hyderabad          Sunrisers Hyderabad   \n203852          Sunrisers Hyderabad          Sunrisers Hyderabad   \n203853          Sunrisers Hyderabad          Sunrisers Hyderabad   \n203854          Sunrisers Hyderabad          Sunrisers Hyderabad   \n\n       toss_decision               winner  win_by_runs  ...  Ball  \\\n125            field  Sunrisers Hyderabad           35  ...     1   \n126            field  Sunrisers Hyderabad           35  ...     2   \n127            field  Sunrisers Hyderabad           35  ...     3   \n128            field  Sunrisers Hyderabad           35  ...     4   \n129            field  Sunrisers Hyderabad           35  ...     5   \n...              ...                  ...          ...  ...   ...   \n203850           bat  Sunrisers Hyderabad            8  ...     2   \n203851           bat  Sunrisers Hyderabad            8  ...     3   \n203852           bat  Sunrisers Hyderabad            8  ...     4   \n203853           bat  Sunrisers Hyderabad            8  ...     5   \n203854           bat  Sunrisers Hyderabad            8  ...     6   \n\n              Batsman    Non-Striker   Bowler  is_super_over  \\\n125          CH Gayle  Mandeep Singh  A Nehra              0   \n126     Mandeep Singh       CH Gayle  A Nehra              0   \n127     Mandeep Singh       CH Gayle  A Nehra              0   \n128     Mandeep Singh       CH Gayle  A Nehra              0   \n129     Mandeep Singh       CH Gayle  A Nehra              0   \n...               ...            ...      ...            ...   \n203850    Sachin Baby      CJ Jordan  B Kumar              0   \n203851    Sachin Baby      CJ Jordan  B Kumar              0   \n203852  Iqbal Abdulla    Sachin Baby  B Kumar              0   \n203853    Sachin Baby  Iqbal Abdulla  B Kumar              0   \n203854  Iqbal Abdulla    Sachin Baby  B Kumar              0   \n\n        player_dismissed Total_y current_score  runs_left  balls_left  \n125                  NaN       1             1        207         119  \n126                  NaN       0             1        207         118  \n127                  NaN       0             1        207         117  \n128                  NaN       2             3        205         116  \n129                  NaN       4             7        201         115  \n...                  ...     ...           ...        ...         ...  \n203850               NaN       2           194         15           4  \n203851         CJ Jordan       0           194         15           3  \n203852               NaN       1           195         14           2  \n203853               NaN       1           196         13           1  \n203854               NaN       4           200          9           0  \n\n[98313 rows x 29 columns]",
      "text/html": "<div>\n<style scoped>\n    .dataframe tbody tr th:only-of-type {\n        vertical-align: middle;\n    }\n\n    .dataframe tbody tr th {\n        vertical-align: top;\n    }\n\n    .dataframe thead th {\n        text-align: right;\n    }\n</style>\n<table border=\"1\" class=\"dataframe\">\n  <thead>\n    <tr style=\"text-align: right;\">\n      <th></th>\n      <th>id</th>\n      <th>season</th>\n      <th>city</th>\n      <th>date</th>\n      <th>team1</th>\n      <th>team2</th>\n      <th>toss_winner</th>\n      <th>toss_decision</th>\n      <th>winner</th>\n      <th>win_by_runs</th>\n      <th>...</th>\n      <th>Ball</th>\n      <th>Batsman</th>\n      <th>Non-Striker</th>\n      <th>Bowler</th>\n      <th>is_super_over</th>\n      <th>player_dismissed</th>\n      <th>Total_y</th>\n      <th>current_score</th>\n      <th>runs_left</th>\n      <th>balls_left</th>\n    </tr>\n  </thead>\n  <tbody>\n    <tr>\n      <th>125</th>\n      <td>1</td>\n      <td>2017</td>\n      <td>Hyderabad</td>\n      <td>2017-04-05</td>\n      <td>Sunrisers Hyderabad</td>\n      <td>Royal Challengers Bangalore</td>\n      <td>Royal Challengers Bangalore</td>\n      <td>field</td>\n      <td>Sunrisers Hyderabad</td>\n      <td>35</td>\n      <td>...</td>\n      <td>1</td>\n      <td>CH Gayle</td>\n      <td>Mandeep Singh</td>\n      <td>A Nehra</td>\n      <td>0</td>\n      <td>NaN</td>\n      <td>1</td>\n      <td>1</td>\n      <td>207</td>\n      <td>119</td>\n    </tr>\n    <tr>\n      <th>126</th>\n      <td>1</td>\n      <td>2017</td>\n      <td>Hyderabad</td>\n      <td>2017-04-05</td>\n      <td>Sunrisers Hyderabad</td>\n      <td>Royal Challengers Bangalore</td>\n      <td>Royal Challengers Bangalore</td>\n      <td>field</td>\n      <td>Sunrisers Hyderabad</td>\n      <td>35</td>\n      <td>...</td>\n      <td>2</td>\n      <td>Mandeep Singh</td>\n      <td>CH Gayle</td>\n      <td>A Nehra</td>\n      <td>0</td>\n      <td>NaN</td>\n      <td>0</td>\n      <td>1</td>\n      <td>207</td>\n      <td>118</td>\n    </tr>\n    <tr>\n      <th>127</th>\n      <td>1</td>\n      <td>2017</td>\n      <td>Hyderabad</td>\n      <td>2017-04-05</td>\n      <td>Sunrisers Hyderabad</td>\n      <td>Royal Challengers Bangalore</td>\n      <td>Royal Challengers Bangalore</td>\n      <td>field</td>\n      <td>Sunrisers Hyderabad</td>\n      <td>35</td>\n      <td>...</td>\n      <td>3</td>\n      <td>Mandeep Singh</td>\n      <td>CH Gayle</td>\n      <td>A Nehra</td>\n      <td>0</td>\n      <td>NaN</td>\n      <td>0</td>\n      <td>1</td>\n      <td>207</td>\n      <td>117</td>\n    </tr>\n    <tr>\n      <th>128</th>\n      <td>1</td>\n      <td>2017</td>\n      <td>Hyderabad</td>\n      <td>2017-04-05</td>\n      <td>Sunrisers Hyderabad</td>\n      <td>Royal Challengers Bangalore</td>\n      <td>Royal Challengers Bangalore</td>\n      <td>field</td>\n      <td>Sunrisers Hyderabad</td>\n      <td>35</td>\n      <td>...</td>\n      <td>4</td>\n      <td>Mandeep Singh</td>\n      <td>CH Gayle</td>\n      <td>A Nehra</td>\n      <td>0</td>\n      <td>NaN</td>\n      <td>2</td>\n      <td>3</td>\n      <td>205</td>\n      <td>116</td>\n    </tr>\n    <tr>\n      <th>129</th>\n      <td>1</td>\n      <td>2017</td>\n      <td>Hyderabad</td>\n      <td>2017-04-05</td>\n      <td>Sunrisers Hyderabad</td>\n      <td>Royal Challengers Bangalore</td>\n      <td>Royal Challengers Bangalore</td>\n      <td>field</td>\n      <td>Sunrisers Hyderabad</td>\n      <td>35</td>\n      <td>...</td>\n      <td>5</td>\n      <td>Mandeep Singh</td>\n      <td>CH Gayle</td>\n      <td>A Nehra</td>\n      <td>0</td>\n      <td>NaN</td>\n      <td>4</td>\n      <td>7</td>\n      <td>201</td>\n      <td>115</td>\n    </tr>\n    <tr>\n      <th>...</th>\n      <td>...</td>\n      <td>...</td>\n      <td>...</td>\n      <td>...</td>\n      <td>...</td>\n      <td>...</td>\n      <td>...</td>\n      <td>...</td>\n      <td>...</td>\n      <td>...</td>\n      <td>...</td>\n      <td>...</td>\n      <td>...</td>\n      <td>...</td>\n      <td>...</td>\n      <td>...</td>\n      <td>...</td>\n      <td>...</td>\n      <td>...</td>\n      <td>...</td>\n      <td>...</td>\n    </tr>\n    <tr>\n      <th>203850</th>\n      <td>1024</td>\n      <td>2016</td>\n      <td>Bangalore</td>\n      <td>2016-05-29</td>\n      <td>Royal Challengers Bangalore</td>\n      <td>Sunrisers Hyderabad</td>\n      <td>Sunrisers Hyderabad</td>\n      <td>bat</td>\n      <td>Sunrisers Hyderabad</td>\n      <td>8</td>\n      <td>...</td>\n      <td>2</td>\n      <td>Sachin Baby</td>\n      <td>CJ Jordan</td>\n      <td>B Kumar</td>\n      <td>0</td>\n      <td>NaN</td>\n      <td>2</td>\n      <td>194</td>\n      <td>15</td>\n      <td>4</td>\n    </tr>\n    <tr>\n      <th>203851</th>\n      <td>1024</td>\n      <td>2016</td>\n      <td>Bangalore</td>\n      <td>2016-05-29</td>\n      <td>Royal Challengers Bangalore</td>\n      <td>Sunrisers Hyderabad</td>\n      <td>Sunrisers Hyderabad</td>\n      <td>bat</td>\n      <td>Sunrisers Hyderabad</td>\n      <td>8</td>\n      <td>...</td>\n      <td>3</td>\n      <td>Sachin Baby</td>\n      <td>CJ Jordan</td>\n      <td>B Kumar</td>\n      <td>0</td>\n      <td>CJ Jordan</td>\n      <td>0</td>\n      <td>194</td>\n      <td>15</td>\n      <td>3</td>\n    </tr>\n    <tr>\n      <th>203852</th>\n      <td>1024</td>\n      <td>2016</td>\n      <td>Bangalore</td>\n      <td>2016-05-29</td>\n      <td>Royal Challengers Bangalore</td>\n      <td>Sunrisers Hyderabad</td>\n      <td>Sunrisers Hyderabad</td>\n      <td>bat</td>\n      <td>Sunrisers Hyderabad</td>\n      <td>8</td>\n      <td>...</td>\n      <td>4</td>\n      <td>Iqbal Abdulla</td>\n      <td>Sachin Baby</td>\n      <td>B Kumar</td>\n      <td>0</td>\n      <td>NaN</td>\n      <td>1</td>\n      <td>195</td>\n      <td>14</td>\n      <td>2</td>\n    </tr>\n    <tr>\n      <th>203853</th>\n      <td>1024</td>\n      <td>2016</td>\n      <td>Bangalore</td>\n      <td>2016-05-29</td>\n      <td>Royal Challengers Bangalore</td>\n      <td>Sunrisers Hyderabad</td>\n      <td>Sunrisers Hyderabad</td>\n      <td>bat</td>\n      <td>Sunrisers Hyderabad</td>\n      <td>8</td>\n      <td>...</td>\n      <td>5</td>\n      <td>Sachin Baby</td>\n      <td>Iqbal Abdulla</td>\n      <td>B Kumar</td>\n      <td>0</td>\n      <td>NaN</td>\n      <td>1</td>\n      <td>196</td>\n      <td>13</td>\n      <td>1</td>\n    </tr>\n    <tr>\n      <th>203854</th>\n      <td>1024</td>\n      <td>2016</td>\n      <td>Bangalore</td>\n      <td>2016-05-29</td>\n      <td>Royal Challengers Bangalore</td>\n      <td>Sunrisers Hyderabad</td>\n      <td>Sunrisers Hyderabad</td>\n      <td>bat</td>\n      <td>Sunrisers Hyderabad</td>\n      <td>8</td>\n      <td>...</td>\n      <td>6</td>\n      <td>Iqbal Abdulla</td>\n      <td>Sachin Baby</td>\n      <td>B Kumar</td>\n      <td>0</td>\n      <td>NaN</td>\n      <td>4</td>\n      <td>200</td>\n      <td>9</td>\n      <td>0</td>\n    </tr>\n  </tbody>\n</table>\n<p>98313 rows × 29 columns</p>\n</div>"
     },
     "execution_count": 26,
     "metadata": {},
     "output_type": "execute_result"
    }
   ],
   "source": [
    "'''\n",
    "if one ball is played,then balls left = 120-1 = 119\n",
    "if two balls are played,then balls left = 120-2 = 118\n",
    "\n",
    "so similarly if over=1,over has 6 balls right,so 1*6 = 6\n",
    "now,ball = 1,so 6+1 = 7,now 126-7 = 119,which is same as (1)\n",
    "\n",
    "so we'll use balls_left = 126-(over*6+current_ball)\n",
    "\n",
    "'''\n",
    "\n",
    "# balls left\n",
    "\n",
    "\n",
    "delivery_df['balls_left'] = 120-(delivery_df['Over']*6+delivery_df['Ball'])\n",
    "\n",
    "delivery_df"
   ]
  },
  {
   "cell_type": "code",
   "execution_count": 27,
   "outputs": [
    {
     "data": {
      "text/plain": "[nan, 'Mandeep Singh']"
     },
     "execution_count": 27,
     "metadata": {},
     "output_type": "execute_result"
    }
   ],
   "source": [
    "list(delivery_df['player_dismissed'].unique())[:2]"
   ],
   "metadata": {
    "collapsed": false,
    "ExecuteTime": {
     "end_time": "2023-10-16T07:05:44.207134200Z",
     "start_time": "2023-10-16T07:05:44.189562400Z"
    }
   }
  },
  {
   "cell_type": "code",
   "execution_count": 28,
   "outputs": [
    {
     "data": {
      "text/plain": "array([0, 1])"
     },
     "execution_count": 28,
     "metadata": {},
     "output_type": "execute_result"
    }
   ],
   "source": [
    "\n",
    "# filling nan values with \"0\"\n",
    "\n",
    "delivery_df['player_dismissed'] = delivery_df['player_dismissed'].fillna(\"0\")\n",
    "\n",
    "# now we will convert this player_dismissed col into a boolean col\n",
    "# if the player is not dismissed then it's 0 else its 1\n",
    "\n",
    "delivery_df['player_dismissed'] = delivery_df['player_dismissed'].apply(lambda x:x if x==\"0\" else \"1\")\n",
    "\n",
    "# converting string to int\n",
    "\n",
    "delivery_df['player_dismissed'] = delivery_df['player_dismissed'].astype('int')\n",
    "\n",
    "\n",
    "delivery_df['player_dismissed'].unique()\n"
   ],
   "metadata": {
    "collapsed": false,
    "ExecuteTime": {
     "end_time": "2023-10-16T07:05:45.508055200Z",
     "start_time": "2023-10-16T07:05:45.456787700Z"
    }
   }
  },
  {
   "cell_type": "code",
   "execution_count": 30,
   "metadata": {
    "scrolled": true,
    "ExecuteTime": {
     "end_time": "2023-10-16T07:06:00.394055100Z",
     "start_time": "2023-10-16T07:06:00.319515Z"
    }
   },
   "outputs": [
    {
     "data": {
      "text/plain": "          id  season       city        date                        team1  \\\n125        1    2017  Hyderabad  2017-04-05          Sunrisers Hyderabad   \n126        1    2017  Hyderabad  2017-04-05          Sunrisers Hyderabad   \n127        1    2017  Hyderabad  2017-04-05          Sunrisers Hyderabad   \n128        1    2017  Hyderabad  2017-04-05          Sunrisers Hyderabad   \n129        1    2017  Hyderabad  2017-04-05          Sunrisers Hyderabad   \n...      ...     ...        ...         ...                          ...   \n203850  1024    2016  Bangalore  2016-05-29  Royal Challengers Bangalore   \n203851  1024    2016  Bangalore  2016-05-29  Royal Challengers Bangalore   \n203852  1024    2016  Bangalore  2016-05-29  Royal Challengers Bangalore   \n203853  1024    2016  Bangalore  2016-05-29  Royal Challengers Bangalore   \n203854  1024    2016  Bangalore  2016-05-29  Royal Challengers Bangalore   \n\n                              team2                  toss_winner  \\\n125     Royal Challengers Bangalore  Royal Challengers Bangalore   \n126     Royal Challengers Bangalore  Royal Challengers Bangalore   \n127     Royal Challengers Bangalore  Royal Challengers Bangalore   \n128     Royal Challengers Bangalore  Royal Challengers Bangalore   \n129     Royal Challengers Bangalore  Royal Challengers Bangalore   \n...                             ...                          ...   \n203850          Sunrisers Hyderabad          Sunrisers Hyderabad   \n203851          Sunrisers Hyderabad          Sunrisers Hyderabad   \n203852          Sunrisers Hyderabad          Sunrisers Hyderabad   \n203853          Sunrisers Hyderabad          Sunrisers Hyderabad   \n203854          Sunrisers Hyderabad          Sunrisers Hyderabad   \n\n       toss_decision               winner  win_by_runs  ...        Batsman  \\\n125            field  Sunrisers Hyderabad           35  ...       CH Gayle   \n126            field  Sunrisers Hyderabad           35  ...  Mandeep Singh   \n127            field  Sunrisers Hyderabad           35  ...  Mandeep Singh   \n128            field  Sunrisers Hyderabad           35  ...  Mandeep Singh   \n129            field  Sunrisers Hyderabad           35  ...  Mandeep Singh   \n...              ...                  ...          ...  ...            ...   \n203850           bat  Sunrisers Hyderabad            8  ...    Sachin Baby   \n203851           bat  Sunrisers Hyderabad            8  ...    Sachin Baby   \n203852           bat  Sunrisers Hyderabad            8  ...  Iqbal Abdulla   \n203853           bat  Sunrisers Hyderabad            8  ...    Sachin Baby   \n203854           bat  Sunrisers Hyderabad            8  ...  Iqbal Abdulla   \n\n          Non-Striker   Bowler  is_super_over  player_dismissed  Total_y  \\\n125     Mandeep Singh  A Nehra              0                 0        1   \n126          CH Gayle  A Nehra              0                 0        0   \n127          CH Gayle  A Nehra              0                 0        0   \n128          CH Gayle  A Nehra              0                 0        2   \n129          CH Gayle  A Nehra              0                 0        4   \n...               ...      ...            ...               ...      ...   \n203850      CJ Jordan  B Kumar              0                 0        2   \n203851      CJ Jordan  B Kumar              0                 1        0   \n203852    Sachin Baby  B Kumar              0                 0        1   \n203853  Iqbal Abdulla  B Kumar              0                 0        1   \n203854    Sachin Baby  B Kumar              0                 0        4   \n\n       current_score runs_left  balls_left  wickets_left  \n125                1       207         119            10  \n126                1       207         118            10  \n127                1       207         117            10  \n128                3       205         116            10  \n129                7       201         115            10  \n...              ...       ...         ...           ...  \n203850           194        15           4             4  \n203851           194        15           3             3  \n203852           195        14           2             3  \n203853           196        13           1             3  \n203854           200         9           0             3  \n\n[98313 rows x 30 columns]",
      "text/html": "<div>\n<style scoped>\n    .dataframe tbody tr th:only-of-type {\n        vertical-align: middle;\n    }\n\n    .dataframe tbody tr th {\n        vertical-align: top;\n    }\n\n    .dataframe thead th {\n        text-align: right;\n    }\n</style>\n<table border=\"1\" class=\"dataframe\">\n  <thead>\n    <tr style=\"text-align: right;\">\n      <th></th>\n      <th>id</th>\n      <th>season</th>\n      <th>city</th>\n      <th>date</th>\n      <th>team1</th>\n      <th>team2</th>\n      <th>toss_winner</th>\n      <th>toss_decision</th>\n      <th>winner</th>\n      <th>win_by_runs</th>\n      <th>...</th>\n      <th>Batsman</th>\n      <th>Non-Striker</th>\n      <th>Bowler</th>\n      <th>is_super_over</th>\n      <th>player_dismissed</th>\n      <th>Total_y</th>\n      <th>current_score</th>\n      <th>runs_left</th>\n      <th>balls_left</th>\n      <th>wickets_left</th>\n    </tr>\n  </thead>\n  <tbody>\n    <tr>\n      <th>125</th>\n      <td>1</td>\n      <td>2017</td>\n      <td>Hyderabad</td>\n      <td>2017-04-05</td>\n      <td>Sunrisers Hyderabad</td>\n      <td>Royal Challengers Bangalore</td>\n      <td>Royal Challengers Bangalore</td>\n      <td>field</td>\n      <td>Sunrisers Hyderabad</td>\n      <td>35</td>\n      <td>...</td>\n      <td>CH Gayle</td>\n      <td>Mandeep Singh</td>\n      <td>A Nehra</td>\n      <td>0</td>\n      <td>0</td>\n      <td>1</td>\n      <td>1</td>\n      <td>207</td>\n      <td>119</td>\n      <td>10</td>\n    </tr>\n    <tr>\n      <th>126</th>\n      <td>1</td>\n      <td>2017</td>\n      <td>Hyderabad</td>\n      <td>2017-04-05</td>\n      <td>Sunrisers Hyderabad</td>\n      <td>Royal Challengers Bangalore</td>\n      <td>Royal Challengers Bangalore</td>\n      <td>field</td>\n      <td>Sunrisers Hyderabad</td>\n      <td>35</td>\n      <td>...</td>\n      <td>Mandeep Singh</td>\n      <td>CH Gayle</td>\n      <td>A Nehra</td>\n      <td>0</td>\n      <td>0</td>\n      <td>0</td>\n      <td>1</td>\n      <td>207</td>\n      <td>118</td>\n      <td>10</td>\n    </tr>\n    <tr>\n      <th>127</th>\n      <td>1</td>\n      <td>2017</td>\n      <td>Hyderabad</td>\n      <td>2017-04-05</td>\n      <td>Sunrisers Hyderabad</td>\n      <td>Royal Challengers Bangalore</td>\n      <td>Royal Challengers Bangalore</td>\n      <td>field</td>\n      <td>Sunrisers Hyderabad</td>\n      <td>35</td>\n      <td>...</td>\n      <td>Mandeep Singh</td>\n      <td>CH Gayle</td>\n      <td>A Nehra</td>\n      <td>0</td>\n      <td>0</td>\n      <td>0</td>\n      <td>1</td>\n      <td>207</td>\n      <td>117</td>\n      <td>10</td>\n    </tr>\n    <tr>\n      <th>128</th>\n      <td>1</td>\n      <td>2017</td>\n      <td>Hyderabad</td>\n      <td>2017-04-05</td>\n      <td>Sunrisers Hyderabad</td>\n      <td>Royal Challengers Bangalore</td>\n      <td>Royal Challengers Bangalore</td>\n      <td>field</td>\n      <td>Sunrisers Hyderabad</td>\n      <td>35</td>\n      <td>...</td>\n      <td>Mandeep Singh</td>\n      <td>CH Gayle</td>\n      <td>A Nehra</td>\n      <td>0</td>\n      <td>0</td>\n      <td>2</td>\n      <td>3</td>\n      <td>205</td>\n      <td>116</td>\n      <td>10</td>\n    </tr>\n    <tr>\n      <th>129</th>\n      <td>1</td>\n      <td>2017</td>\n      <td>Hyderabad</td>\n      <td>2017-04-05</td>\n      <td>Sunrisers Hyderabad</td>\n      <td>Royal Challengers Bangalore</td>\n      <td>Royal Challengers Bangalore</td>\n      <td>field</td>\n      <td>Sunrisers Hyderabad</td>\n      <td>35</td>\n      <td>...</td>\n      <td>Mandeep Singh</td>\n      <td>CH Gayle</td>\n      <td>A Nehra</td>\n      <td>0</td>\n      <td>0</td>\n      <td>4</td>\n      <td>7</td>\n      <td>201</td>\n      <td>115</td>\n      <td>10</td>\n    </tr>\n    <tr>\n      <th>...</th>\n      <td>...</td>\n      <td>...</td>\n      <td>...</td>\n      <td>...</td>\n      <td>...</td>\n      <td>...</td>\n      <td>...</td>\n      <td>...</td>\n      <td>...</td>\n      <td>...</td>\n      <td>...</td>\n      <td>...</td>\n      <td>...</td>\n      <td>...</td>\n      <td>...</td>\n      <td>...</td>\n      <td>...</td>\n      <td>...</td>\n      <td>...</td>\n      <td>...</td>\n      <td>...</td>\n    </tr>\n    <tr>\n      <th>203850</th>\n      <td>1024</td>\n      <td>2016</td>\n      <td>Bangalore</td>\n      <td>2016-05-29</td>\n      <td>Royal Challengers Bangalore</td>\n      <td>Sunrisers Hyderabad</td>\n      <td>Sunrisers Hyderabad</td>\n      <td>bat</td>\n      <td>Sunrisers Hyderabad</td>\n      <td>8</td>\n      <td>...</td>\n      <td>Sachin Baby</td>\n      <td>CJ Jordan</td>\n      <td>B Kumar</td>\n      <td>0</td>\n      <td>0</td>\n      <td>2</td>\n      <td>194</td>\n      <td>15</td>\n      <td>4</td>\n      <td>4</td>\n    </tr>\n    <tr>\n      <th>203851</th>\n      <td>1024</td>\n      <td>2016</td>\n      <td>Bangalore</td>\n      <td>2016-05-29</td>\n      <td>Royal Challengers Bangalore</td>\n      <td>Sunrisers Hyderabad</td>\n      <td>Sunrisers Hyderabad</td>\n      <td>bat</td>\n      <td>Sunrisers Hyderabad</td>\n      <td>8</td>\n      <td>...</td>\n      <td>Sachin Baby</td>\n      <td>CJ Jordan</td>\n      <td>B Kumar</td>\n      <td>0</td>\n      <td>1</td>\n      <td>0</td>\n      <td>194</td>\n      <td>15</td>\n      <td>3</td>\n      <td>3</td>\n    </tr>\n    <tr>\n      <th>203852</th>\n      <td>1024</td>\n      <td>2016</td>\n      <td>Bangalore</td>\n      <td>2016-05-29</td>\n      <td>Royal Challengers Bangalore</td>\n      <td>Sunrisers Hyderabad</td>\n      <td>Sunrisers Hyderabad</td>\n      <td>bat</td>\n      <td>Sunrisers Hyderabad</td>\n      <td>8</td>\n      <td>...</td>\n      <td>Iqbal Abdulla</td>\n      <td>Sachin Baby</td>\n      <td>B Kumar</td>\n      <td>0</td>\n      <td>0</td>\n      <td>1</td>\n      <td>195</td>\n      <td>14</td>\n      <td>2</td>\n      <td>3</td>\n    </tr>\n    <tr>\n      <th>203853</th>\n      <td>1024</td>\n      <td>2016</td>\n      <td>Bangalore</td>\n      <td>2016-05-29</td>\n      <td>Royal Challengers Bangalore</td>\n      <td>Sunrisers Hyderabad</td>\n      <td>Sunrisers Hyderabad</td>\n      <td>bat</td>\n      <td>Sunrisers Hyderabad</td>\n      <td>8</td>\n      <td>...</td>\n      <td>Sachin Baby</td>\n      <td>Iqbal Abdulla</td>\n      <td>B Kumar</td>\n      <td>0</td>\n      <td>0</td>\n      <td>1</td>\n      <td>196</td>\n      <td>13</td>\n      <td>1</td>\n      <td>3</td>\n    </tr>\n    <tr>\n      <th>203854</th>\n      <td>1024</td>\n      <td>2016</td>\n      <td>Bangalore</td>\n      <td>2016-05-29</td>\n      <td>Royal Challengers Bangalore</td>\n      <td>Sunrisers Hyderabad</td>\n      <td>Sunrisers Hyderabad</td>\n      <td>bat</td>\n      <td>Sunrisers Hyderabad</td>\n      <td>8</td>\n      <td>...</td>\n      <td>Iqbal Abdulla</td>\n      <td>Sachin Baby</td>\n      <td>B Kumar</td>\n      <td>0</td>\n      <td>0</td>\n      <td>4</td>\n      <td>200</td>\n      <td>9</td>\n      <td>0</td>\n      <td>3</td>\n    </tr>\n  </tbody>\n</table>\n<p>98313 rows × 30 columns</p>\n</div>"
     },
     "execution_count": 30,
     "metadata": {},
     "output_type": "execute_result"
    }
   ],
   "source": [
    "# wickets left\n",
    "\n",
    "wickets = delivery_df.groupby('Match_id')['player_dismissed'].cumsum().values\n",
    "\n",
    "delivery_df['wickets_left'] = 10-wickets\n",
    "\n",
    "delivery_df"
   ]
  },
  {
   "cell_type": "code",
   "execution_count": 31,
   "metadata": {
    "ExecuteTime": {
     "end_time": "2023-10-16T07:06:03.174538100Z",
     "start_time": "2023-10-16T07:06:03.132488500Z"
    }
   },
   "outputs": [
    {
     "data": {
      "text/plain": "     id  season       city        date                team1  \\\n125   1    2017  Hyderabad  2017-04-05  Sunrisers Hyderabad   \n126   1    2017  Hyderabad  2017-04-05  Sunrisers Hyderabad   \n127   1    2017  Hyderabad  2017-04-05  Sunrisers Hyderabad   \n\n                           team2                  toss_winner toss_decision  \\\n125  Royal Challengers Bangalore  Royal Challengers Bangalore         field   \n126  Royal Challengers Bangalore  Royal Challengers Bangalore         field   \n127  Royal Challengers Bangalore  Royal Challengers Bangalore         field   \n\n                  winner  win_by_runs  ...   Bowler is_super_over  \\\n125  Sunrisers Hyderabad           35  ...  A Nehra             0   \n126  Sunrisers Hyderabad           35  ...  A Nehra             0   \n127  Sunrisers Hyderabad           35  ...  A Nehra             0   \n\n    player_dismissed  Total_y  current_score  runs_left balls_left  \\\n125                0        1              1        207        119   \n126                0        0              1        207        118   \n127                0        0              1        207        117   \n\n    wickets_left  cur_run_rate  req_run_rate  \n125           10           6.0     10.436975  \n126           10           3.0     10.525424  \n127           10           2.0     10.615385  \n\n[3 rows x 32 columns]",
      "text/html": "<div>\n<style scoped>\n    .dataframe tbody tr th:only-of-type {\n        vertical-align: middle;\n    }\n\n    .dataframe tbody tr th {\n        vertical-align: top;\n    }\n\n    .dataframe thead th {\n        text-align: right;\n    }\n</style>\n<table border=\"1\" class=\"dataframe\">\n  <thead>\n    <tr style=\"text-align: right;\">\n      <th></th>\n      <th>id</th>\n      <th>season</th>\n      <th>city</th>\n      <th>date</th>\n      <th>team1</th>\n      <th>team2</th>\n      <th>toss_winner</th>\n      <th>toss_decision</th>\n      <th>winner</th>\n      <th>win_by_runs</th>\n      <th>...</th>\n      <th>Bowler</th>\n      <th>is_super_over</th>\n      <th>player_dismissed</th>\n      <th>Total_y</th>\n      <th>current_score</th>\n      <th>runs_left</th>\n      <th>balls_left</th>\n      <th>wickets_left</th>\n      <th>cur_run_rate</th>\n      <th>req_run_rate</th>\n    </tr>\n  </thead>\n  <tbody>\n    <tr>\n      <th>125</th>\n      <td>1</td>\n      <td>2017</td>\n      <td>Hyderabad</td>\n      <td>2017-04-05</td>\n      <td>Sunrisers Hyderabad</td>\n      <td>Royal Challengers Bangalore</td>\n      <td>Royal Challengers Bangalore</td>\n      <td>field</td>\n      <td>Sunrisers Hyderabad</td>\n      <td>35</td>\n      <td>...</td>\n      <td>A Nehra</td>\n      <td>0</td>\n      <td>0</td>\n      <td>1</td>\n      <td>1</td>\n      <td>207</td>\n      <td>119</td>\n      <td>10</td>\n      <td>6.0</td>\n      <td>10.436975</td>\n    </tr>\n    <tr>\n      <th>126</th>\n      <td>1</td>\n      <td>2017</td>\n      <td>Hyderabad</td>\n      <td>2017-04-05</td>\n      <td>Sunrisers Hyderabad</td>\n      <td>Royal Challengers Bangalore</td>\n      <td>Royal Challengers Bangalore</td>\n      <td>field</td>\n      <td>Sunrisers Hyderabad</td>\n      <td>35</td>\n      <td>...</td>\n      <td>A Nehra</td>\n      <td>0</td>\n      <td>0</td>\n      <td>0</td>\n      <td>1</td>\n      <td>207</td>\n      <td>118</td>\n      <td>10</td>\n      <td>3.0</td>\n      <td>10.525424</td>\n    </tr>\n    <tr>\n      <th>127</th>\n      <td>1</td>\n      <td>2017</td>\n      <td>Hyderabad</td>\n      <td>2017-04-05</td>\n      <td>Sunrisers Hyderabad</td>\n      <td>Royal Challengers Bangalore</td>\n      <td>Royal Challengers Bangalore</td>\n      <td>field</td>\n      <td>Sunrisers Hyderabad</td>\n      <td>35</td>\n      <td>...</td>\n      <td>A Nehra</td>\n      <td>0</td>\n      <td>0</td>\n      <td>0</td>\n      <td>1</td>\n      <td>207</td>\n      <td>117</td>\n      <td>10</td>\n      <td>2.0</td>\n      <td>10.615385</td>\n    </tr>\n  </tbody>\n</table>\n<p>3 rows × 32 columns</p>\n</div>"
     },
     "execution_count": 31,
     "metadata": {},
     "output_type": "execute_result"
    }
   ],
   "source": [
    "# current run rate\n",
    "# It is a common practice to express run rates in cricket as runs per over, so the score is multiplied by 6.\n",
    "\n",
    "\n",
    "delivery_df['cur_run_rate'] = (delivery_df['current_score']*6)/(120-delivery_df['balls_left']) \n",
    "\n",
    "# required run rate\n",
    "\n",
    "delivery_df['req_run_rate'] = (delivery_df['runs_left']*6)/(delivery_df['balls_left'])\n",
    "\n",
    "\n",
    "delivery_df.head(3)"
   ]
  },
  {
   "cell_type": "code",
   "execution_count": 32,
   "metadata": {
    "ExecuteTime": {
     "end_time": "2023-10-16T07:06:04.350730800Z",
     "start_time": "2023-10-16T07:06:04.339653300Z"
    }
   },
   "outputs": [],
   "source": [
    "def resultfun(row):\n",
    "    return 1 if row['Batting_team'] == row['winner'] else 0"
   ]
  },
  {
   "cell_type": "code",
   "execution_count": 33,
   "metadata": {
    "ExecuteTime": {
     "end_time": "2023-10-16T07:06:05.841068700Z",
     "start_time": "2023-10-16T07:06:05.115041300Z"
    }
   },
   "outputs": [
    {
     "data": {
      "text/plain": "     id  season       city        date                team1  \\\n125   1    2017  Hyderabad  2017-04-05  Sunrisers Hyderabad   \n126   1    2017  Hyderabad  2017-04-05  Sunrisers Hyderabad   \n127   1    2017  Hyderabad  2017-04-05  Sunrisers Hyderabad   \n128   1    2017  Hyderabad  2017-04-05  Sunrisers Hyderabad   \n129   1    2017  Hyderabad  2017-04-05  Sunrisers Hyderabad   \n\n                           team2                  toss_winner toss_decision  \\\n125  Royal Challengers Bangalore  Royal Challengers Bangalore         field   \n126  Royal Challengers Bangalore  Royal Challengers Bangalore         field   \n127  Royal Challengers Bangalore  Royal Challengers Bangalore         field   \n128  Royal Challengers Bangalore  Royal Challengers Bangalore         field   \n129  Royal Challengers Bangalore  Royal Challengers Bangalore         field   \n\n                  winner  win_by_runs  ...  is_super_over player_dismissed  \\\n125  Sunrisers Hyderabad           35  ...              0                0   \n126  Sunrisers Hyderabad           35  ...              0                0   \n127  Sunrisers Hyderabad           35  ...              0                0   \n128  Sunrisers Hyderabad           35  ...              0                0   \n129  Sunrisers Hyderabad           35  ...              0                0   \n\n    Total_y  current_score  runs_left  balls_left wickets_left cur_run_rate  \\\n125       1              1        207         119           10          6.0   \n126       0              1        207         118           10          3.0   \n127       0              1        207         117           10          2.0   \n128       2              3        205         116           10          4.5   \n129       4              7        201         115           10          8.4   \n\n     req_run_rate  result  \n125     10.436975       0  \n126     10.525424       0  \n127     10.615385       0  \n128     10.603448       0  \n129     10.486957       0  \n\n[5 rows x 33 columns]",
      "text/html": "<div>\n<style scoped>\n    .dataframe tbody tr th:only-of-type {\n        vertical-align: middle;\n    }\n\n    .dataframe tbody tr th {\n        vertical-align: top;\n    }\n\n    .dataframe thead th {\n        text-align: right;\n    }\n</style>\n<table border=\"1\" class=\"dataframe\">\n  <thead>\n    <tr style=\"text-align: right;\">\n      <th></th>\n      <th>id</th>\n      <th>season</th>\n      <th>city</th>\n      <th>date</th>\n      <th>team1</th>\n      <th>team2</th>\n      <th>toss_winner</th>\n      <th>toss_decision</th>\n      <th>winner</th>\n      <th>win_by_runs</th>\n      <th>...</th>\n      <th>is_super_over</th>\n      <th>player_dismissed</th>\n      <th>Total_y</th>\n      <th>current_score</th>\n      <th>runs_left</th>\n      <th>balls_left</th>\n      <th>wickets_left</th>\n      <th>cur_run_rate</th>\n      <th>req_run_rate</th>\n      <th>result</th>\n    </tr>\n  </thead>\n  <tbody>\n    <tr>\n      <th>125</th>\n      <td>1</td>\n      <td>2017</td>\n      <td>Hyderabad</td>\n      <td>2017-04-05</td>\n      <td>Sunrisers Hyderabad</td>\n      <td>Royal Challengers Bangalore</td>\n      <td>Royal Challengers Bangalore</td>\n      <td>field</td>\n      <td>Sunrisers Hyderabad</td>\n      <td>35</td>\n      <td>...</td>\n      <td>0</td>\n      <td>0</td>\n      <td>1</td>\n      <td>1</td>\n      <td>207</td>\n      <td>119</td>\n      <td>10</td>\n      <td>6.0</td>\n      <td>10.436975</td>\n      <td>0</td>\n    </tr>\n    <tr>\n      <th>126</th>\n      <td>1</td>\n      <td>2017</td>\n      <td>Hyderabad</td>\n      <td>2017-04-05</td>\n      <td>Sunrisers Hyderabad</td>\n      <td>Royal Challengers Bangalore</td>\n      <td>Royal Challengers Bangalore</td>\n      <td>field</td>\n      <td>Sunrisers Hyderabad</td>\n      <td>35</td>\n      <td>...</td>\n      <td>0</td>\n      <td>0</td>\n      <td>0</td>\n      <td>1</td>\n      <td>207</td>\n      <td>118</td>\n      <td>10</td>\n      <td>3.0</td>\n      <td>10.525424</td>\n      <td>0</td>\n    </tr>\n    <tr>\n      <th>127</th>\n      <td>1</td>\n      <td>2017</td>\n      <td>Hyderabad</td>\n      <td>2017-04-05</td>\n      <td>Sunrisers Hyderabad</td>\n      <td>Royal Challengers Bangalore</td>\n      <td>Royal Challengers Bangalore</td>\n      <td>field</td>\n      <td>Sunrisers Hyderabad</td>\n      <td>35</td>\n      <td>...</td>\n      <td>0</td>\n      <td>0</td>\n      <td>0</td>\n      <td>1</td>\n      <td>207</td>\n      <td>117</td>\n      <td>10</td>\n      <td>2.0</td>\n      <td>10.615385</td>\n      <td>0</td>\n    </tr>\n    <tr>\n      <th>128</th>\n      <td>1</td>\n      <td>2017</td>\n      <td>Hyderabad</td>\n      <td>2017-04-05</td>\n      <td>Sunrisers Hyderabad</td>\n      <td>Royal Challengers Bangalore</td>\n      <td>Royal Challengers Bangalore</td>\n      <td>field</td>\n      <td>Sunrisers Hyderabad</td>\n      <td>35</td>\n      <td>...</td>\n      <td>0</td>\n      <td>0</td>\n      <td>2</td>\n      <td>3</td>\n      <td>205</td>\n      <td>116</td>\n      <td>10</td>\n      <td>4.5</td>\n      <td>10.603448</td>\n      <td>0</td>\n    </tr>\n    <tr>\n      <th>129</th>\n      <td>1</td>\n      <td>2017</td>\n      <td>Hyderabad</td>\n      <td>2017-04-05</td>\n      <td>Sunrisers Hyderabad</td>\n      <td>Royal Challengers Bangalore</td>\n      <td>Royal Challengers Bangalore</td>\n      <td>field</td>\n      <td>Sunrisers Hyderabad</td>\n      <td>35</td>\n      <td>...</td>\n      <td>0</td>\n      <td>0</td>\n      <td>4</td>\n      <td>7</td>\n      <td>201</td>\n      <td>115</td>\n      <td>10</td>\n      <td>8.4</td>\n      <td>10.486957</td>\n      <td>0</td>\n    </tr>\n  </tbody>\n</table>\n<p>5 rows × 33 columns</p>\n</div>"
     },
     "execution_count": 33,
     "metadata": {},
     "output_type": "execute_result"
    }
   ],
   "source": [
    "delivery_df['result'] = delivery_df.apply(resultfun,axis=1)\n",
    "delivery_df.head()"
   ]
  },
  {
   "cell_type": "code",
   "execution_count": 34,
   "metadata": {
    "ExecuteTime": {
     "end_time": "2023-10-16T07:06:06.700359700Z",
     "start_time": "2023-10-16T07:06:06.693412600Z"
    }
   },
   "outputs": [],
   "source": [
    "# sn.countplot(delivery_df['result'])"
   ]
  },
  {
   "cell_type": "code",
   "execution_count": 35,
   "metadata": {
    "ExecuteTime": {
     "end_time": "2023-10-16T07:06:08.131021300Z",
     "start_time": "2023-10-16T07:06:08.099028600Z"
    }
   },
   "outputs": [
    {
     "data": {
      "text/plain": "                    Batting_team         Bowling_team       city  runs_left  \\\n125  Royal Challengers Bangalore  Sunrisers Hyderabad  Hyderabad        207   \n126  Royal Challengers Bangalore  Sunrisers Hyderabad  Hyderabad        207   \n127  Royal Challengers Bangalore  Sunrisers Hyderabad  Hyderabad        207   \n128  Royal Challengers Bangalore  Sunrisers Hyderabad  Hyderabad        205   \n129  Royal Challengers Bangalore  Sunrisers Hyderabad  Hyderabad        201   \n\n     balls_left  wickets_left  Total_x  cur_run_rate  req_run_rate  result  \n125         119            10      208           6.0     10.436975       0  \n126         118            10      208           3.0     10.525424       0  \n127         117            10      208           2.0     10.615385       0  \n128         116            10      208           4.5     10.603448       0  \n129         115            10      208           8.4     10.486957       0  ",
      "text/html": "<div>\n<style scoped>\n    .dataframe tbody tr th:only-of-type {\n        vertical-align: middle;\n    }\n\n    .dataframe tbody tr th {\n        vertical-align: top;\n    }\n\n    .dataframe thead th {\n        text-align: right;\n    }\n</style>\n<table border=\"1\" class=\"dataframe\">\n  <thead>\n    <tr style=\"text-align: right;\">\n      <th></th>\n      <th>Batting_team</th>\n      <th>Bowling_team</th>\n      <th>city</th>\n      <th>runs_left</th>\n      <th>balls_left</th>\n      <th>wickets_left</th>\n      <th>Total_x</th>\n      <th>cur_run_rate</th>\n      <th>req_run_rate</th>\n      <th>result</th>\n    </tr>\n  </thead>\n  <tbody>\n    <tr>\n      <th>125</th>\n      <td>Royal Challengers Bangalore</td>\n      <td>Sunrisers Hyderabad</td>\n      <td>Hyderabad</td>\n      <td>207</td>\n      <td>119</td>\n      <td>10</td>\n      <td>208</td>\n      <td>6.0</td>\n      <td>10.436975</td>\n      <td>0</td>\n    </tr>\n    <tr>\n      <th>126</th>\n      <td>Royal Challengers Bangalore</td>\n      <td>Sunrisers Hyderabad</td>\n      <td>Hyderabad</td>\n      <td>207</td>\n      <td>118</td>\n      <td>10</td>\n      <td>208</td>\n      <td>3.0</td>\n      <td>10.525424</td>\n      <td>0</td>\n    </tr>\n    <tr>\n      <th>127</th>\n      <td>Royal Challengers Bangalore</td>\n      <td>Sunrisers Hyderabad</td>\n      <td>Hyderabad</td>\n      <td>207</td>\n      <td>117</td>\n      <td>10</td>\n      <td>208</td>\n      <td>2.0</td>\n      <td>10.615385</td>\n      <td>0</td>\n    </tr>\n    <tr>\n      <th>128</th>\n      <td>Royal Challengers Bangalore</td>\n      <td>Sunrisers Hyderabad</td>\n      <td>Hyderabad</td>\n      <td>205</td>\n      <td>116</td>\n      <td>10</td>\n      <td>208</td>\n      <td>4.5</td>\n      <td>10.603448</td>\n      <td>0</td>\n    </tr>\n    <tr>\n      <th>129</th>\n      <td>Royal Challengers Bangalore</td>\n      <td>Sunrisers Hyderabad</td>\n      <td>Hyderabad</td>\n      <td>201</td>\n      <td>115</td>\n      <td>10</td>\n      <td>208</td>\n      <td>8.4</td>\n      <td>10.486957</td>\n      <td>0</td>\n    </tr>\n  </tbody>\n</table>\n</div>"
     },
     "execution_count": 35,
     "metadata": {},
     "output_type": "execute_result"
    }
   ],
   "source": [
    "final_df = delivery_df[['Batting_team','Bowling_team','city','runs_left',\n",
    "                        'balls_left','wickets_left','Total_x','cur_run_rate',\n",
    "                        'req_run_rate','result']]\n",
    "\n",
    "final_df.head()"
   ]
  },
  {
   "cell_type": "code",
   "execution_count": 36,
   "metadata": {
    "ExecuteTime": {
     "end_time": "2023-10-16T07:06:09.216691800Z",
     "start_time": "2023-10-16T07:06:09.208671500Z"
    }
   },
   "outputs": [
    {
     "data": {
      "text/plain": "(98313, 10)"
     },
     "execution_count": 36,
     "metadata": {},
     "output_type": "execute_result"
    }
   ],
   "source": [
    "final_df.shape"
   ]
  },
  {
   "cell_type": "code",
   "execution_count": 37,
   "metadata": {
    "ExecuteTime": {
     "end_time": "2023-10-16T07:06:10.567383100Z",
     "start_time": "2023-10-16T07:06:10.533871Z"
    }
   },
   "outputs": [
    {
     "data": {
      "text/plain": "Batting_team     0\nBowling_team     0\ncity             0\nruns_left        0\nballs_left       0\nwickets_left     0\nTotal_x          0\ncur_run_rate     0\nreq_run_rate    11\nresult           0\ndtype: int64"
     },
     "execution_count": 37,
     "metadata": {},
     "output_type": "execute_result"
    }
   ],
   "source": [
    "final_df.isnull().sum()"
   ]
  },
  {
   "cell_type": "code",
   "execution_count": 38,
   "metadata": {
    "ExecuteTime": {
     "end_time": "2023-10-16T07:06:16.409841300Z",
     "start_time": "2023-10-16T07:06:16.350710500Z"
    }
   },
   "outputs": [
    {
     "data": {
      "text/plain": "Batting_team    0\nBowling_team    0\ncity            0\nruns_left       0\nballs_left      0\nwickets_left    0\nTotal_x         0\ncur_run_rate    0\nreq_run_rate    0\nresult          0\ndtype: int64"
     },
     "execution_count": 38,
     "metadata": {},
     "output_type": "execute_result"
    }
   ],
   "source": [
    "# dropping of null values\n",
    "\n",
    "\n",
    "final_df = final_df.dropna()\n",
    "\n",
    "final_df.isnull().sum()"
   ]
  },
  {
   "cell_type": "code",
   "execution_count": 39,
   "metadata": {
    "ExecuteTime": {
     "end_time": "2023-10-16T07:06:21.351512400Z",
     "start_time": "2023-10-16T07:06:21.330875100Z"
    }
   },
   "outputs": [
    {
     "data": {
      "text/plain": "        runs_left  balls_left  wickets_left  Total_x  cur_run_rate  \\\n125           207         119            10      208      6.000000   \n126           207         118            10      208      3.000000   \n127           207         117            10      208      2.000000   \n128           205         116            10      208      4.500000   \n129           201         115            10      208      8.400000   \n...           ...         ...           ...      ...           ...   \n203850         15           4             4      209     10.034483   \n203851         15           3             3      209      9.948718   \n203852         14           2             3      209      9.915254   \n203853         13           1             3      209      9.882353   \n203854          9           0             3      209     10.000000   \n\n        req_run_rate  \n125        10.436975  \n126        10.525424  \n127        10.615385  \n128        10.603448  \n129        10.486957  \n...              ...  \n203850     22.500000  \n203851     30.000000  \n203852     42.000000  \n203853     78.000000  \n203854           inf  \n\n[98302 rows x 6 columns]",
      "text/html": "<div>\n<style scoped>\n    .dataframe tbody tr th:only-of-type {\n        vertical-align: middle;\n    }\n\n    .dataframe tbody tr th {\n        vertical-align: top;\n    }\n\n    .dataframe thead th {\n        text-align: right;\n    }\n</style>\n<table border=\"1\" class=\"dataframe\">\n  <thead>\n    <tr style=\"text-align: right;\">\n      <th></th>\n      <th>runs_left</th>\n      <th>balls_left</th>\n      <th>wickets_left</th>\n      <th>Total_x</th>\n      <th>cur_run_rate</th>\n      <th>req_run_rate</th>\n    </tr>\n  </thead>\n  <tbody>\n    <tr>\n      <th>125</th>\n      <td>207</td>\n      <td>119</td>\n      <td>10</td>\n      <td>208</td>\n      <td>6.000000</td>\n      <td>10.436975</td>\n    </tr>\n    <tr>\n      <th>126</th>\n      <td>207</td>\n      <td>118</td>\n      <td>10</td>\n      <td>208</td>\n      <td>3.000000</td>\n      <td>10.525424</td>\n    </tr>\n    <tr>\n      <th>127</th>\n      <td>207</td>\n      <td>117</td>\n      <td>10</td>\n      <td>208</td>\n      <td>2.000000</td>\n      <td>10.615385</td>\n    </tr>\n    <tr>\n      <th>128</th>\n      <td>205</td>\n      <td>116</td>\n      <td>10</td>\n      <td>208</td>\n      <td>4.500000</td>\n      <td>10.603448</td>\n    </tr>\n    <tr>\n      <th>129</th>\n      <td>201</td>\n      <td>115</td>\n      <td>10</td>\n      <td>208</td>\n      <td>8.400000</td>\n      <td>10.486957</td>\n    </tr>\n    <tr>\n      <th>...</th>\n      <td>...</td>\n      <td>...</td>\n      <td>...</td>\n      <td>...</td>\n      <td>...</td>\n      <td>...</td>\n    </tr>\n    <tr>\n      <th>203850</th>\n      <td>15</td>\n      <td>4</td>\n      <td>4</td>\n      <td>209</td>\n      <td>10.034483</td>\n      <td>22.500000</td>\n    </tr>\n    <tr>\n      <th>203851</th>\n      <td>15</td>\n      <td>3</td>\n      <td>3</td>\n      <td>209</td>\n      <td>9.948718</td>\n      <td>30.000000</td>\n    </tr>\n    <tr>\n      <th>203852</th>\n      <td>14</td>\n      <td>2</td>\n      <td>3</td>\n      <td>209</td>\n      <td>9.915254</td>\n      <td>42.000000</td>\n    </tr>\n    <tr>\n      <th>203853</th>\n      <td>13</td>\n      <td>1</td>\n      <td>3</td>\n      <td>209</td>\n      <td>9.882353</td>\n      <td>78.000000</td>\n    </tr>\n    <tr>\n      <th>203854</th>\n      <td>9</td>\n      <td>0</td>\n      <td>3</td>\n      <td>209</td>\n      <td>10.000000</td>\n      <td>inf</td>\n    </tr>\n  </tbody>\n</table>\n<p>98302 rows × 6 columns</p>\n</div>"
     },
     "execution_count": 39,
     "metadata": {},
     "output_type": "execute_result"
    }
   ],
   "source": [
    "final_df[['runs_left', 'balls_left', 'wickets_left', 'Total_x',\n",
    "    'cur_run_rate', 'req_run_rate']]"
   ]
  },
  {
   "cell_type": "code",
   "execution_count": 40,
   "metadata": {
    "ExecuteTime": {
     "end_time": "2023-10-16T07:06:22.321636700Z",
     "start_time": "2023-10-16T07:06:22.282483300Z"
    }
   },
   "outputs": [],
   "source": [
    "final_df = final_df[final_df['balls_left'] != 0]"
   ]
  },
  {
   "cell_type": "code",
   "execution_count": 41,
   "metadata": {
    "ExecuteTime": {
     "end_time": "2023-10-16T07:06:23.121693600Z",
     "start_time": "2023-10-16T07:06:22.990918300Z"
    }
   },
   "outputs": [
    {
     "name": "stdout",
     "output_type": "stream",
     "text": [
      "                       Batting_team         Bowling_team       city  \\\n",
      "125     Royal Challengers Bangalore  Sunrisers Hyderabad  Hyderabad   \n",
      "126     Royal Challengers Bangalore  Sunrisers Hyderabad  Hyderabad   \n",
      "127     Royal Challengers Bangalore  Sunrisers Hyderabad  Hyderabad   \n",
      "128     Royal Challengers Bangalore  Sunrisers Hyderabad  Hyderabad   \n",
      "129     Royal Challengers Bangalore  Sunrisers Hyderabad  Hyderabad   \n",
      "...                             ...                  ...        ...   \n",
      "203849  Royal Challengers Bangalore  Sunrisers Hyderabad  Bangalore   \n",
      "203850  Royal Challengers Bangalore  Sunrisers Hyderabad  Bangalore   \n",
      "203851  Royal Challengers Bangalore  Sunrisers Hyderabad  Bangalore   \n",
      "203852  Royal Challengers Bangalore  Sunrisers Hyderabad  Bangalore   \n",
      "203853  Royal Challengers Bangalore  Sunrisers Hyderabad  Bangalore   \n",
      "\n",
      "        runs_left  balls_left  wickets_left  Total_x  cur_run_rate  \\\n",
      "125           207         119            10      208      6.000000   \n",
      "126           207         118            10      208      3.000000   \n",
      "127           207         117            10      208      2.000000   \n",
      "128           205         116            10      208      4.500000   \n",
      "129           201         115            10      208      8.400000   \n",
      "...           ...         ...           ...      ...           ...   \n",
      "203849         17           5             4      209     10.017391   \n",
      "203850         15           4             4      209     10.034483   \n",
      "203851         15           3             3      209      9.948718   \n",
      "203852         14           2             3      209      9.915254   \n",
      "203853         13           1             3      209      9.882353   \n",
      "\n",
      "        req_run_rate  result  \n",
      "125        10.436975       0  \n",
      "126        10.525424       0  \n",
      "127        10.615385       0  \n",
      "128        10.603448       0  \n",
      "129        10.486957       0  \n",
      "...              ...     ...  \n",
      "203849     20.400000       0  \n",
      "203850     22.500000       0  \n",
      "203851     30.000000       0  \n",
      "203852     42.000000       0  \n",
      "203853     78.000000       0  \n",
      "\n",
      "[97983 rows x 10 columns]\n"
     ]
    }
   ],
   "source": [
    "data = final_df.copy()\n",
    "print(data)\n",
    "test = data['result']\n",
    "# \n",
    "train = data.drop(['result'],axis = 1)\n",
    "\n",
    "# Replace inf and negative values in 'cur_run_rate' with zeros\n",
    "train['cur_run_rate'] = train['cur_run_rate'].apply(lambda x: 0 if x <= 0 or np.isinf(x) else x)\n",
    "\n",
    "# train['Batting_team'].unique()\n",
    "# train.head()"
   ]
  },
  {
   "cell_type": "code",
   "execution_count": 43,
   "outputs": [
    {
     "name": "stdout",
     "output_type": "stream",
     "text": [
      "Accuracy: 0.9560923059477235\n",
      "              precision    recall  f1-score   support\n",
      "\n",
      "           0       0.96      0.95      0.95     42113\n",
      "           1       0.95      0.96      0.96     46072\n",
      "\n",
      "    accuracy                           0.96     88185\n",
      "   macro avg       0.96      0.96      0.96     88185\n",
      "weighted avg       0.96      0.96      0.96     88185\n"
     ]
    }
   ],
   "source": [
    "from sklearn.ensemble import RandomForestClassifier\n",
    "from sklearn.model_selection import train_test_split\n",
    "from sklearn.metrics import accuracy_score, classification_report\n",
    "from sklearn.preprocessing import LabelEncoder, OneHotEncoder\n",
    "\n",
    "# Define X (features) and y (target)\n",
    "X = train\n",
    "y = test\n",
    "\n",
    "# Encode categorical variables\n",
    "label_encoders = {}\n",
    "categorical_columns = ['Batting_team', 'Bowling_team', 'city']\n",
    "\n",
    "for col in categorical_columns:\n",
    "    label_encoders[col] = LabelEncoder()\n",
    "    X[col] = label_encoders[col].fit_transform(X[col])\n",
    "\n",
    "X = pd.get_dummies(X, columns=categorical_columns, drop_first=True)\n",
    "\n",
    "# Split the data into training and testing sets\n",
    "X_train, X_test, y_train, y_test = train_test_split(X, y, test_size=0.9, random_state=42)\n",
    "\n",
    "# Create and train the RandomForestClassifier\n",
    "clf = RandomForestClassifier(n_estimators=100, random_state=45)\n",
    "clf.fit(X_train, y_train)\n",
    "\n",
    "# Make predictions on the test set\n",
    "y_pred = clf.predict(X_test)\n",
    "\n",
    "# Evaluate the classifier's performance\n",
    "accuracy = accuracy_score(y_test, y_pred)\n",
    "print(\"Accuracy:\", accuracy)\n",
    "\n",
    "# You can also print a classification report for more detailed performance metrics\n",
    "print(classification_report(y_test, y_pred))\n"
   ],
   "metadata": {
    "collapsed": false,
    "ExecuteTime": {
     "end_time": "2023-10-16T07:07:47.401452900Z",
     "start_time": "2023-10-16T07:07:42.412540100Z"
    }
   }
  },
  {
   "cell_type": "code",
   "execution_count": 44,
   "outputs": [
    {
     "name": "stdout",
     "output_type": "stream",
     "text": [
      "Validation Accuracy: 0.7942262830482115\n",
      "Test Accuracy: 0.796430133505509\n",
      "Validation Classification Report:\n",
      "              precision    recall  f1-score   support\n",
      "\n",
      "           0       0.80      0.76      0.78      9832\n",
      "           1       0.79      0.83      0.81     10744\n",
      "\n",
      "    accuracy                           0.79     20576\n",
      "   macro avg       0.79      0.79      0.79     20576\n",
      "weighted avg       0.79      0.79      0.79     20576\n",
      "\n",
      "Test Classification Report:\n",
      "              precision    recall  f1-score   support\n",
      "\n",
      "           0       0.80      0.76      0.78     22861\n",
      "           1       0.79      0.83      0.81     25152\n",
      "\n",
      "    accuracy                           0.80     48013\n",
      "   macro avg       0.80      0.79      0.80     48013\n",
      "weighted avg       0.80      0.80      0.80     48013\n",
      "Validation Accuracy: 0.8325719284603421\n",
      "Test Accuracy: 0.8338783246204153\n",
      "Validation Classification Report:\n",
      "              precision    recall  f1-score   support\n",
      "\n",
      "           0       0.82      0.83      0.83      9832\n",
      "           1       0.84      0.83      0.84     10744\n",
      "\n",
      "    accuracy                           0.83     20576\n",
      "   macro avg       0.83      0.83      0.83     20576\n",
      "weighted avg       0.83      0.83      0.83     20576\n",
      "\n",
      "Test Classification Report:\n",
      "              precision    recall  f1-score   support\n",
      "\n",
      "           0       0.82      0.83      0.83     22861\n",
      "           1       0.84      0.84      0.84     25152\n",
      "\n",
      "    accuracy                           0.83     48013\n",
      "   macro avg       0.83      0.83      0.83     48013\n",
      "weighted avg       0.83      0.83      0.83     48013\n",
      "Validation Accuracy: 0.906347200622084\n",
      "Test Accuracy: 0.9094411930102264\n",
      "Validation Classification Report:\n",
      "              precision    recall  f1-score   support\n",
      "\n",
      "           0       0.91      0.89      0.90      9832\n",
      "           1       0.90      0.92      0.91     10744\n",
      "\n",
      "    accuracy                           0.91     20576\n",
      "   macro avg       0.91      0.91      0.91     20576\n",
      "weighted avg       0.91      0.91      0.91     20576\n",
      "\n",
      "Test Classification Report:\n",
      "              precision    recall  f1-score   support\n",
      "\n",
      "           0       0.92      0.89      0.90     22861\n",
      "           1       0.90      0.92      0.91     25152\n",
      "\n",
      "    accuracy                           0.91     48013\n",
      "   macro avg       0.91      0.91      0.91     48013\n",
      "weighted avg       0.91      0.91      0.91     48013\n",
      "Validation Accuracy: 0.9658825816485226\n",
      "Test Accuracy: 0.9656551350675858\n",
      "Validation Classification Report:\n",
      "              precision    recall  f1-score   support\n",
      "\n",
      "           0       0.97      0.96      0.96      9832\n",
      "           1       0.96      0.97      0.97     10744\n",
      "\n",
      "    accuracy                           0.97     20576\n",
      "   macro avg       0.97      0.97      0.97     20576\n",
      "weighted avg       0.97      0.97      0.97     20576\n",
      "\n",
      "Test Classification Report:\n",
      "              precision    recall  f1-score   support\n",
      "\n",
      "           0       0.97      0.96      0.96     22861\n",
      "           1       0.96      0.97      0.97     25152\n",
      "\n",
      "    accuracy                           0.97     48013\n",
      "   macro avg       0.97      0.97      0.97     48013\n",
      "weighted avg       0.97      0.97      0.97     48013\n",
      "Validation Accuracy: 0.9827954898911353\n",
      "Test Accuracy: 0.9826297044550434\n",
      "Validation Classification Report:\n",
      "              precision    recall  f1-score   support\n",
      "\n",
      "           0       0.98      0.99      0.98      9832\n",
      "           1       0.99      0.98      0.98     10744\n",
      "\n",
      "    accuracy                           0.98     20576\n",
      "   macro avg       0.98      0.98      0.98     20576\n",
      "weighted avg       0.98      0.98      0.98     20576\n",
      "\n",
      "Test Classification Report:\n",
      "              precision    recall  f1-score   support\n",
      "\n",
      "           0       0.98      0.99      0.98     22861\n",
      "           1       0.99      0.98      0.98     25152\n",
      "\n",
      "    accuracy                           0.98     48013\n",
      "   macro avg       0.98      0.98      0.98     48013\n",
      "weighted avg       0.98      0.98      0.98     48013\n",
      "\n",
      "    0         1         2\n",
      "0   5  0.794226  0.796430\n",
      "1  10  0.832572  0.833878\n",
      "2  15  0.906347  0.909441\n",
      "3  20  0.965883  0.965655\n",
      "4  50  0.982795  0.982630\n"
     ]
    }
   ],
   "source": [
    "from sklearn.model_selection import train_test_split\n",
    "\n",
    "# Define X (features) and y (target)\n",
    "X = train  # Assuming train contains your feature data\n",
    "y = test   # Assuming test contains your target data\n",
    "\n",
    "# Encode categorical variables\n",
    "label_encoders = {}\n",
    "categorical_columns = ['Batting_team', 'Bowling_team', 'city']\n",
    "\n",
    "for col in categorical_columns:\n",
    "    label_encoders[col] = LabelEncoder()\n",
    "    X[col] = label_encoders[col].fit_transform(X[col])\n",
    "\n",
    "X = pd.get_dummies(X, columns=categorical_columns, drop_first=True)\n",
    "\n",
    "# Perform Train-Validation-Test Split\n",
    "# First, split the data into training and the rest (combined validation and test)\n",
    "X_train, X_rest, y_train, y_rest = train_test_split(X, y, test_size=0.7, random_state=42)\n",
    "\n",
    "# Then, split the rest into validation and test sets\n",
    "X_val, X_test, y_val, y_test = train_test_split(X_rest, y_rest, test_size=0.7, random_state=42)\n",
    "depth = [5,10,15,20,50]\n",
    "res = []\n",
    "for dpt in depth:\n",
    "    \n",
    "    # Create and train the RandomForestClassifier on the training set\n",
    "    clf = RandomForestClassifier(n_estimators=10, random_state=45, max_depth=dpt)\n",
    "    clf.fit(X_train, y_train)\n",
    "    \n",
    "    # Make predictions on the validation set\n",
    "    y_val_pred = clf.predict(X_val)\n",
    "    \n",
    "    # Evaluate the classifier's performance on the validation set\n",
    "    validation_accuracy = accuracy_score(y_val, y_val_pred)\n",
    "    print(\"Validation Accuracy:\", validation_accuracy)\n",
    "    \n",
    "    # Make predictions on the test set\n",
    "    y_test_pred = clf.predict(X_test)\n",
    "    \n",
    "    # Evaluate the classifier's performance on the test set\n",
    "    test_accuracy = accuracy_score(y_test, y_test_pred)\n",
    "    print(\"Test Accuracy:\", test_accuracy)\n",
    "\n",
    "    # You can also print classification reports for more detailed performance metrics\n",
    "    print(\"Validation Classification Report:\")\n",
    "    print(classification_report(y_val, y_val_pred))\n",
    "    \n",
    "    print(\"Test Classification Report:\")\n",
    "    print(classification_report(y_test, y_test_pred))\n",
    "    rn = [dpt, validation_accuracy, test_accuracy]\n",
    "    res.append(rn)\n",
    "res_df = pd.DataFrame.from_records(res)  \n",
    "print(res_df)\n"
   ],
   "metadata": {
    "collapsed": false,
    "ExecuteTime": {
     "end_time": "2023-10-16T07:08:12.208022400Z",
     "start_time": "2023-10-16T07:08:08.924829500Z"
    }
   }
  },
  {
   "cell_type": "code",
   "execution_count": 45,
   "outputs": [
    {
     "name": "stdout",
     "output_type": "stream",
     "text": [
      "Validation Accuracy (Naive Bayes): 0.6829112712891497\n",
      "Test Accuracy (Naive Bayes): 0.676530612244898\n",
      "Validation Classification Report (Naive Bayes):\n",
      "              precision    recall  f1-score   support\n",
      "\n",
      "           0       0.62      0.83      0.71      7398\n",
      "           1       0.78      0.55      0.65      8279\n",
      "\n",
      "    accuracy                           0.68     15677\n",
      "   macro avg       0.70      0.69      0.68     15677\n",
      "weighted avg       0.71      0.68      0.68     15677\n",
      "\n",
      "Test Classification Report (Naive Bayes):\n",
      "              precision    recall  f1-score   support\n",
      "\n",
      "           0       0.62      0.83      0.71      1890\n",
      "           1       0.77      0.53      0.63      2030\n",
      "\n",
      "    accuracy                           0.68      3920\n",
      "   macro avg       0.70      0.68      0.67      3920\n",
      "weighted avg       0.70      0.68      0.67      3920\n",
      "Validation Accuracy (Naive Bayes): 0.6845839813374806\n",
      "Test Accuracy (Naive Bayes): 0.6830706429300374\n",
      "Validation Classification Report (Naive Bayes):\n",
      "              precision    recall  f1-score   support\n",
      "\n",
      "           0       0.63      0.83      0.71      9747\n",
      "           1       0.78      0.55      0.65     10829\n",
      "\n",
      "    accuracy                           0.68     20576\n",
      "   macro avg       0.70      0.69      0.68     20576\n",
      "weighted avg       0.71      0.68      0.68     20576\n",
      "\n",
      "Test Classification Report (Naive Bayes):\n",
      "              precision    recall  f1-score   support\n",
      "\n",
      "           0       0.62      0.83      0.71      4176\n",
      "           1       0.79      0.55      0.65      4643\n",
      "\n",
      "    accuracy                           0.68      8819\n",
      "   macro avg       0.70      0.69      0.68      8819\n",
      "weighted avg       0.71      0.68      0.68      8819\n",
      "Validation Accuracy (Naive Bayes): 0.6818336451777514\n",
      "Test Accuracy (Naive Bayes): 0.6842071692817961\n",
      "Validation Classification Report (Naive Bayes):\n",
      "              precision    recall  f1-score   support\n",
      "\n",
      "           0       0.62      0.83      0.71     11106\n",
      "           1       0.78      0.55      0.64     12410\n",
      "\n",
      "    accuracy                           0.68     23516\n",
      "   macro avg       0.70      0.69      0.68     23516\n",
      "weighted avg       0.71      0.68      0.68     23516\n",
      "\n",
      "Test Classification Report (Naive Bayes):\n",
      "              precision    recall  f1-score   support\n",
      "\n",
      "           0       0.63      0.84      0.72      7512\n",
      "           1       0.79      0.54      0.64      8166\n",
      "\n",
      "    accuracy                           0.68     15678\n",
      "   macro avg       0.71      0.69      0.68     15678\n",
      "weighted avg       0.71      0.68      0.68     15678\n",
      "Validation Accuracy (Naive Bayes): 0.6817847811887655\n",
      "Test Accuracy (Naive Bayes): 0.679008817766166\n",
      "Validation Classification Report (Naive Bayes):\n",
      "              precision    recall  f1-score   support\n",
      "\n",
      "           0       0.62      0.84      0.71     11581\n",
      "           1       0.79      0.54      0.64     12915\n",
      "\n",
      "    accuracy                           0.68     24496\n",
      "   macro avg       0.70      0.69      0.68     24496\n",
      "weighted avg       0.71      0.68      0.68     24496\n",
      "\n",
      "Test Classification Report (Naive Bayes):\n",
      "              precision    recall  f1-score   support\n",
      "\n",
      "           0       0.62      0.84      0.71     11704\n",
      "           1       0.78      0.54      0.64     12792\n",
      "\n",
      "    accuracy                           0.68     24496\n",
      "   macro avg       0.70      0.69      0.67     24496\n",
      "weighted avg       0.71      0.68      0.67     24496\n",
      "\n",
      "     0         1         2\n",
      "0  0.2  0.682911  0.676531\n",
      "1  0.3  0.684584  0.683071\n",
      "2  0.4  0.681834  0.684207\n",
      "3  0.5  0.681785  0.679009\n"
     ]
    }
   ],
   "source": [
    "from sklearn.model_selection import train_test_split\n",
    "from sklearn.preprocessing import LabelEncoder\n",
    "from sklearn.naive_bayes import GaussianNB\n",
    "from sklearn.metrics import accuracy_score, classification_report\n",
    "import pandas as pd\n",
    "\n",
    "# Define X (features) and y (target)\n",
    "X = train  # Assuming train contains your feature data\n",
    "y = test   # Assuming test contains your target data\n",
    "\n",
    "# Encode categorical variables\n",
    "label_encoders = {}\n",
    "categorical_columns = ['Batting_team', 'Bowling_team', 'city']\n",
    "\n",
    "for col in categorical_columns:\n",
    "    label_encoders[col] = LabelEncoder()\n",
    "    X[col] = label_encoders[col].fit_transform(X[col])\n",
    "\n",
    "X = pd.get_dummies(X, columns=categorical_columns, drop_first=True)\n",
    "ts_size = [0.2,0.3,0.4,0.5]\n",
    "qwe= []\n",
    "for asd in ts_size:    \n",
    "    # Perform Train-Validation-Test Split\n",
    "    # First, split the data into training and the rest (combined validation and test)\n",
    "    X_train, X_rest, y_train, y_rest = train_test_split(X, y, test_size=asd, random_state=42)\n",
    "    \n",
    "    # Then, split the rest into validation and test sets\n",
    "    X_val, X_test, y_val, y_test = train_test_split(X_rest, y_rest, test_size=asd, random_state=42)\n",
    "    \n",
    "    # Create and train the Gaussian Naive Bayes classifier on the training set\n",
    "    clf_nb = GaussianNB()\n",
    "    clf_nb.fit(X_train, y_train)\n",
    "    \n",
    "    # Make predictions on the validation set for Naive Bayes\n",
    "    y_val_pred_nb = clf_nb.predict(X_val)\n",
    "    \n",
    "    # Evaluate the classifier's performance on the validation set for Naive Bayes\n",
    "    validation_accuracy_nb = accuracy_score(y_val, y_val_pred_nb)\n",
    "    \n",
    "    # Make predictions on the test set for Naive Bayes\n",
    "    y_test_pred_nb = clf_nb.predict(X_test)\n",
    "    \n",
    "    # Evaluate the classifier's performance on the test set for Naive Bayes\n",
    "    test_accuracy_nb = accuracy_score(y_test, y_test_pred_nb)\n",
    "    \n",
    "    # Print validation and test accuracy\n",
    "    print(\"Validation Accuracy (Naive Bayes):\", validation_accuracy_nb)\n",
    "    print(\"Test Accuracy (Naive Bayes):\", test_accuracy_nb)\n",
    "    \n",
    "    # You can also print classification reports for more detailed performance metrics\n",
    "    print(\"Validation Classification Report (Naive Bayes):\")\n",
    "    print(classification_report(y_val, y_val_pred_nb))\n",
    "    \n",
    "    print(\"Test Classification Report (Naive Bayes):\")\n",
    "    print(classification_report(y_test, y_test_pred_nb))\n",
    "    \n",
    "    rn = [asd, validation_accuracy_nb, test_accuracy_nb]\n",
    "    qwe.append(rn)\n",
    "res_df = pd.DataFrame.from_records(qwe)  \n",
    "print(res_df)\n"
   ],
   "metadata": {
    "collapsed": false,
    "ExecuteTime": {
     "end_time": "2023-10-16T07:08:16.838203200Z",
     "start_time": "2023-10-16T07:08:15.292061700Z"
    }
   }
  },
  {
   "cell_type": "code",
   "execution_count": 40,
   "outputs": [],
   "source": [],
   "metadata": {
    "collapsed": false,
    "ExecuteTime": {
     "end_time": "2023-09-03T06:39:18.667174200Z",
     "start_time": "2023-09-03T06:39:18.639249700Z"
    }
   }
  }
 ],
 "metadata": {
  "kernelspec": {
   "display_name": "Python 3",
   "language": "python",
   "name": "python3"
  },
  "language_info": {
   "codemirror_mode": {
    "name": "ipython",
    "version": 3
   },
   "file_extension": ".py",
   "mimetype": "text/x-python",
   "name": "python",
   "nbconvert_exporter": "python",
   "pygments_lexer": "ipython3",
   "version": "3.8.8"
  }
 },
 "nbformat": 4,
 "nbformat_minor": 4
}
