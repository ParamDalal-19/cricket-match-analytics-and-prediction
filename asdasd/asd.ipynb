{
 "cells": [
  {
   "cell_type": "code",
   "execution_count": null,
   "id": "initial_id",
   "metadata": {
    "collapsed": true
   },
   "outputs": [],
   "source": []
  },
  {
   "cell_type": "code",
   "execution_count": null,
   "outputs": [],
   "source": [
    "import pandas as pd\n",
    "import random\n",
    "\n",
    "# Load the source and target Excel files into DataFrames\n",
    "source_file_path = 'final_data.xlsx'  # Replace with the source file path\n",
    "target_file_path = 'final_data.xlsx'  # Replace with the target file path\n",
    "\n",
    "\n",
    "source_df = pd.read_excel(source_file_path)\n",
    "target_df = pd.read_excel(target_file_path)\n",
    "\n",
    "# Initialize a list to store the indices of the rows to move\n",
    "rows_to_move = []\n",
    "\n",
    "# Check if there are enough rows to move\n",
    "if len(source_df) < 1000:\n",
    "    print(\"There are not enough rows to move 1000 rows.\")\n",
    "else:\n",
    "    # Generate 1000 unique random row indices (excluding the header)\n",
    "    while len(rows_to_move) < 1000:\n",
    "        random_row_index = random.randint(1, len(source_df) - 1)\n",
    "        if random_row_index not in rows_to_move:\n",
    "            rows_to_move.append(random_row_index)\n",
    "\n",
    "    # Copy the selected rows to the target DataFrame\n",
    "    selected_rows = source_df.iloc[rows_to_move]\n",
    "    target_df = pd.concat([target_df, selected_rows])\n",
    "\n",
    "    # Delete the selected rows from the source DataFrame\n",
    "    source_df = source_df.drop(source_df.index[rows_to_move])\n",
    "\n",
    "    # Save the updated DataFrames back to their respective Excel files\n",
    "    with pd.ExcelWriter(source_file_path, engine='openpyxl', mode='a') as source_writer:\n",
    "        source_df.to_excel(source_writer, index=False)\n",
    "\n",
    "    with pd.ExcelWriter(target_file_path, engine='openpyxl', mode='a') as target_writer:\n",
    "        target_df.to_excel(target_writer, index=False)\n",
    "\n",
    "    print(f\"Moved 1000 rows from {source_file_path} to {target_file_path}.\")\n",
    "\n",
    "# Reset the random seed for reusability\n",
    "random.seed()\n"
   ],
   "metadata": {
    "collapsed": false,
    "is_executing": true,
    "ExecuteTime": {
     "start_time": "2023-10-17T21:39:32.761857100Z"
    }
   },
   "id": "cf315798b871e3a8"
  },
  {
   "cell_type": "code",
   "execution_count": null,
   "outputs": [],
   "source": [
    "from sklearn.ensemble import RandomForestClassifier\n",
    "from sklearn.metrics import accuracy_score, classification_report\n",
    "import pandas as pd\n",
    "import numpy as np\n",
    "from sklearn.preprocessing import LabelEncoder\n",
    "from sklearn.model_selection import train_test_split\n",
    "\n",
    "# Load the data\n",
    "final_df = pd.read_excel(\"final_data.xlsx\")\n",
    "\n",
    "# Extract features and target\n",
    "X = final_df.drop(['result'], axis=1)\n",
    "y = final_df['result']\n",
    "\n",
    "# Replace inf and negative values in 'cur_run_rate' with zeros\n",
    "X['cur_run_rate'] = X['cur_run_rate'].apply(lambda x: 0 if x <= 0 or np.isinf(x) else x)\n",
    "\n",
    "# Encode categorical variables\n",
    "label_encoders = {}\n",
    "categorical_columns = ['Batting_team', 'Bowling_team', 'city']\n",
    "\n",
    "for col in categorical_columns:\n",
    "    label_encoders[col] = LabelEncoder()\n",
    "    X[col] = label_encoders[col].fit_transform(X[col])\n",
    "\n",
    "# Split the data into training (70%), validation (15%), and testing (15%) sets\n",
    "X_train, X_temp, y_train, y_temp = train_test_split(X, y, test_size=0.3, random_state=45)\n",
    "X_validate, X_test, y_validate, y_test = train_test_split(X_temp, y_temp, test_size=0.5, random_state=45)\n",
    "\n",
    "# Create and train the RandomForestClassifier with your specified hyperparameters\n",
    "clf = RandomForestClassifier(n_estimators=200, max_depth=30, min_samples_split=2, min_samples_leaf=1, random_state=45)\n",
    "clf.fit(X_train, y_train)\n",
    "\n",
    "# Make predictions on the validation set\n",
    "validate_pred = clf.predict(X_validate)\n",
    "\n",
    "# Evaluate the classifier's performance on the validation set\n",
    "validate_accuracy = accuracy_score(y_validate, validate_pred)\n",
    "print(\"Validation Accuracy:\", validate_accuracy)\n",
    "\n",
    "# Print a classification report for the validation set\n",
    "print(\"Validation Classification Report:\")\n",
    "print(classification_report(y_validate, validate_pred))\n",
    "\n",
    "# Make predictions on the testing set\n",
    "test_pred = clf.predict(X_test)\n",
    "\n",
    "# Evaluate the classifier's performance on the testing set\n",
    "test_accuracy = accuracy_score(y_test, test_pred)\n",
    "print(\"Testing Accuracy:\", test_accuracy)\n",
    "\n",
    "# Print a classification report for the testing set\n",
    "print(\"Testing Classification Report:\")\n",
    "print(classification_report(y_test, test_pred))\n"
   ],
   "metadata": {
    "collapsed": false
   },
   "id": "ec61731bea058153"
  }
 ],
 "metadata": {
  "kernelspec": {
   "display_name": "Python 3",
   "language": "python",
   "name": "python3"
  },
  "language_info": {
   "codemirror_mode": {
    "name": "ipython",
    "version": 2
   },
   "file_extension": ".py",
   "mimetype": "text/x-python",
   "name": "python",
   "nbconvert_exporter": "python",
   "pygments_lexer": "ipython2",
   "version": "2.7.6"
  }
 },
 "nbformat": 4,
 "nbformat_minor": 5
}
