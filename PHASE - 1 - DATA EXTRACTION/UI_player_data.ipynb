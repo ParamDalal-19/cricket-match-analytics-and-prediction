{
 "cells": [
  {
   "cell_type": "code",
   "execution_count": 8,
   "id": "initial_id",
   "metadata": {
    "collapsed": true,
    "ExecuteTime": {
     "end_time": "2023-10-20T17:19:00.107678800Z",
     "start_time": "2023-10-20T17:19:00.020965100Z"
    }
   },
   "outputs": [
    {
     "data": {
      "text/plain": "        Player Name Total Matches Total Innings Total Not Outs Total Runs  \\\n0  Tushar Deshpande             5             2              1         21   \n1      Devon Conway            99            99             93        344   \n2   Ruturaj Gaikwad            38            37              5       1429   \n3         Moeen Ali            59            52              6       1034   \n4        Ben Stokes            45            44              6        935   \n\n  Highest Score Total Balls Faced Strike Rate Hundreds Fifties Fours Sixes  \n0            20                12         175        0       0     2     1  \n1            92               265          92       92      95   114   104  \n2           101              1035       147.5        1      11   126    59  \n3            93               723      136.26        0       5    88    59  \n4           107               698      107.14        2       2    81    32  ",
      "text/html": "<div>\n<style scoped>\n    .dataframe tbody tr th:only-of-type {\n        vertical-align: middle;\n    }\n\n    .dataframe tbody tr th {\n        vertical-align: top;\n    }\n\n    .dataframe thead th {\n        text-align: right;\n    }\n</style>\n<table border=\"1\" class=\"dataframe\">\n  <thead>\n    <tr style=\"text-align: right;\">\n      <th></th>\n      <th>Player Name</th>\n      <th>Total Matches</th>\n      <th>Total Innings</th>\n      <th>Total Not Outs</th>\n      <th>Total Runs</th>\n      <th>Highest Score</th>\n      <th>Total Balls Faced</th>\n      <th>Strike Rate</th>\n      <th>Hundreds</th>\n      <th>Fifties</th>\n      <th>Fours</th>\n      <th>Sixes</th>\n    </tr>\n  </thead>\n  <tbody>\n    <tr>\n      <th>0</th>\n      <td>Tushar Deshpande</td>\n      <td>5</td>\n      <td>2</td>\n      <td>1</td>\n      <td>21</td>\n      <td>20</td>\n      <td>12</td>\n      <td>175</td>\n      <td>0</td>\n      <td>0</td>\n      <td>2</td>\n      <td>1</td>\n    </tr>\n    <tr>\n      <th>1</th>\n      <td>Devon Conway</td>\n      <td>99</td>\n      <td>99</td>\n      <td>93</td>\n      <td>344</td>\n      <td>92</td>\n      <td>265</td>\n      <td>92</td>\n      <td>92</td>\n      <td>95</td>\n      <td>114</td>\n      <td>104</td>\n    </tr>\n    <tr>\n      <th>2</th>\n      <td>Ruturaj Gaikwad</td>\n      <td>38</td>\n      <td>37</td>\n      <td>5</td>\n      <td>1429</td>\n      <td>101</td>\n      <td>1035</td>\n      <td>147.5</td>\n      <td>1</td>\n      <td>11</td>\n      <td>126</td>\n      <td>59</td>\n    </tr>\n    <tr>\n      <th>3</th>\n      <td>Moeen Ali</td>\n      <td>59</td>\n      <td>52</td>\n      <td>6</td>\n      <td>1034</td>\n      <td>93</td>\n      <td>723</td>\n      <td>136.26</td>\n      <td>0</td>\n      <td>5</td>\n      <td>88</td>\n      <td>59</td>\n    </tr>\n    <tr>\n      <th>4</th>\n      <td>Ben Stokes</td>\n      <td>45</td>\n      <td>44</td>\n      <td>6</td>\n      <td>935</td>\n      <td>107</td>\n      <td>698</td>\n      <td>107.14</td>\n      <td>2</td>\n      <td>2</td>\n      <td>81</td>\n      <td>32</td>\n    </tr>\n  </tbody>\n</table>\n</div>"
     },
     "execution_count": 8,
     "metadata": {},
     "output_type": "execute_result"
    }
   ],
   "source": [
    "import pandas as pd\n",
    "\n",
    "# Replace 'your_excel_file.xlsx' with the actual path to your Excel file\n",
    "df = pd.read_excel('unique_player_data.xlsx')\n",
    "df.head()"
   ]
  },
  {
   "cell_type": "code",
   "execution_count": 11,
   "outputs": [],
   "source": [
    "# Define your custom functions\n",
    "def classify_high_score(high_score):\n",
    "    if high_score == \"NONE\":\n",
    "        return 0\n",
    "    elif 0 <= int(high_score) <= 30:\n",
    "        return 1\n",
    "    elif 31 <= int(high_score) <= 60:\n",
    "        return 2\n",
    "    elif 61 <= int(high_score) <= 90:\n",
    "        return 3\n",
    "    elif 91 <= int(high_score) <= 120:\n",
    "        return 4\n",
    "    elif 121 <= int(high_score) <= 150:\n",
    "        return 5\n",
    "    else:\n",
    "        return 6\n",
    "\n",
    "def classify_not_out(not_out):\n",
    "    if not_out == \"NONE\":\n",
    "        return 0\n",
    "    elif 0 <= int(not_out) <= 30:\n",
    "        return 1\n",
    "    elif 31 <= int(not_out) <= 60:\n",
    "        return 2\n",
    "    elif 61 <= int(not_out) <= 90:\n",
    "        return 3\n",
    "    elif 91 <= int(not_out) <= 120:\n",
    "        return 4\n",
    "    elif 121 <= int(not_out) <= 150:\n",
    "        return 5\n",
    "    else:\n",
    "        return 6\n",
    "    \n",
    "def classify_strike_class(strike):\n",
    "    if strike == \"NONE\":\n",
    "        return 0\n",
    "    elif 0 <= int(strike) <= 30:\n",
    "        return 1\n",
    "    elif 31 <= int(strike) <= 60:\n",
    "        return 2\n",
    "    elif 61 <= int(strike) <= 90:\n",
    "        return 3\n",
    "    elif 91 <= int(strike) <= 120:\n",
    "        return 4\n",
    "    elif 121 <= int(strike) <= 150:\n",
    "        return 5\n",
    "    else:\n",
    "        return 6\n",
    "# Apply the custom functions to the respective columns\n",
    "df['Highest Score'] = df['Highest Score'].apply(classify_high_score)\n",
    "df['Total Not Outs'] = df['Total Not Outs'].apply(classify_not_out)\n",
    "df['Strike Rate'] = df['Strike Rate'].apply(classify_strike_class)"
   ],
   "metadata": {
    "collapsed": false,
    "ExecuteTime": {
     "end_time": "2023-10-20T17:20:08.771000500Z",
     "start_time": "2023-10-20T17:20:08.760746500Z"
    }
   },
   "id": "c056a5e3acb8da5"
  },
  {
   "cell_type": "code",
   "execution_count": 12,
   "outputs": [
    {
     "data": {
      "text/plain": "        Player Name Total Matches Total Innings  Total Not Outs Total Runs  \\\n0  Tushar Deshpande             5             2               1         21   \n1      Devon Conway            99            99               4        344   \n2   Ruturaj Gaikwad            38            37               1       1429   \n3         Moeen Ali            59            52               1       1034   \n4        Ben Stokes            45            44               1        935   \n\n   Highest Score Total Balls Faced  Strike Rate Hundreds Fifties Fours Sixes  \n0              1                12            6        0       0     2     1  \n1              1               265            4       92      95   114   104  \n2              1              1035            5        1      11   126    59  \n3              1               723            5        0       5    88    59  \n4              1               698            4        2       2    81    32  ",
      "text/html": "<div>\n<style scoped>\n    .dataframe tbody tr th:only-of-type {\n        vertical-align: middle;\n    }\n\n    .dataframe tbody tr th {\n        vertical-align: top;\n    }\n\n    .dataframe thead th {\n        text-align: right;\n    }\n</style>\n<table border=\"1\" class=\"dataframe\">\n  <thead>\n    <tr style=\"text-align: right;\">\n      <th></th>\n      <th>Player Name</th>\n      <th>Total Matches</th>\n      <th>Total Innings</th>\n      <th>Total Not Outs</th>\n      <th>Total Runs</th>\n      <th>Highest Score</th>\n      <th>Total Balls Faced</th>\n      <th>Strike Rate</th>\n      <th>Hundreds</th>\n      <th>Fifties</th>\n      <th>Fours</th>\n      <th>Sixes</th>\n    </tr>\n  </thead>\n  <tbody>\n    <tr>\n      <th>0</th>\n      <td>Tushar Deshpande</td>\n      <td>5</td>\n      <td>2</td>\n      <td>1</td>\n      <td>21</td>\n      <td>1</td>\n      <td>12</td>\n      <td>6</td>\n      <td>0</td>\n      <td>0</td>\n      <td>2</td>\n      <td>1</td>\n    </tr>\n    <tr>\n      <th>1</th>\n      <td>Devon Conway</td>\n      <td>99</td>\n      <td>99</td>\n      <td>4</td>\n      <td>344</td>\n      <td>1</td>\n      <td>265</td>\n      <td>4</td>\n      <td>92</td>\n      <td>95</td>\n      <td>114</td>\n      <td>104</td>\n    </tr>\n    <tr>\n      <th>2</th>\n      <td>Ruturaj Gaikwad</td>\n      <td>38</td>\n      <td>37</td>\n      <td>1</td>\n      <td>1429</td>\n      <td>1</td>\n      <td>1035</td>\n      <td>5</td>\n      <td>1</td>\n      <td>11</td>\n      <td>126</td>\n      <td>59</td>\n    </tr>\n    <tr>\n      <th>3</th>\n      <td>Moeen Ali</td>\n      <td>59</td>\n      <td>52</td>\n      <td>1</td>\n      <td>1034</td>\n      <td>1</td>\n      <td>723</td>\n      <td>5</td>\n      <td>0</td>\n      <td>5</td>\n      <td>88</td>\n      <td>59</td>\n    </tr>\n    <tr>\n      <th>4</th>\n      <td>Ben Stokes</td>\n      <td>45</td>\n      <td>44</td>\n      <td>1</td>\n      <td>935</td>\n      <td>1</td>\n      <td>698</td>\n      <td>4</td>\n      <td>2</td>\n      <td>2</td>\n      <td>81</td>\n      <td>32</td>\n    </tr>\n  </tbody>\n</table>\n</div>"
     },
     "execution_count": 12,
     "metadata": {},
     "output_type": "execute_result"
    }
   ],
   "source": [
    "df.head()"
   ],
   "metadata": {
    "collapsed": false,
    "ExecuteTime": {
     "end_time": "2023-10-20T17:20:11.910772700Z",
     "start_time": "2023-10-20T17:20:11.897866Z"
    }
   },
   "id": "fdff79977c5f5cbd"
  },
  {
   "cell_type": "code",
   "execution_count": 13,
   "outputs": [],
   "source": [
    "new_df = df[['Player Name', 'Total Not Outs', 'Highest Score', 'Strike Rate']]"
   ],
   "metadata": {
    "collapsed": false,
    "ExecuteTime": {
     "end_time": "2023-10-20T17:20:20.803785800Z",
     "start_time": "2023-10-20T17:20:20.794180800Z"
    }
   },
   "id": "9fd97cd7dbb5d9f9"
  },
  {
   "cell_type": "code",
   "execution_count": 14,
   "outputs": [
    {
     "name": "stdout",
     "output_type": "stream",
     "text": [
      "Data saved to ui_player_data.xlsx\n"
     ]
    }
   ],
   "source": [
    "# Replace 'output_file.xlsx' with the desired file path and name for your output Excel file\n",
    "output_file = 'ui_player_data.xlsx'\n",
    "\n",
    "# Save the DataFrame to an Excel file\n",
    "new_df.to_excel(output_file, index=False)\n",
    "\n",
    "print(f\"Data saved to {output_file}\")\n"
   ],
   "metadata": {
    "collapsed": false,
    "ExecuteTime": {
     "end_time": "2023-10-20T17:20:21.696293800Z",
     "start_time": "2023-10-20T17:20:21.630899800Z"
    }
   },
   "id": "d7c9cc2cab563153"
  },
  {
   "cell_type": "code",
   "execution_count": null,
   "outputs": [],
   "source": [],
   "metadata": {
    "collapsed": false
   },
   "id": "7a7b3687cf9cc606"
  }
 ],
 "metadata": {
  "kernelspec": {
   "display_name": "Python 3",
   "language": "python",
   "name": "python3"
  },
  "language_info": {
   "codemirror_mode": {
    "name": "ipython",
    "version": 2
   },
   "file_extension": ".py",
   "mimetype": "text/x-python",
   "name": "python",
   "nbconvert_exporter": "python",
   "pygments_lexer": "ipython2",
   "version": "2.7.6"
  }
 },
 "nbformat": 4,
 "nbformat_minor": 5
}
