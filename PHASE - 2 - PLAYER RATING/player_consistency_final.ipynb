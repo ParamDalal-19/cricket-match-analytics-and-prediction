{
 "cells": [
  {
   "cell_type": "code",
   "execution_count": 1,
   "id": "initial_id",
   "metadata": {
    "collapsed": true,
    "ExecuteTime": {
     "end_time": "2023-10-17T11:08:10.774922200Z",
     "start_time": "2023-10-17T11:08:05.582088200Z"
    }
   },
   "outputs": [],
   "source": [
    "import pandas as pd\n",
    "\n",
    "# Load the data from both Excel sheets\n",
    "player_data = pd.read_excel('unique_player_data.xlsx')\n",
    "player_runs = pd.read_excel('player_runs.xlsx')\n",
    "\n",
    "# Merge the data based on the 'Batter_full_name' column\n",
    "merged_data = player_runs.merge(player_data, left_on='Batter_full_name', right_on='Player Name', how='left')\n",
    "\n",
    "# Save the merged data back to 'player_runs.xlsx'\n",
    "merged_data.to_excel('player_runs_with_data.xlsx', index=False)\n"
   ]
  },
  {
   "cell_type": "code",
   "execution_count": 2,
   "outputs": [],
   "source": [
    "df = pd.read_excel('player_runs_with_data.xlsx') "
   ],
   "metadata": {
    "collapsed": false,
    "ExecuteTime": {
     "end_time": "2023-10-17T11:15:06.355854200Z",
     "start_time": "2023-10-17T11:15:03.713810300Z"
    }
   },
   "id": "ed68cc2ea82d730c"
  },
  {
   "cell_type": "code",
   "execution_count": 6,
   "outputs": [],
   "source": [
    "# Define your custom function to map strike_rate to strike_class\n",
    "def classify_strike_rate(strike_rate):\n",
    "    if strike_rate == \"teju\":\n",
    "        return 0\n",
    "    elif 0 <= int(strike_rate) <= 50:\n",
    "        return 1\n",
    "    elif 51 <= int(strike_rate) <= 100:\n",
    "        return 2\n",
    "    elif 101 <= int(strike_rate) <= 150:\n",
    "        return 3\n",
    "    elif 151 <= int(strike_rate) <= 200:\n",
    "        return 4\n",
    "    elif 201 <= int(strike_rate) <= 250:\n",
    "        return 5\n",
    "    else:\n",
    "        return 6  # You can handle out-of-range values as per your requirement\n",
    "\n",
    "# Apply the custom function to create the \"strike_class\" column\n",
    "df['strike_class'] = df['Strike Rate'].apply(classify_strike_rate)\n",
    "\n",
    "# Save the DataFrame back to an Excel file if needed\n",
    "df.to_excel('player_runs_with_data.xlsx', index=False)"
   ],
   "metadata": {
    "collapsed": false,
    "ExecuteTime": {
     "end_time": "2023-10-17T11:21:31.800821400Z",
     "start_time": "2023-10-17T11:21:27.276523700Z"
    }
   },
   "id": "95882dbce41e701e"
  },
  {
   "cell_type": "code",
   "execution_count": 12,
   "outputs": [],
   "source": [
    "import pandas as pd\n",
    "\n",
    "batsmen_total_score = pd.read_excel(\"batsmen_total_score.xlsx\")\n",
    "player_runs_with_data = pd.read_excel(\"player_runs_with_data.xlsx\")\n"
   ],
   "metadata": {
    "collapsed": false,
    "ExecuteTime": {
     "end_time": "2023-10-17T11:53:40.809704100Z",
     "start_time": "2023-10-17T11:53:13.387935500Z"
    }
   },
   "id": "757bb6590ab2d03"
  },
  {
   "cell_type": "code",
   "execution_count": 13,
   "outputs": [],
   "source": [
    "batsmen_total_score = batsmen_total_score.merge(\n",
    "    player_runs_with_data[[\"match\", \"batter\", \"Highest Score\", \"strike_class\", \"Total Not Outs\"]],\n",
    "    on=[\"match\", \"batter\"],\n",
    "    how=\"left\"\n",
    ")\n"
   ],
   "metadata": {
    "collapsed": false,
    "ExecuteTime": {
     "end_time": "2023-10-17T11:53:53.237969700Z",
     "start_time": "2023-10-17T11:53:53.168238200Z"
    }
   },
   "id": "4d7716dd47d7123d"
  },
  {
   "cell_type": "code",
   "execution_count": 14,
   "outputs": [],
   "source": [
    "batsmen_total_score.to_excel(\"batsmen_total_score_updated.xlsx\", index=False)\n"
   ],
   "metadata": {
    "collapsed": false,
    "ExecuteTime": {
     "end_time": "2023-10-17T11:55:05.701920200Z",
     "start_time": "2023-10-17T11:53:55.189902800Z"
    }
   },
   "id": "9bb1cdf7861fcedf"
  },
  {
   "cell_type": "code",
   "execution_count": null,
   "outputs": [],
   "source": [],
   "metadata": {
    "collapsed": false
   },
   "id": "be34854e496e4603"
  }
 ],
 "metadata": {
  "kernelspec": {
   "display_name": "Python 3",
   "language": "python",
   "name": "python3"
  },
  "language_info": {
   "codemirror_mode": {
    "name": "ipython",
    "version": 2
   },
   "file_extension": ".py",
   "mimetype": "text/x-python",
   "name": "python",
   "nbconvert_exporter": "python",
   "pygments_lexer": "ipython2",
   "version": "2.7.6"
  }
 },
 "nbformat": 4,
 "nbformat_minor": 5
}
