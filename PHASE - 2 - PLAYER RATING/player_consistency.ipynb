{
 "cells": [
  {
   "cell_type": "code",
   "execution_count": 1,
   "id": "initial_id",
   "metadata": {
    "collapsed": true,
    "ExecuteTime": {
     "end_time": "2023-10-17T10:23:17.154369200Z",
     "start_time": "2023-10-17T10:22:49.382785100Z"
    }
   },
   "outputs": [
    {
     "data": {
      "text/plain": "     Match               Inning  Over  Delivery     Batter    Bowler  \\\n0  1082591  Sunrisers Hyderabad     0         1  DA Warner  TS Mills   \n1  1082591  Sunrisers Hyderabad     0         2  DA Warner  TS Mills   \n2  1082591  Sunrisers Hyderabad     0         3  DA Warner  TS Mills   \n3  1082591  Sunrisers Hyderabad     0         4  DA Warner  TS Mills   \n4  1082591  Sunrisers Hyderabad     0         5  DA Warner  TS Mills   \n\n  Non-Striker  Runs  Extras  Total Runs  Total Player Out Wicket Kind Fielder  \n0    S Dhawan     0       0           0      0        NaN         NaN     NaN  \n1    S Dhawan     0       0           0      0        NaN         NaN     NaN  \n2    S Dhawan     4       0           4      4        NaN         NaN     NaN  \n3    S Dhawan     0       0           0      4        NaN         NaN     NaN  \n4    S Dhawan     0       2           2      6        NaN         NaN     NaN  ",
      "text/html": "<div>\n<style scoped>\n    .dataframe tbody tr th:only-of-type {\n        vertical-align: middle;\n    }\n\n    .dataframe tbody tr th {\n        vertical-align: top;\n    }\n\n    .dataframe thead th {\n        text-align: right;\n    }\n</style>\n<table border=\"1\" class=\"dataframe\">\n  <thead>\n    <tr style=\"text-align: right;\">\n      <th></th>\n      <th>Match</th>\n      <th>Inning</th>\n      <th>Over</th>\n      <th>Delivery</th>\n      <th>Batter</th>\n      <th>Bowler</th>\n      <th>Non-Striker</th>\n      <th>Runs</th>\n      <th>Extras</th>\n      <th>Total Runs</th>\n      <th>Total</th>\n      <th>Player Out</th>\n      <th>Wicket Kind</th>\n      <th>Fielder</th>\n    </tr>\n  </thead>\n  <tbody>\n    <tr>\n      <th>0</th>\n      <td>1082591</td>\n      <td>Sunrisers Hyderabad</td>\n      <td>0</td>\n      <td>1</td>\n      <td>DA Warner</td>\n      <td>TS Mills</td>\n      <td>S Dhawan</td>\n      <td>0</td>\n      <td>0</td>\n      <td>0</td>\n      <td>0</td>\n      <td>NaN</td>\n      <td>NaN</td>\n      <td>NaN</td>\n    </tr>\n    <tr>\n      <th>1</th>\n      <td>1082591</td>\n      <td>Sunrisers Hyderabad</td>\n      <td>0</td>\n      <td>2</td>\n      <td>DA Warner</td>\n      <td>TS Mills</td>\n      <td>S Dhawan</td>\n      <td>0</td>\n      <td>0</td>\n      <td>0</td>\n      <td>0</td>\n      <td>NaN</td>\n      <td>NaN</td>\n      <td>NaN</td>\n    </tr>\n    <tr>\n      <th>2</th>\n      <td>1082591</td>\n      <td>Sunrisers Hyderabad</td>\n      <td>0</td>\n      <td>3</td>\n      <td>DA Warner</td>\n      <td>TS Mills</td>\n      <td>S Dhawan</td>\n      <td>4</td>\n      <td>0</td>\n      <td>4</td>\n      <td>4</td>\n      <td>NaN</td>\n      <td>NaN</td>\n      <td>NaN</td>\n    </tr>\n    <tr>\n      <th>3</th>\n      <td>1082591</td>\n      <td>Sunrisers Hyderabad</td>\n      <td>0</td>\n      <td>4</td>\n      <td>DA Warner</td>\n      <td>TS Mills</td>\n      <td>S Dhawan</td>\n      <td>0</td>\n      <td>0</td>\n      <td>0</td>\n      <td>4</td>\n      <td>NaN</td>\n      <td>NaN</td>\n      <td>NaN</td>\n    </tr>\n    <tr>\n      <th>4</th>\n      <td>1082591</td>\n      <td>Sunrisers Hyderabad</td>\n      <td>0</td>\n      <td>5</td>\n      <td>DA Warner</td>\n      <td>TS Mills</td>\n      <td>S Dhawan</td>\n      <td>0</td>\n      <td>2</td>\n      <td>2</td>\n      <td>6</td>\n      <td>NaN</td>\n      <td>NaN</td>\n      <td>NaN</td>\n    </tr>\n  </tbody>\n</table>\n</div>"
     },
     "execution_count": 1,
     "metadata": {},
     "output_type": "execute_result"
    }
   ],
   "source": [
    "import pandas as pd\n",
    "df = pd.read_excel(\"../PHASE - 1 - DATA EXTRACTION/cric_data.xlsx\")\n",
    "df.head()"
   ]
  },
  {
   "cell_type": "code",
   "execution_count": 6,
   "outputs": [],
   "source": [
    "# Create a dictionary to store the cumulative runs for each batsman in each match\n",
    "cumulative_runs = {}\n",
    "\n",
    "# Iterate through the rows in the DataFrame\n",
    "for index, row in df.iterrows():\n",
    "    match = row['Match']\n",
    "    batter = row['Batter']\n",
    "    runs = row['Runs']\n",
    "    \n",
    "    # Check if the batsman has played in this match\n",
    "    if match not in cumulative_runs:\n",
    "        cumulative_runs[match] = {batter:runs}\n",
    "    else:\n",
    "        if batter not in cumulative_runs[match]:\n",
    "            cumulative_runs[match][batter] = runs\n",
    "        else:\n",
    "            cumulative_runs[match][batter] += runs\n",
    "# print(cumulative_runs)\n",
    "for index, row in df.iterrows():\n",
    "    match = row['Match']\n",
    "    batter = row['Batter']\n",
    "    \n",
    "    # Set the total_run_batter value in the DataFrame\n",
    "    df.at[index, 'total_run_batter'] = cumulative_runs[match][batter]\n",
    "# \n",
    "# Save the DataFrame back to an Excel file if needed\n",
    "df.to_excel(\"batsmen_total_score.xlsx\", index=False)  # Replace \"output_ipl_data.xlsx\" with your desired file path\n"
   ],
   "metadata": {
    "collapsed": false,
    "ExecuteTime": {
     "end_time": "2023-10-17T10:52:13.842266700Z",
     "start_time": "2023-10-17T10:50:55.160139700Z"
    }
   },
   "id": "74da9cae69b82978"
  },
  {
   "cell_type": "code",
   "execution_count": 7,
   "outputs": [],
   "source": [
    "# Convert the dictionary to a pandas DataFrame\n",
    "df = pd.DataFrame([(match, batter, runs) for match, values in cumulative_runs.items() for batter, runs in values.items()],\n",
    "                  columns=[\"match\", \"batter\", \"runs\"])\n",
    "\n",
    "# Create a new Excel file with the data\n",
    "with pd.ExcelWriter('player_runs.xlsx') as writer:\n",
    "    df.to_excel(writer, sheet_name='Sheet1', index=False)"
   ],
   "metadata": {
    "collapsed": false,
    "ExecuteTime": {
     "end_time": "2023-10-17T10:55:17.673804800Z",
     "start_time": "2023-10-17T10:55:16.853017Z"
    }
   },
   "id": "d4aa5b6167090f57"
  },
  {
   "cell_type": "code",
   "execution_count": null,
   "outputs": [],
   "source": [],
   "metadata": {
    "collapsed": false
   },
   "id": "ca8bbf857730b9a6"
  }
 ],
 "metadata": {
  "kernelspec": {
   "display_name": "Python 3",
   "language": "python",
   "name": "python3"
  },
  "language_info": {
   "codemirror_mode": {
    "name": "ipython",
    "version": 2
   },
   "file_extension": ".py",
   "mimetype": "text/x-python",
   "name": "python",
   "nbconvert_exporter": "python",
   "pygments_lexer": "ipython2",
   "version": "2.7.6"
  }
 },
 "nbformat": 4,
 "nbformat_minor": 5
}
