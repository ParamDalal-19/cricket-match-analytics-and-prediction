{
 "cells": [
  {
   "cell_type": "code",
   "execution_count": 7,
   "id": "initial_id",
   "metadata": {
    "collapsed": true,
    "ExecuteTime": {
     "end_time": "2023-10-17T12:15:02.555478700Z",
     "start_time": "2023-10-17T12:14:49.112429500Z"
    }
   },
   "outputs": [],
   "source": [
    "import pandas as pd \n",
    "data = pd.read_excel(\"neuralnet_data.xlsx\")"
   ]
  },
  {
   "cell_type": "code",
   "execution_count": 8,
   "outputs": [
    {
     "data": {
      "text/plain": "   Over  Delivery  Highest Score  strike_class  Total Not Outs  \\\n0     0         1            126             3              22   \n1     0         2            126             3              22   \n2     0         3            126             3              22   \n3     0         4            126             3              22   \n4     0         5            126             3              22   \n\n   total_run_batter  \n0                14  \n1                14  \n2                14  \n3                14  \n4                14  ",
      "text/html": "<div>\n<style scoped>\n    .dataframe tbody tr th:only-of-type {\n        vertical-align: middle;\n    }\n\n    .dataframe tbody tr th {\n        vertical-align: top;\n    }\n\n    .dataframe thead th {\n        text-align: right;\n    }\n</style>\n<table border=\"1\" class=\"dataframe\">\n  <thead>\n    <tr style=\"text-align: right;\">\n      <th></th>\n      <th>Over</th>\n      <th>Delivery</th>\n      <th>Highest Score</th>\n      <th>strike_class</th>\n      <th>Total Not Outs</th>\n      <th>total_run_batter</th>\n    </tr>\n  </thead>\n  <tbody>\n    <tr>\n      <th>0</th>\n      <td>0</td>\n      <td>1</td>\n      <td>126</td>\n      <td>3</td>\n      <td>22</td>\n      <td>14</td>\n    </tr>\n    <tr>\n      <th>1</th>\n      <td>0</td>\n      <td>2</td>\n      <td>126</td>\n      <td>3</td>\n      <td>22</td>\n      <td>14</td>\n    </tr>\n    <tr>\n      <th>2</th>\n      <td>0</td>\n      <td>3</td>\n      <td>126</td>\n      <td>3</td>\n      <td>22</td>\n      <td>14</td>\n    </tr>\n    <tr>\n      <th>3</th>\n      <td>0</td>\n      <td>4</td>\n      <td>126</td>\n      <td>3</td>\n      <td>22</td>\n      <td>14</td>\n    </tr>\n    <tr>\n      <th>4</th>\n      <td>0</td>\n      <td>5</td>\n      <td>126</td>\n      <td>3</td>\n      <td>22</td>\n      <td>14</td>\n    </tr>\n  </tbody>\n</table>\n</div>"
     },
     "execution_count": 8,
     "metadata": {},
     "output_type": "execute_result"
    }
   ],
   "source": [
    "data.head()"
   ],
   "metadata": {
    "collapsed": false,
    "ExecuteTime": {
     "end_time": "2023-10-17T12:15:13.014794200Z",
     "start_time": "2023-10-17T12:15:12.982986100Z"
    }
   },
   "id": "3abd14e6cf9a1532"
  },
  {
   "cell_type": "code",
   "execution_count": 9,
   "outputs": [
    {
     "name": "stdout",
     "output_type": "stream",
     "text": [
      "Mean Squared Error: 606.7087462161974\n",
      "R-squared: 0.10641316178539295\n"
     ]
    }
   ],
   "source": [
    "import pandas as pd\n",
    "from sklearn.model_selection import train_test_split\n",
    "from sklearn.linear_model import LinearRegression\n",
    "from sklearn.metrics import mean_squared_error, r2_score\n",
    "\n",
    "# Define the features and the target variable\n",
    "X = data[['Over', 'Delivery', 'Highest Score', 'strike_class', 'Total Not Outs']]\n",
    "y = data['total_run_batter']\n",
    "\n",
    "# Split the data into training and testing sets\n",
    "X_train, X_test, y_train, y_test = train_test_split(X, y, test_size=0.2, random_state=42)\n",
    "\n",
    "# Create a Linear Regression model\n",
    "model = LinearRegression()\n",
    "\n",
    "# Fit the model to the training data\n",
    "model.fit(X_train, y_train)\n",
    "\n",
    "# Make predictions on the test data\n",
    "y_pred = model.predict(X_test)\n",
    "\n",
    "# Evaluate the model\n",
    "mse = mean_squared_error(y_test, y_pred)\n",
    "r2 = r2_score(y_test, y_pred)\n",
    "\n",
    "print(f\"Mean Squared Error: {mse}\")\n",
    "print(f\"R-squared: {r2}\")\n",
    "\n",
    "# # Now you can use the model to predict 'total_run_batter' for new data\n",
    "# new_data = pd.DataFrame({\n",
    "#     'Over': [...],\n",
    "#     'Delivery': [...],\n",
    "#     'Highest Score': [...],\n",
    "#     'strike_class': [...],\n",
    "#     'Total Not Outs': [...]\n",
    "# })\n",
    "# \n",
    "# predicted_total_run_batter = model.predict(new_data)\n"
   ],
   "metadata": {
    "collapsed": false,
    "ExecuteTime": {
     "end_time": "2023-10-17T12:15:14.388602700Z",
     "start_time": "2023-10-17T12:15:14.301801400Z"
    }
   },
   "id": "d2e006497c0ef0cf"
  },
  {
   "cell_type": "code",
   "execution_count": 15,
   "outputs": [],
   "source": [
    "import pandas as pd\n",
    "import numpy as np\n",
    "from sklearn.model_selection import train_test_split\n",
    "from sklearn.preprocessing import StandardScaler\n",
    "import tensorflow as tf\n",
    "from tensorflow import keras\n",
    "from sklearn.metrics import mean_squared_error, r2_score\n",
    "\n",
    "# Load your data from the Excel file\n",
    "data = pd.read_excel('neuralnet_data.xlsx')\n",
    "\n",
    "\n"
   ],
   "metadata": {
    "collapsed": false,
    "ExecuteTime": {
     "end_time": "2023-10-17T12:59:27.219218100Z",
     "start_time": "2023-10-17T12:58:54.204233100Z"
    }
   },
   "id": "ef08fd4a2aefabd3"
  },
  {
   "cell_type": "code",
   "execution_count": 16,
   "outputs": [
    {
     "name": "stdout",
     "output_type": "stream",
     "text": [
      "Epoch 1/20\n",
      "4877/4877 [==============================] - 17s 3ms/step - loss: 900.7606 - val_loss: 579.0464\n",
      "Epoch 2/20\n",
      "4877/4877 [==============================] - 17s 4ms/step - loss: 566.4748 - val_loss: 559.6896\n",
      "Epoch 3/20\n",
      "4877/4877 [==============================] - 17s 3ms/step - loss: 554.8989 - val_loss: 553.1742\n",
      "Epoch 4/20\n",
      "4877/4877 [==============================] - 17s 3ms/step - loss: 550.0358 - val_loss: 549.8781\n",
      "Epoch 5/20\n",
      "4877/4877 [==============================] - 17s 3ms/step - loss: 547.5253 - val_loss: 548.1980\n",
      "Epoch 6/20\n",
      "4877/4877 [==============================] - 16s 3ms/step - loss: 546.0750 - val_loss: 547.1263\n",
      "Epoch 7/20\n",
      "4877/4877 [==============================] - 16s 3ms/step - loss: 545.1877 - val_loss: 546.6481\n",
      "Epoch 8/20\n",
      "4877/4877 [==============================] - 16s 3ms/step - loss: 544.5866 - val_loss: 546.7093\n",
      "Epoch 9/20\n",
      "4877/4877 [==============================] - 16s 3ms/step - loss: 544.1299 - val_loss: 545.4030\n",
      "Epoch 10/20\n",
      "4877/4877 [==============================] - 17s 3ms/step - loss: 543.7774 - val_loss: 545.2283\n",
      "Epoch 11/20\n",
      "4877/4877 [==============================] - 16s 3ms/step - loss: 543.4600 - val_loss: 544.8973\n",
      "Epoch 12/20\n",
      "4877/4877 [==============================] - 16s 3ms/step - loss: 543.1821 - val_loss: 544.8286\n",
      "Epoch 13/20\n",
      "4877/4877 [==============================] - 16s 3ms/step - loss: 542.9907 - val_loss: 544.5795\n",
      "Epoch 14/20\n",
      "4877/4877 [==============================] - 16s 3ms/step - loss: 542.8909 - val_loss: 544.3627\n",
      "Epoch 15/20\n",
      "4877/4877 [==============================] - 17s 4ms/step - loss: 542.7444 - val_loss: 544.3571\n",
      "Epoch 16/20\n",
      "4877/4877 [==============================] - 17s 4ms/step - loss: 542.6611 - val_loss: 544.2748\n",
      "Epoch 17/20\n",
      "4877/4877 [==============================] - 18s 4ms/step - loss: 542.6265 - val_loss: 544.9855\n",
      "Epoch 18/20\n",
      "4877/4877 [==============================] - 18s 4ms/step - loss: 542.6517 - val_loss: 544.2021\n",
      "Epoch 19/20\n",
      "4877/4877 [==============================] - 17s 4ms/step - loss: 542.6084 - val_loss: 544.0334\n",
      "Epoch 20/20\n",
      "4877/4877 [==============================] - 18s 4ms/step - loss: 542.5220 - val_loss: 544.9007\n",
      "1524/1524 [==============================] - 4s 2ms/step\n"
     ]
    },
    {
     "ename": "ValueError",
     "evalue": "non-broadcastable output operand with shape (48764,1) doesn't match the broadcast shape (48764,5)",
     "output_type": "error",
     "traceback": [
      "\u001B[1;31m---------------------------------------------------------------------------\u001B[0m",
      "\u001B[1;31mValueError\u001B[0m                                Traceback (most recent call last)",
      "Cell \u001B[1;32mIn[16], line 29\u001B[0m\n\u001B[0;32m     26\u001B[0m y_pred \u001B[38;5;241m=\u001B[39m model\u001B[38;5;241m.\u001B[39mpredict(X_test)\n\u001B[0;32m     28\u001B[0m \u001B[38;5;66;03m# Inverse transform the predictions (if you scaled the input features)\u001B[39;00m\n\u001B[1;32m---> 29\u001B[0m y_pred \u001B[38;5;241m=\u001B[39m \u001B[43mscaler\u001B[49m\u001B[38;5;241;43m.\u001B[39;49m\u001B[43minverse_transform\u001B[49m\u001B[43m(\u001B[49m\u001B[43my_pred\u001B[49m\u001B[43m)\u001B[49m\n\u001B[0;32m     31\u001B[0m \u001B[38;5;66;03m# Evaluate the model\u001B[39;00m\n\u001B[0;32m     32\u001B[0m mse \u001B[38;5;241m=\u001B[39m mean_squared_error(y_test, y_pred)\n",
      "File \u001B[1;32mC:\\Disc D\\NMIMS\\capstone\\venv\\Lib\\site-packages\\sklearn\\preprocessing\\_data.py:1066\u001B[0m, in \u001B[0;36mStandardScaler.inverse_transform\u001B[1;34m(self, X, copy)\u001B[0m\n\u001B[0;32m   1064\u001B[0m \u001B[38;5;28;01melse\u001B[39;00m:\n\u001B[0;32m   1065\u001B[0m     \u001B[38;5;28;01mif\u001B[39;00m \u001B[38;5;28mself\u001B[39m\u001B[38;5;241m.\u001B[39mwith_std:\n\u001B[1;32m-> 1066\u001B[0m         \u001B[43mX\u001B[49m\u001B[43m \u001B[49m\u001B[38;5;241;43m*\u001B[39;49m\u001B[38;5;241;43m=\u001B[39;49m\u001B[43m \u001B[49m\u001B[38;5;28;43mself\u001B[39;49m\u001B[38;5;241;43m.\u001B[39;49m\u001B[43mscale_\u001B[49m\n\u001B[0;32m   1067\u001B[0m     \u001B[38;5;28;01mif\u001B[39;00m \u001B[38;5;28mself\u001B[39m\u001B[38;5;241m.\u001B[39mwith_mean:\n\u001B[0;32m   1068\u001B[0m         X \u001B[38;5;241m+\u001B[39m\u001B[38;5;241m=\u001B[39m \u001B[38;5;28mself\u001B[39m\u001B[38;5;241m.\u001B[39mmean_\n",
      "\u001B[1;31mValueError\u001B[0m: non-broadcastable output operand with shape (48764,1) doesn't match the broadcast shape (48764,5)"
     ]
    }
   ],
   "source": [
    "# Define the features and the target variable\n",
    "X = data[['Over', 'Delivery', 'Highest Score', 'strike_class', 'Total Not Outs']]\n",
    "y = data['total_run_batter']\n",
    "\n",
    "# Split the data into training and testing sets\n",
    "X_train, X_test, y_train, y_test = train_test_split(X, y, test_size=0.2, random_state=42)\n",
    "\n",
    "# Standardize the input features (important for neural networks)\n",
    "scaler = StandardScaler()\n",
    "X_train = scaler.fit_transform(X_train)\n",
    "X_test = scaler.transform(X_test)\n",
    "\n",
    "# Build a simple neural network\n",
    "model = keras.Sequential([\n",
    "    keras.layers.Dense(5, activation='relu', input_shape=(X_train.shape[1],)),\n",
    "    keras.layers.Dense(1)  # Output layer with a single unit for regression\n",
    "])\n",
    "\n",
    "# Compile the model\n",
    "model.compile(optimizer='adam', loss='mean_squared_error')\n",
    "\n",
    "# Train the model\n",
    "model.fit(X_train, y_train, epochs=20, batch_size=32, validation_split=0.2)\n",
    "\n",
    "# Make predictions on the test data\n",
    "y_pred = model.predict(X_test)\n",
    "\n",
    "# Inverse transform the predictions (if you scaled the input features)\n",
    "y_pred = scaler.inverse_transform(y_pred)\n",
    "\n",
    "# Evaluate the model\n",
    "mse = mean_squared_error(y_test, y_pred)\n",
    "r2 = r2_score(y_test, y_pred)\n",
    "\n",
    "print(f\"Mean Squared Error: {mse}\")\n",
    "print(f\"R-squared: {r2}\")"
   ],
   "metadata": {
    "collapsed": false,
    "ExecuteTime": {
     "end_time": "2023-10-17T13:05:10.975076800Z",
     "start_time": "2023-10-17T12:59:30.257494900Z"
    }
   },
   "id": "4929cb955ee2883a"
  },
  {
   "cell_type": "code",
   "execution_count": null,
   "outputs": [],
   "source": [],
   "metadata": {
    "collapsed": false
   },
   "id": "35fc698b2f9cbd8"
  }
 ],
 "metadata": {
  "kernelspec": {
   "display_name": "Python 3",
   "language": "python",
   "name": "python3"
  },
  "language_info": {
   "codemirror_mode": {
    "name": "ipython",
    "version": 2
   },
   "file_extension": ".py",
   "mimetype": "text/x-python",
   "name": "python",
   "nbconvert_exporter": "python",
   "pygments_lexer": "ipython2",
   "version": "2.7.6"
  }
 },
 "nbformat": 4,
 "nbformat_minor": 5
}
